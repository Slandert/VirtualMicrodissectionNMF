{
 "cells": [
  {
   "cell_type": "code",
   "execution_count": 1,
   "metadata": {
    "collapsed": false
   },
   "outputs": [
    {
     "name": "stderr",
     "output_type": "stream",
     "text": [
      "Loading required package: pkgmaker\n",
      "Loading required package: registry\n",
      "\n",
      "Attaching package: 'pkgmaker'\n",
      "\n",
      "The following object is masked from 'package:base':\n",
      "\n",
      "    isNamespaceLoaded\n",
      "\n",
      "Loading required package: rngtools\n",
      "Loading required package: cluster\n",
      "NMF - BioConductor layer [OK] | Shared memory capabilities [NO: windows] | Cores 3/4\n",
      "matrixStats v0.51.0 (2016-10-08) successfully loaded. See ?matrixStats for help.\n",
      "\n",
      "Attaching package: 'matrixStats'\n",
      "\n",
      "The following objects are masked from 'package:Biobase':\n",
      "\n",
      "    anyMissing, rowMedians\n",
      "\n",
      "Setting options('download.file.method.GEOquery'='auto')\n",
      "Setting options('GEOquery.inmemory.gpl'=FALSE)\n",
      "Bioconductor version 3.4 (BiocInstaller 1.24.0), ?biocLite for help\n",
      "BioC_mirror: https://bioconductor.org\n",
      "Using Bioconductor 3.4 (BiocInstaller 1.24.0), R 3.3.2 (2016-10-31).\n",
      "Installing package(s) 'Biobase'\n",
      "Warning message:\n",
      "\"package 'Biobase' is in use and will not be installed\"Old packages: 'backports', 'broom', 'colorspace', 'data.table', 'digest',\n",
      "  'forcats', 'GenomeInfoDb', 'GenomicFeatures', 'GenomicRanges', 'ggplot2',\n",
      "  'jsonlite', 'Matrix', 'mgcv', 'nlme', 'openssl', 'pbdZMQ', 'psych', 'Rcpp',\n",
      "  'rmarkdown', 'rprojroot', 'rtracklayer', 'selectr', 'shiny', 'stringr',\n",
      "  'tidyr', 'tidyverse', 'xml2', 'zoo'\n",
      "BioC_mirror: https://bioconductor.org\n",
      "Using Bioconductor 3.4 (BiocInstaller 1.24.0), R 3.3.2 (2016-10-31).\n",
      "Installing package(s) 'GEOquery'\n",
      "Warning message:\n",
      "\"package 'GEOquery' is in use and will not be installed\"Old packages: 'backports', 'broom', 'colorspace', 'data.table', 'digest',\n",
      "  'forcats', 'GenomeInfoDb', 'GenomicFeatures', 'GenomicRanges', 'ggplot2',\n",
      "  'jsonlite', 'Matrix', 'mgcv', 'nlme', 'openssl', 'pbdZMQ', 'psych', 'Rcpp',\n",
      "  'rmarkdown', 'rprojroot', 'rtracklayer', 'selectr', 'shiny', 'stringr',\n",
      "  'tidyr', 'tidyverse', 'xml2', 'zoo'\n"
     ]
    }
   ],
   "source": [
    "#install.packages('NMF', repos='http://cran.us.r-project.org')\n",
    "library(NMF)\n",
    "library(matrixStats)\n",
    "library(GEOquery)\n",
    "library(matrixStats)\n",
    "\n",
    "source(\"https://bioconductor.org/biocLite.R\")\n",
    "biocLite('Biobase')\n",
    "biocLite('GEOquery')"
   ]
  },
  {
   "cell_type": "code",
   "execution_count": 3,
   "metadata": {
    "collapsed": false
   },
   "outputs": [
    {
     "name": "stderr",
     "output_type": "stream",
     "text": [
      "https://ftp.ncbi.nlm.nih.gov/geo/series/GSE21nnn/GSE21501/matrix/\n",
      "OK\n",
      "Found 1 file(s)\n",
      "GSE21501_series_matrix.txt.gz\n",
      "File stored at: \n",
      "C:\\Users\\mayars1\\AppData\\Local\\Temp\\RtmpWIRW8i/GPL4133.soft\n",
      "Warning message in read.table(file = file, header = header, sep = sep, quote = quote, :\n",
      "\"not all columns named in 'colClasses' exist\""
     ]
    },
    {
     "data": {
      "text/html": [
       "<dl class=dl-horizontal>\n",
       "\t<dt>Features</dt>\n",
       "\t\t<dd>45220</dd>\n",
       "\t<dt>Samples</dt>\n",
       "\t\t<dd>132</dd>\n",
       "</dl>\n"
      ],
      "text/latex": [
       "\\begin{description*}\n",
       "\\item[Features] 45220\n",
       "\\item[Samples] 132\n",
       "\\end{description*}\n"
      ],
      "text/markdown": [
       "Features\n",
       ":   45220Samples\n",
       ":   132\n",
       "\n"
      ],
      "text/plain": [
       "Features  Samples \n",
       "   45220      132 "
      ]
     },
     "metadata": {},
     "output_type": "display_data"
    },
    {
     "data": {
      "text/html": [
       "'ExpressionSet'"
      ],
      "text/latex": [
       "'ExpressionSet'"
      ],
      "text/markdown": [
       "'ExpressionSet'"
      ],
      "text/plain": [
       "[1] \"ExpressionSet\"\n",
       "attr(,\"package\")\n",
       "[1] \"Biobase\""
      ]
     },
     "metadata": {},
     "output_type": "display_data"
    }
   ],
   "source": [
    "gseNum = 'GSE21501'\n",
    "\n",
    "k = 14\n",
    "num_runs = 10\n",
    "nmf_method = 'brunet'\n",
    "\n",
    "num_genes = 500\n",
    "\n",
    "#retrieve GEO dataset, pull out expression set object, and convert it to nonnegative format for nmf.\n",
    "\n",
    "gse <- getGEO(gseNum, GSEMatrix=TRUE)\n",
    "exprSetGSE <- gse[[1]]\n",
    "dim(exprSetGSE)\n",
    "class(exprSetGSE)\n",
    "\n",
    "input_exprs <- exprs(exprSetGSE)\n",
    "unlog_exprs <- (2^input_exprs) + 1\n",
    "nn_exprs <- log2(unlog_exprs)\n",
    "\n",
    "#temporary truncation, to speed nmf runs\n",
    "\n",
    "sub_nn_exprs <- nn_exprs[1:num_genes,]\n",
    "\n",
    "#rv <- rowVars(exprs(exprSetGSE))\n",
    "#select = order(rv, decreasing=TRUE)[seq_len(5000)]\n",
    "#pca = prcomp(t(exprs(exprSetGSE)[select,]))"
   ]
  },
  {
   "cell_type": "code",
   "execution_count": 4,
   "metadata": {
    "collapsed": false,
    "scrolled": true
   },
   "outputs": [
    {
     "name": "stdout",
     "output_type": "stream",
     "text": [
      "Compute NMF rank= 12  ... + measures ... OK\n",
      "Compute NMF rank= 13  ... + measures ... OK\n",
      "Compute NMF rank= 14  ... + measures ... OK\n",
      "Compute NMF rank= 15  ... + measures ... OK\n"
     ]
    }
   ],
   "source": [
    "res <- nmf(sub_nn_exprs, seq(12, k+1, 1), nrun = num_runs, method=nmf_method, .opt = \"v\", seed=5932)"
   ]
  },
  {
   "cell_type": "code",
   "execution_count": 5,
   "metadata": {
    "collapsed": false
   },
   "outputs": [
    {
     "data": {},
     "metadata": {},
     "output_type": "display_data"
    },
    {
     "data": {
      "image/png": "[encoded data removed]",
      "text/plain": [
       "plot without title"
      ]
     },
     "metadata": {},
     "output_type": "display_data"
    }
   ],
   "source": [
    "plot(res)"
   ]
  },
  {
   "cell_type": "code",
   "execution_count": 56,
   "metadata": {
    "collapsed": false
   },
   "outputs": [
    {
     "name": "stdout",
     "output_type": "stream",
     "text": [
      "[1] \"Suggested k value: 14\"\n"
     ]
    }
   ],
   "source": [
    "k<-14\n",
    "sum_nmf <- summary(res)\n",
    "k_list <- seq(12, k+1, 1)\n",
    "cophenetic <- sum_nmf[,\"cophenetic\"]\n",
    "peak <- rep(0, length(k_list))\n",
    "\n",
    "for (i in 2:(length(cophenetic) - 1)) if (cophenetic[i-1] < cophenetic[i] & cophenetic[i] > cophenetic[i+1]) {\n",
    "    peak[i] <- 1\n",
    "}\n",
    "    \n",
    "peaks <- k_list[peak == 1]\n",
    "k <- rev(peaks)[1]\n",
    "    \n",
    "print(paste(\"Suggested k value:\", k))"
   ]
  },
  {
   "cell_type": "code",
   "execution_count": 57,
   "metadata": {
    "collapsed": false
   },
   "outputs": [
    {
     "data": {
      "image/png": "[encoded data removed]",
      "text/plain": [
       "plot without title"
      ]
     },
     "metadata": {},
     "output_type": "display_data"
    }
   ],
   "source": [
    "#The intent of the consensus map is to see how well the data segregates into k clusters.  \n",
    "\n",
    "consensusmap(res)"
   ]
  },
  {
   "cell_type": "code",
   "execution_count": 61,
   "metadata": {
    "collapsed": false
   },
   "outputs": [
    {
     "ename": "ERROR",
     "evalue": "Error in (function (classes, fdef, mtable) : unable to find an inherited method for function 'coefmap' for signature '\"list\"'\n",
     "output_type": "error",
     "traceback": [
      "Error in (function (classes, fdef, mtable) : unable to find an inherited method for function 'coefmap' for signature '\"list\"'\nTraceback:\n",
      "1. coefmap(res[k])",
      "2. (function (classes, fdef, mtable) \n . {\n .     methods <- .findInheritedMethods(classes, fdef, mtable)\n .     if (length(methods) == 1L) \n .         return(methods[[1L]])\n .     else if (length(methods) == 0L) {\n .         cnames <- paste0(\"\\\"\", vapply(classes, as.character, \n .             \"\"), \"\\\"\", collapse = \", \")\n .         stop(gettextf(\"unable to find an inherited method for function %s for signature %s\", \n .             sQuote(fdef@generic), sQuote(cnames)), domain = NA)\n .     }\n .     else stop(\"Internal error in finding inherited methods; didn't return a unique method\", \n .         domain = NA)\n . })(list(\"list\"), structure(function (object, ...) \n . standardGeneric(\"coefmap\"), generic = structure(\"coefmap\", package = \"NMF\"), package = \"NMF\", group = list(), valueClass = character(0), signature = \"object\", default = `\\001NULL\\001`, skeleton = (function (object, \n .     ...) \n . stop(\"invalid call in method dispatch to 'coefmap' (no default method)\", \n .     domain = NA))(object, ...), class = structure(\"standardGeneric\", package = \"methods\")), \n .     <environment>)",
      "3. stop(gettextf(\"unable to find an inherited method for function %s for signature %s\", \n .     sQuote(fdef@generic), sQuote(cnames)), domain = NA)"
     ]
    }
   ],
   "source": [
    "#Mixture coefficients heatmap.  \n",
    "\n",
    "#coefmap(res)"
   ]
  },
  {
   "cell_type": "code",
   "execution_count": 63,
   "metadata": {
    "collapsed": false
   },
   "outputs": [],
   "source": [
    "#Using result from previous nmf run to seed NMF to convergence with alternating least-squares solver.\n",
    "#This takes a while to run.\n",
    "res <- nmf(sub_nn_exprs, k, method=nmf_method)\n",
    "res2 <- nmf(sub_nn_exprs, k, method=\"snmf/l\", seed = res)"
   ]
  },
  {
   "cell_type": "code",
   "execution_count": 66,
   "metadata": {
    "collapsed": false
   },
   "outputs": [
    {
     "data": {
      "text/html": [
       "<ol class=list-inline>\n",
       "\t<li>500</li>\n",
       "\t<li>132</li>\n",
       "\t<li>14</li>\n",
       "</ol>\n"
      ],
      "text/latex": [
       "\\begin{enumerate*}\n",
       "\\item 500\n",
       "\\item 132\n",
       "\\item 14\n",
       "\\end{enumerate*}\n"
      ],
      "text/markdown": [
       "1. 500\n",
       "2. 132\n",
       "3. 14\n",
       "\n",
       "\n"
      ],
      "text/plain": [
       "[1] 500 132  14"
      ]
     },
     "metadata": {},
     "output_type": "display_data"
    }
   ],
   "source": [
    "dim(res2)"
   ]
  },
  {
   "cell_type": "code",
   "execution_count": 65,
   "metadata": {
    "collapsed": false
   },
   "outputs": [
    {
     "data": {
      "text/html": [
       "<ol class=list-inline>\n",
       "\t<li>14</li>\n",
       "\t<li>132</li>\n",
       "</ol>\n"
      ],
      "text/latex": [
       "\\begin{enumerate*}\n",
       "\\item 14\n",
       "\\item 132\n",
       "\\end{enumerate*}\n"
      ],
      "text/markdown": [
       "1. 14\n",
       "2. 132\n",
       "\n",
       "\n"
      ],
      "text/plain": [
       "[1]  14 132"
      ]
     },
     "metadata": {},
     "output_type": "display_data"
    },
    {
     "data": {
      "text/html": [
       "<ol class=list-inline>\n",
       "\t<li>500</li>\n",
       "\t<li>14</li>\n",
       "</ol>\n"
      ],
      "text/latex": [
       "\\begin{enumerate*}\n",
       "\\item 500\n",
       "\\item 14\n",
       "\\end{enumerate*}\n"
      ],
      "text/markdown": [
       "1. 500\n",
       "2. 14\n",
       "\n",
       "\n"
      ],
      "text/plain": [
       "[1] 500  14"
      ]
     },
     "metadata": {},
     "output_type": "display_data"
    }
   ],
   "source": [
    "\n",
    "#NMF factors matrix V into matrices W (weights) and H (basis).\n",
    "\n",
    "#In this case, S = W (sample loadings) and G = H (gene loadings).\n",
    "\n",
    "\n",
    "S <- coef(res2)\n",
    "G <- basis(res2)\n",
    "\n",
    "dim(S)\n",
    "dim(G)"
   ]
  },
  {
   "cell_type": "code",
   "execution_count": 57,
   "metadata": {
    "collapsed": true
   },
   "outputs": [],
   "source": [
    "#Checkpoint\n",
    "\n",
    "#G <- read.csv('geneLoadings.csv', header=TRUE)\n",
    "#S <- read.csv('sampleLoadings.csv', header=TRUE)"
   ]
  },
  {
   "cell_type": "code",
   "execution_count": 58,
   "metadata": {
    "collapsed": false
   },
   "outputs": [],
   "source": [
    "#Normalize both G and S to make the column means of G = 1\n",
    "\n",
    "for (i in 1:14){\n",
    "    colMean <- mean(G[,i])\n",
    "    G[,i] <- G[,i] / colMean\n",
    "    S[i,] <- S[i,] * colMean\n",
    "}"
   ]
  },
  {
   "cell_type": "code",
   "execution_count": 60,
   "metadata": {
    "collapsed": false
   },
   "outputs": [],
   "source": [
    "diff_G <- G\n",
    "\n",
    "for (j in 1:14){\n",
    "    for (i in 1:2000){\n",
    "        G2[i, j] <- G2[i,j] - max(G[i, -j]) \n",
    "    }\n",
    "}\n",
    "\n",
    "#G2 is a matrix of differences between gene loading values (G) and the max loading value for that gene (outside of the present)\n",
    "#column.\n"
   ]
  },
  {
   "cell_type": "code",
   "execution_count": 61,
   "metadata": {
    "collapsed": false
   },
   "outputs": [
    {
     "name": "stdout",
     "output_type": "stream",
     "text": [
      "        12 \n",
      "0.02543401 \n",
      "[1] 2.000608\n",
      "        12 \n",
      "0.02543401 \n"
     ]
    }
   ],
   "source": [
    "#sanity check\n",
    "\n",
    "print(G[12,12])\n",
    "print(max(G[12,]))\n",
    "print(diff_G[12,12])"
   ]
  },
  {
   "cell_type": "code",
   "execution_count": 62,
   "metadata": {
    "collapsed": false
   },
   "outputs": [],
   "source": [
    "#G3 is the difference absolute values\n",
    "\n",
    "absVal_G <- abs(diff_G)"
   ]
  },
  {
   "cell_type": "code",
   "execution_count": 63,
   "metadata": {
    "collapsed": false
   },
   "outputs": [],
   "source": [
    "topGenes <- mat.or.vec(50,14)\n",
    "\n",
    "for(i in 1:14){\n",
    "    topGenes[,i]<-rownames(head(absVal_G[order(absVal_G[,i], decreasing=TRUE),0],50))  \n",
    "}"
   ]
  },
  {
   "cell_type": "code",
   "execution_count": null,
   "metadata": {
    "collapsed": false
   },
   "outputs": [],
   "source": []
  },
  {
   "cell_type": "code",
   "execution_count": 50,
   "metadata": {
    "collapsed": false
   },
   "outputs": [],
   "source": [
    "x <- nat4[,0]\n",
    "y <- colnames(nat4)"
   ]
  },
  {
   "cell_type": "code",
   "execution_count": 53,
   "metadata": {
    "collapsed": false
   },
   "outputs": [
    {
     "name": "stderr",
     "output_type": "stream",
     "text": [
      "Loading required package: splines\n"
     ]
    }
   ],
   "source": [
    "require(splines)"
   ]
  },
  {
   "cell_type": "code",
   "execution_count": 54,
   "metadata": {
    "collapsed": false
   },
   "outputs": [],
   "source": [
    "n_rep <- 200\n",
    "n_df <- 30\n",
    "df <- 1:n_df"
   ]
  },
  {
   "cell_type": "code",
   "execution_count": 58,
   "metadata": {
    "collapsed": false
   },
   "outputs": [],
   "source": [
    "beta <- c(5, -0.1, 0.004, -3e-05)\n",
    "n_train <- 104\n",
    "n_test <- 10000\n",
    "sigma_eps <- 0.5"
   ]
  },
  {
   "cell_type": "code",
   "execution_count": 60,
   "metadata": {
    "collapsed": false
   },
   "outputs": [
    {
     "name": "stderr",
     "output_type": "stream",
     "text": [
      "Warning message in if (nIknots < 0L) {:\n",
      "\"the condition has length > 1 and only the first element will be used\"Warning message in if (nIknots > 0L) {:\n",
      "\"the condition has length > 1 and only the first element will be used\"Warning message in seq.int(0, 1, length.out = nIknots + 2L):\n",
      "\"first element used of 'length.out' argument\""
     ]
    },
    {
     "ename": "ERROR",
     "evalue": "Error in quantile.default(x[!outside], knots): missing values and NaN's not allowed if 'na.rm' is FALSE\n",
     "output_type": "error",
     "traceback": [
      "Error in quantile.default(x[!outside], knots): missing values and NaN's not allowed if 'na.rm' is FALSE\nTraceback:\n",
      "1. apply(t(nat4), 2, function(degf) lm(y ~ ns(x, df = degf)))",
      "2. FUN(newX[, i], ...)",
      "3. lm(y ~ ns(x, df = degf))   # at line 1 of file <text>",
      "4. eval(mf, parent.frame())",
      "5. eval(expr, envir, enclos)",
      "6. stats::model.frame(formula = y ~ ns(x, df = degf), drop.unused.levels = TRUE)",
      "7. model.frame.default(formula = y ~ ns(x, df = degf), drop.unused.levels = TRUE)",
      "8. eval(predvars, data, env)",
      "9. eval(expr, envir, enclos)",
      "10. ns(x, df = degf)",
      "11. quantile(x[!outside], knots)",
      "12. quantile.default(x[!outside], knots)",
      "13. stop(\"missing values and NaN's not allowed if 'na.rm' is FALSE\")"
     ]
    }
   ],
   "source": [
    "fitted_models <- apply(t(nat4), 2, function(degf) lm(y ~ ns(x, df = degf)) )"
   ]
  },
  {
   "cell_type": "code",
   "execution_count": 59,
   "metadata": {
    "collapsed": false
   },
   "outputs": [
    {
     "ename": "ERROR",
     "evalue": "Error in eval(expr, envir, enclos): object 'degf' not found\n",
     "output_type": "error",
     "traceback": [
      "Error in eval(expr, envir, enclos): object 'degf' not found\nTraceback:\n"
     ]
    }
   ],
   "source": [
    "degf"
   ]
  },
  {
   "cell_type": "code",
   "execution_count": 61,
   "metadata": {
    "collapsed": false
   },
   "outputs": [],
   "source": [
    "xy <- res <- list()"
   ]
  },
  {
   "cell_type": "code",
   "execution_count": 67,
   "metadata": {
    "collapsed": false
   },
   "outputs": [
    {
     "ename": "ERROR",
     "evalue": "Error in library(klaR): there is no package called 'klaR'\n",
     "output_type": "error",
     "traceback": [
      "Error in library(klaR): there is no package called 'klaR'\nTraceback:\n",
      "1. library(klaR)",
      "2. stop(txt, domain = NA)"
     ]
    }
   ],
   "source": [
    "library(klaR)"
   ]
  },
  {
   "cell_type": "code",
   "execution_count": 66,
   "metadata": {
    "collapsed": false
   },
   "outputs": [
    {
     "name": "stderr",
     "output_type": "stream",
     "text": [
      "Loading required package: lattice\n",
      "Loading required package: ggplot2\n"
     ]
    }
   ],
   "source": [
    "library(caret)"
   ]
  },
  {
   "cell_type": "code",
   "execution_count": 73,
   "metadata": {
    "collapsed": false
   },
   "outputs": [
    {
     "name": "stdout",
     "output_type": "stream",
     "text": [
      "      GSM535948 GSM535949 GSM535950 GSM535951 GSM536032 GSM536033 GSM536034\n",
      "20321 2.0986104 1.5340885 1.3189526 1.5789687 0.7301747 2.3596498 3.4831527\n",
      "2903  0.9910281 2.4660418 1.9036421 0.8475206 2.8503496 1.9036421 2.3315361\n",
      "11097 0.5607151 0.5338851 0.4253877 0.5747030 0.6162856 2.5633882 0.6011406\n",
      "21343 1.3430525 1.1710764 1.3840124 1.2915671 1.3267560 1.1755292 1.1638641\n",
      "27789 2.5418199 2.4931249 2.7187108 3.5580066 1.7676287 0.5298766 0.5823008\n",
      "37583 1.4038352 0.8663307 0.9099954 1.2963044 0.8974274 1.3430525 1.1616507\n",
      "      GSM536035 GSM536036 GSM536037 GSM536038 GSM536039 GSM536040 GSM536041\n",
      "20321 0.8918819 4.1817685 3.7828199 2.6134113 2.7153192 3.2198090 3.0250954\n",
      "2903  1.9723673 1.9664102 2.3822368 1.3249527 1.5769736 1.5472138 1.4433483\n",
      "11097 2.8219708 2.0233405 2.8185371 2.2032017 2.3604550 3.0382611 2.6713591\n",
      "21343 1.2892025 1.0801075 1.3237514 0.9737434 1.1710764 1.2803590 1.1934496\n",
      "27789 0.6410082 0.4162797 0.5620045 1.0975928 0.7301747 0.6691059 0.3838439\n",
      "37583 1.2645360 1.1082814 1.0949314 1.2075714 1.0493151 1.2349833 0.9241075\n",
      "      GSM536042 GSM536043 GSM536044 GSM536045 GSM536046 GSM536443 GSM536444\n",
      "20321 3.2189164 1.7283021 1.9768406 0.8542038 0.8895786 1.5242856 1.3710947\n",
      "2903  2.0369335 1.6198366 1.8788079 1.2897934 1.7662164 1.5703332 1.8375310\n",
      "11097 1.6151179 1.4503132 2.4252205 0.7329590 1.1228203 3.9224320 2.6899276\n",
      "21343 1.6205113 1.1928869 1.1616507 0.9910281 1.1928869 1.2246580 1.2115446\n",
      "27789 0.5476385 0.8978906 0.6183743 1.1566806 0.2711338 0.5314153 0.6327994\n",
      "37583 1.0436407 1.3521584 1.1766441 1.0359367 0.7967096 1.1320389 1.0513837\n",
      "      GSM536445 GSM536446 GSM536447 GSM536448 GSM536449 GSM536450 GSM536451\n",
      "20321 1.0581257 1.4044574 1.1710764 1.1434951 1.5021968 1.9434064 1.8766243\n",
      "2903  1.9065741 0.9048599 0.9900347 1.7662164 2.0894211 1.6564873 1.9604615\n",
      "11097 1.1895146 1.0065146 0.9850780 2.5252742 1.3982432 2.4676800 3.1326525\n",
      "21343 1.1445901 1.1816696 1.1385760 1.1429478 1.1749720 1.1201184 1.6708590\n",
      "27789 0.2635228 0.5639431 0.7421646 0.9688439 0.4732512 0.4654753 0.5967238\n",
      "37583 1.2087058 0.9673774 1.2390135 0.9523151 1.1072094 1.1766441 1.0975928\n",
      "      GSM536452 GSM536453 GSM536454 GSM536455 GSM536456 GSM536457 GSM536458\n",
      "20321 1.1867089 1.7903040 1.4188120 3.6663544 1.4983178 1.2240860 1.4138093\n",
      "2903  2.3749674 1.8955902 3.3779144 2.6528349 1.4745233 2.4619480 1.9301081\n",
      "11097 1.3345874 2.4701381 2.5261006 2.5079441 2.4545857 0.8333918 2.6234572\n",
      "21343 1.1190389 1.2321097 0.9566709 1.1418538 1.2581247 1.3058111 1.0648970\n",
      "27789 0.5909875 0.5806422 0.4248772 0.6296101 0.2766671 0.8077997 0.5639431\n",
      "37583 1.0313330 1.0513837 1.1233612 1.1136515 1.1066737 1.0638534 1.0181123\n",
      "      GSM536459 GSM536460 GSM536461 GSM536462 GSM536463 GSM536464 GSM536465\n",
      "20321 1.5842959 1.9080409 1.4553908 2.8909232 1.6901235 1.7241156 2.8693190\n",
      "2903  2.1355452 1.8260257 2.6393909 1.7493134 2.2047677 2.0240946 2.3846618\n",
      "11097 1.1577839 1.7711621 1.4257075 2.6092296 1.7874616 1.6144444 1.7697483\n",
      "21343 1.0090281 1.1304085 1.2447854 1.1039977 1.0576061 1.1002585 1.2980837\n",
      "27789 0.2239636 0.9412473 0.4768986 0.4828407 0.4380595 0.5351235 0.5407258\n",
      "37583 0.9880499 1.1517245 1.0832727 1.3388159 1.2715533 1.0231833 1.1616507\n",
      "      GSM536466 GSM536467 GSM536468 GSM536469 GSM536470 GSM536471 GSM536472\n",
      "20321 3.6185187 1.8447399 2.9909435 1.7115876  1.877352 1.1951386 2.1992890\n",
      "2903  3.6433392 1.7633935 1.7227212 2.3291326  2.222024 2.1883490 2.1401820\n",
      "11097 3.0796210 1.4553908 2.1634309 2.1618776  1.756346 2.5360244 2.2598691\n",
      "21343 1.9434064 1.2459418 1.4332524 1.0477654  1.169409 1.1577839 1.0880321\n",
      "27789 0.9796456 0.6554855 0.7563424 0.5930069  1.327959 0.8307621 0.9796456\n",
      "37583 1.5151681 1.1755292 1.1211987 1.1749720  1.108818 1.2418974 1.0216602\n",
      "      GSM536473 GSM536474 GSM536475 GSM536476 GSM536477 GSM536478 GSM536479\n",
      "20321 2.1969428 2.3323374 1.7150628 3.6718827 2.5958640  3.471320 2.3187290\n",
      "2903  2.8865983 1.7206308 1.7514217 1.9434064 1.5963181  2.792828 0.8417597\n",
      "11097 1.8853663 1.6030185 2.4333640 2.6234572 2.2582869  2.728894 1.8245900\n",
      "21343 1.0130586 1.0272526 1.1467822 1.2212285 1.3870987  1.185588 2.4521335\n",
      "27789 0.4651996 0.7066424 0.5514396 0.4372745 0.5770068  0.591660 0.4845498\n",
      "37583 1.0560481 1.1917621 1.0933367 1.1533750 0.9712914  1.222943 1.4662148\n",
      "      GSM536480 GSM536481 GSM536482 GSM536483 GSM536484 GSM536485 GSM536486\n",
      "20321  2.785985 2.2622433 1.7832023 2.7996762 2.1085856 3.0303597 2.5992031\n",
      "2903   1.927159 2.3035575 2.3315361 1.6016772 1.9493306 2.5104171 2.2685793\n",
      "11097  3.304008 1.8045502 2.2290995 2.4480485 2.0794863 3.0496849 1.5836295\n",
      "21343  1.384012 0.9489369 1.1385760 1.5282025 1.1174209 1.0211528 1.1271523\n",
      "27789  0.898354 0.6059266 0.7465984 0.6698484 0.7933203 0.8268291 0.5081248\n",
      "37583  1.169409 1.1878307 1.1179600 1.5452410 0.8946515 1.2172351 1.0560481\n",
      "      GSM536487 GSM536488 GSM536489 GSM536490 GSM536491 GSM536492 GSM536882\n",
      "20321 2.3717394 0.8181385 1.4125603 1.5151681 2.0165596 1.9345360 1.7248130\n",
      "2903  3.8860368 2.5021772 1.2815360 1.4553908 2.1440492 1.7549385 1.7761148\n",
      "11097 1.3040254 1.5327794 2.5692064 1.6866748 3.2323129 2.1821080 1.9382297\n",
      "21343 1.1827883 1.2286669 1.0680321 1.0970602 1.7662164 1.1451379 1.1029284\n",
      "27789 0.5252824 0.3595490 0.9288461 0.5210243 0.7105232 0.6183743 0.7608405\n",
      "37583 1.0633318 1.0648970 1.0441557 0.9156216 1.3165573 1.0570866 1.0843291\n",
      "      GSM536883 GSM536884 GSM536885 GSM536886 GSM536887 GSM536888 GSM536889\n",
      "20321  1.493799  1.445246  2.268579 1.8534091 1.0135632 1.6428616 0.9552174\n",
      "2903   2.290017  1.648986  1.546556 1.4777260 1.7465044 2.5850224 1.0643751\n",
      "11097  1.657853  3.059361  1.532779 1.7171497 1.0638534 1.9895408 2.1078175\n",
      "21343  1.214957  1.141854  1.184468 1.0722219 1.2957117 1.3448707 1.5802996\n",
      "27789  1.017606  1.009531  0.619770 0.9727621 0.6274911 0.8237797 0.5623272\n",
      "37583  1.049832  1.057087  1.194575 1.0328660 1.1500755 1.0095313 1.0612473\n",
      "      GSM536890 GSM536891 GSM536892 GSM536893 GSM536894 GSM536895 GSM536896\n",
      "20321  1.382779 1.2727252 1.2534748  1.740192 2.8091015 1.6832299 1.5112701\n",
      "2903   1.671545 3.7846747 2.1085856  1.607046 1.9117103 1.6043605 1.7415941\n",
      "11097  2.175096 0.7567504 0.6551205  1.942666 2.2884265 1.5796341 2.2765097\n",
      "21343  1.177202 1.2868405 1.3976226  1.152274 1.1511746 1.1217391 1.1374848\n",
      "27789  1.033377 0.8895786 0.9455673  1.175529 0.5727343 0.5990988 1.1550270\n",
      "37583  1.206438 1.0140679 1.2246580  0.949419 1.0959954 1.0075195 0.9900347\n",
      "      GSM536897 GSM536898 GSM536899 GSM536900 GSM536901 GSM536902 GSM536903\n",
      "20321 1.5268962 1.4484118 1.4598422 1.2246580 1.5822971 1.5570988 1.0822169\n",
      "2903  3.2082100 2.6545170 2.0642434 1.5743156 1.4547556 1.6605868 2.1131965\n",
      "11097 2.6217819 2.2385484 1.4764444 1.8548559 1.6428616 2.5087683 0.7377509\n",
      "21343 1.1500755 1.1104274 1.1660802 1.4138093 1.3497265 1.0120499 1.3219506\n",
      "27789 0.4715758 0.6166333 0.6360015 0.4885576 0.7769523 0.9845833 2.0963114\n",
      "37583 1.0035042 1.0110419 1.0115458 1.1136515 1.2774196 0.9146822 1.2075714\n",
      "      GSM536904 GSM536905 GSM536906 GSM536907 GSM536908 GSM536909 GSM536910\n",
      "20321 1.4338821 1.5412997 1.8555795 2.4799798 2.8788185 2.3243286 1.1883918\n",
      "2903  2.1155037 1.5119194 1.6320045 3.7457637 1.8210034 2.4447823 1.6640071\n",
      "11097 1.6736039 2.1704268 3.3463183 2.0543625 2.6117384 3.3085026 1.9693877\n",
      "21343 1.1644178 1.1147276 1.2418974 1.0236914 1.2575429 1.0981256 0.9552174\n",
      "27789 0.3677928 0.8960387 0.9503837 0.4699053 0.5019225 0.5432311 0.7530837\n",
      "37583 1.1222796 1.0075195 1.1304085 0.8461886 0.9321734 1.0020014 0.9586113\n",
      "      GSM536911 GSM536917 GSM536918 GSM536919 GSM536920 GSM536921 GSM536922\n",
      "20321 1.2138188 1.1500755 1.1594401  1.456662 1.0451862 0.8992814 1.5909687\n",
      "2903  1.3237514 1.9760948 2.1525679  1.404457 1.4706852 1.2166653 1.7648047\n",
      "11097 2.2717501 3.0523229 1.1353043  3.041775 2.3548208 1.5604016 2.7561126\n",
      "21343 1.1495262 1.1190389 1.3821626  1.189515 0.9737434 1.1347597 1.3723219\n",
      "27789 0.8277019 1.3637457 0.4253877  1.358250 0.6818171 1.3926643 0.3714089\n",
      "37583 0.9345552 0.9552174 1.0410684  1.181111 1.0252166 1.0659414 1.1599925\n",
      "      GSM536923 GSM536924 GSM536925 GSM536926 GSM536927 GSM536928 GSM536929\n",
      "20321 1.8686281 1.1374848  1.430735 1.3680298 1.9500718 2.0787230 1.1369394\n",
      "2903  2.3483882 2.0135492  1.670173 1.6306501 1.9080409 1.5197230 2.3524077\n",
      "11097 3.3049068 2.0787230  3.099919 2.5360244 2.0498093 1.8238724 2.7518538\n",
      "21343 1.3087908 1.2686265  1.185588 1.3028357 1.1622038 1.0581257 1.5743156\n",
      "27789 0.8099455 0.5189060  1.073271 0.6518422 1.3637457 0.6551205 0.6837022\n",
      "37583 1.0906822 0.9895382  1.044156 1.1594401 0.9960055 0.9698224 1.1594401\n",
      "      GSM536930 GSM536931 GSM536932 GSM536933 GSM536934 GSM536935 GSM536936\n",
      "20321 1.7718692 1.1309518 0.6833249 0.9995001 1.9910374 1.3135668 2.9004451\n",
      "2903  1.3655808 2.5095927 1.8802644 1.6887436 1.6653763 1.9493306 1.9478488\n",
      "11097 0.7620708 1.4566618 2.7017669 0.7183342 1.2856606 3.3237957 3.0584809\n",
      "21343 1.1594401 1.0493151 1.1855879 1.2064378 1.2195160 1.3406306 1.2733114\n",
      "27789 0.6920452 0.4805697 0.9970031 1.7199343 0.5134918 0.7510524 0.7023926\n",
      "37583 1.0080222 0.9179732 1.1336708 1.1066737 1.2668724 1.2418974 1.1550270\n",
      "      GSM536937 GSM536938 GSM536939 GSM536940 GSM536941 GSM536942 GSM536943\n",
      "20321 1.8999801  1.807406 1.4345121 1.9183238 2.1363177 2.0210790 2.7561126\n",
      "2903  1.5406433  1.651711 1.6218611 2.3347423 2.3195286 1.6701731 1.7046482\n",
      "11097 2.0278669  2.156445 2.6444296 1.9397080 1.5963181 1.8744418 1.5743156\n",
      "21343 1.1478793  1.007519 1.2172351 0.9905313 1.0298016 1.2338334 1.1082814\n",
      "27789 0.9489369  1.015583 0.4491769 0.3253442 0.8382288 0.9011381 0.7441775\n",
      "37583 1.0669864  1.015078 1.3533753 1.0005001 1.2269478 1.4113119 1.0706494\n",
      "      GSM536944 GSM536945 GSM536946 GSM536947 GSM536948 GSM536949\n",
      "20321 2.1782113 2.8512110 1.3939029 1.5989964 2.4840849 1.6104067\n",
      "2903  1.8577511 1.4194380 1.9917859 1.3926643 2.3027601 1.6722311\n",
      "11097 2.7962514 2.1758747 1.5511636 2.1860077 3.1557116 2.7110816\n",
      "21343 0.9369414 1.0790539 1.2166653 1.2744843 1.3479043 1.3207509\n",
      "27789 1.1098906 0.9542492 0.4828407 0.6482148 0.4794376 0.8220409\n",
      "37583 0.9043941 0.9002094 1.3717082 1.2563798 0.9179732 1.1115014\n",
      "      GSM535948 GSM535949 GSM535950 GSM535951 GSM536032 GSM536033 GSM536034\n",
      "25972 0.8941895 0.6672524 0.8960387 0.9508663 0.3209295 1.1358492 1.7387914\n",
      "44919 1.2575429 1.1353043 1.1077453 1.1566806 0.9255273 0.8749394 0.8969643\n",
      "43790 0.5876341 0.9278970 0.8103752 0.7262113 1.1056028 0.2146573 0.4370131\n",
      "39847 1.1705206 0.5730620 0.7608405 1.1029284 0.9326494 1.1179600 1.0701256\n",
      "35208 0.9417266 1.1347597 1.0581257 0.9412473 0.6966293 1.1429478 1.3070025\n",
      "13412 0.4475741 0.6683640 0.6271385 0.4090656 1.0000000 0.2033316 0.1616756\n",
      "      GSM536035 GSM536036 GSM536037 GSM536038 GSM536039 GSM536040 GSM536041\n",
      "25972 1.0120499 1.5876304 1.1577839 1.1098906 1.0529369 1.0287815 1.4206906\n",
      "44919 1.0544918 0.6784341 0.4610807 1.1555781 0.8303244 0.7301747 0.4848352\n",
      "43790 0.3179502 0.1371338 0.1478504 0.3978443 0.2706203 0.1946996 0.1968569\n",
      "39847 0.7698978 1.0115458 0.7341547 1.0780009 1.0000000 1.3485116 1.3153606\n",
      "35208 1.2774196 1.6585364 0.8877391 0.9109314 1.1928869 1.0654191 1.0869732\n",
      "13412 0.2491996 0.2742338 0.3302218 0.1741970 0.3803537 0.4529358 0.1898338\n",
      "      GSM536042 GSM536043 GSM536044 GSM536045 GSM536046 GSM536443 GSM536444\n",
      "25972 1.2442074 0.8501892 0.8822370 1.3821626 1.0303119 0.8506346 0.7555267\n",
      "44919 0.9771833 0.4083255 0.7124698 0.8965014 1.0186186 0.7857339 0.4553663\n",
      "43790 0.2953640 0.1777567 0.1816210 1.5876304 0.1449555 0.3300173 0.2697663\n",
      "39847 0.9503837 0.7840555 0.7628919 0.6410082 0.6449639 0.9821123 0.7202973\n",
      "35208 1.0120499 0.9950087 0.9757080 1.0338889 0.8461886 1.4579335 1.2980837\n",
      "13412 0.4205595 0.4200541 0.4357080 0.9831002 0.8636250 0.7958612 0.4398959\n",
      "      GSM536445 GSM536446 GSM536447 GSM536448 GSM536449 GSM536450 GSM536451\n",
      "25972 0.9850780 0.9450866 0.7848944 0.8826945 0.8524178 0.8914209 0.6724523\n",
      "44919 1.0115458 0.7723821 1.1088176 0.8713071 1.0901518 0.9446061 0.5856295\n",
      "43790 0.2451062 0.6920452 0.9057921 0.2423085 0.2343903 0.2268565 0.2028065\n",
      "39847 0.8763043 1.4592058 1.5882978 0.8005355 0.9880499 1.1293224 0.8001097\n",
      "35208 1.4687684 0.8510802 0.8667822 1.0216602 1.2275207 1.2945267 1.4144341\n",
      "13412 0.3482382 1.0555292 0.9605544 0.7815429 0.2620242 0.3247390 0.2465161\n",
      "      GSM536452 GSM536453 GSM536454 GSM536455 GSM536456 GSM536457 GSM536458\n",
      "25972 0.9369414 1.0040055 0.8749394 1.6063745 0.8577839 0.4902837 0.9766914\n",
      "44919 0.8095160 0.7066424 0.9383751 0.3103195 0.9537654 1.1050675 1.1045325\n",
      "43790 0.2206789 0.2938862 0.3287925 0.1987788 0.2685749 0.1774092 0.2449500\n",
      "39847 1.0774747 0.9880499 0.7341547 1.0055105 0.9465292 1.0145729 0.9137435\n",
      "35208 1.2338334 1.0150780 0.9374191 0.6966293 1.9256849 1.0827447 1.5015499\n",
      "13412 0.2034631 0.5893089 0.3045619 0.2248279 0.2951789 0.2246836 0.2419994\n",
      "       GSM536459 GSM536460 GSM536461 GSM536462 GSM536463 GSM536464 GSM536465\n",
      "25972 0.48712306 0.7559344 1.0257253 1.1799929 0.7711392 1.1174209 1.4326227\n",
      "44919 1.15062499 1.2494150 1.3723219 0.9274227 1.2892025 1.3436584 0.5662116\n",
      "43790 0.13831746 0.2312607 0.3391239 0.2135540 0.4740908 0.4729716 0.3058967\n",
      "39847 0.92505386 1.0890916 1.0806346 1.1287796 1.0838008 0.7686579 0.9659125\n",
      "35208 0.79755857 1.6130979 1.2183752 1.2523140 1.3267560 1.4307348 1.1705206\n",
      "13412 0.09537892 0.1914430 0.2314088 0.1910705 0.1831649 0.1915673 0.1350633\n",
      "      GSM536466 GSM536467 GSM536468 GSM536469 GSM536470 GSM536471 GSM536472\n",
      "25972 0.7543044 0.6299639 1.2126814 1.4288484 0.6878638 1.0110419 1.2986771\n",
      "44919 0.2744069 1.2627854 0.8918819 1.3424468 0.6385010 0.9184440 1.0055105\n",
      "43790 0.3114827 0.4825563 0.3205308 0.2819473 0.3482382 0.3424903 0.2723355\n",
      "39847 0.6754380 0.8479649 0.8073710 0.9532818 1.0638534 0.9552174 0.9479733\n",
      "35208 0.6852133 1.4522161 1.0257253 1.4138093 1.2957117 1.7101986 1.6578532\n",
      "13412 0.3320677 0.3022858 0.2514296 0.2231024 0.4545549 0.4800034 0.2575748\n",
      "      GSM536473 GSM536474 GSM536475 GSM536476 GSM536477 GSM536478 GSM536479\n",
      "25972 1.0901518 1.6050317 1.2575429 0.8681379 0.7113013 1.2212285 0.7777854\n",
      "44919 1.0565673 1.1228203 1.1136515 0.5125941 0.5033935 0.5963851 0.8868203\n",
      "43790 0.3384960 0.4879834 0.3009652 0.1603029 0.3405931 0.2564326 0.2468304\n",
      "39847 1.0922744 0.9727621 1.0508663 0.9302710 0.9542492 0.8246501 1.3058111\n",
      "35208 1.5249380 1.2797708 1.5531406 1.0493151 0.8946515 1.1878307 0.4785900\n",
      "13412 0.1514964 0.3036117 0.3606534 0.2787683 0.3330971 0.2242514 0.3203316\n",
      "      GSM536480 GSM536481 GSM536482 GSM536483 GSM536484 GSM536485 GSM536486\n",
      "25972 0.6313804 0.7711392 0.9170321 0.7886776 0.8342697 1.2476776 1.3363986\n",
      "44919 0.5856295 0.9900347 1.2200867 0.5348137 0.7441775 0.5317235 1.2344083\n",
      "43790 0.2296367 0.1849616 0.4307794 0.2590502 0.2842637 0.1593591 0.2094631\n",
      "39847 0.7289840 0.8515259 1.0247080 1.0145729 0.8391105 0.7723821 0.9875542\n",
      "35208 0.9831002 1.4854288 1.2115446 0.8129569 1.3028357 0.9945105 1.6043605\n",
      "13412 0.4019598 0.2105468 0.2796481 0.4325896 0.2511099 0.2911335 0.1691489\n",
      "      GSM536487 GSM536488 GSM536489 GSM536490 GSM536491 GSM536492 GSM536882\n",
      "25972 1.1727449 0.7874150 0.8312000 1.0965277 0.8203048 1.0436407 1.0933367\n",
      "44919 0.8808653 1.4338821 0.8955761 1.2511539 0.4763359 0.8333918 0.7405573\n",
      "43790 0.4292329 0.2361962 0.2507906 0.2444819 0.3147996 0.2147956 0.1550237\n",
      "39847 0.9278970 1.1222796 1.0451862 1.1217391 0.9165617 1.0385004 1.1783177\n",
      "35208 1.0262343 1.3976226 1.1029284 1.2762450 0.4228406 1.0965277 1.5249380\n",
      "13412 0.2245394 0.2322996 0.3745984 0.3355793 0.4848352 0.3635390 0.4120375\n",
      "      GSM536883 GSM536884 GSM536885 GSM536886 GSM536887 GSM536888 GSM536889\n",
      "25972 0.9870586 0.8568878 1.4150590 0.9527984 0.8138188 0.9340785 0.9595825\n",
      "44919 0.7698978 0.5668611 0.4998692 0.8316380 0.5773365 0.6035298 0.5099086\n",
      "43790 0.4513215 0.2600381 0.1321446 0.3446093 0.7453872 0.6431635 0.2018904\n",
      "39847 0.9142128 0.9781677 1.0628104 1.0560481 0.6840797 0.7349527 0.9345552\n",
      "35208 1.2903845 0.9975022 1.2610364 1.0901518 0.9542492 1.3939029 0.8377883\n",
      "13412 0.4992838 0.5195105 0.2882228 0.3366184 0.4264102 0.5243675 0.5933441\n",
      "      GSM536890 GSM536891 GSM536892 GSM536893 GSM536894 GSM536895 GSM536896\n",
      "25972 0.7649474 1.0262343 0.7645360 0.7433718 0.9393318 0.8881987 1.0140679\n",
      "44919 0.7409589 0.3368266 0.7144205 0.7563424 0.6208183 1.1282370 0.6985463\n",
      "43790 0.3273687 0.8233447 0.5219343 0.3829105 0.3503887 0.2826582 0.3343362\n",
      "39847 0.7815429 0.8077997 0.7786193 0.8285754 0.7293807 1.0400407 0.8120956\n",
      "35208 1.0864440 0.4117892 0.7719676 0.9865632 1.0949314 1.2367096 1.0737959\n",
      "13412 0.3403829 0.9170321 0.6467684 0.5740462 0.4674091 0.2913162 0.7996841\n",
      "      GSM536897 GSM536898 GSM536899 GSM536900 GSM536901 GSM536902 GSM536903\n",
      "25972 1.0090281 0.9659125 0.8550978 0.8722141 1.1244435 1.1363942 0.8048026\n",
      "44919 0.8333918 0.5379186 1.0838008 1.0318439 0.3488821 0.8355879 0.8018138\n",
      "43790 0.3283851 0.3937654 0.6243232 0.2101398 0.6705916 0.4362297 0.3691452\n",
      "39847 1.1002585 0.9975022 0.8804085 0.8808653 1.0338889 0.8417597 0.7878357\n",
      "35208 1.3016467 1.3760072 1.0287815 0.9426857 0.7377509 1.9932833 1.2013447\n",
      "13412 0.4591692 0.4341464 0.3241348 0.4341464 0.6595118 0.5119963 0.7171584\n",
      "      GSM536904 GSM536905 GSM536906 GSM536907 GSM536908 GSM536909 GSM536910\n",
      "25972 0.9688439 1.1478793 0.8631746 0.9850780 2.0924822 1.1996501 1.0680321\n",
      "44919 1.1710764 0.6162856 0.5201156 0.4513215 0.3446093 0.6493014 0.9995001\n",
      "43790 0.1879928 0.6460461 0.3671183 0.3469536 0.1747666 0.2869577 0.2711338\n",
      "39847 1.0906822 0.9625004 0.7397546 0.7559344 0.8030937 1.0534550 0.9165617\n",
      "35208 1.3376069 1.6832299 0.8891184 0.6676227 1.5321251 1.7443991 1.4509473\n",
      "13412 0.4475741 0.7389526 0.5122951 0.6048985 0.4704616 0.3923345 0.7579757\n",
      "      GSM536911 GSM536917 GSM536918 GSM536919 GSM536920 GSM536921 GSM536922\n",
      "25972 0.9940125 0.9222169 0.7958612 0.7928974 1.0648970 0.6661422 0.8329531\n",
      "44919 0.8386696 0.8524178 1.1811105 0.6947164 0.8417597 0.9712914 0.8586806\n",
      "43790 0.3308361 0.5113991 0.1952052 0.4486421 0.4029335 0.3840776 0.1966019\n",
      "39847 1.2019099 0.7941666 1.1649718 0.7761198 0.9302710 0.7429692 0.9845833\n",
      "35208 1.5367085 1.6171393 0.8813224 1.6157916 2.0060323 0.8868203 0.8955761\n",
      "13412 0.6028464 0.4943313 0.4187927 0.2964766 0.7674196 0.4957836 0.4978229\n",
      "      GSM536923 GSM536924 GSM536925 GSM536926 GSM536927 GSM536928 GSM536929\n",
      "25972 0.9940125 0.8404343 1.0272526 0.7686579 1.0539733 1.1413071 0.9245806\n",
      "44919 0.4654753 1.0135632 0.5225417 0.7413606 0.5517574 0.6392165 0.5277285\n",
      "43790 0.1609351 0.3028534 0.3107068 0.2098689 0.2819473 0.1608296 0.2324483\n",
      "39847 0.9503837 1.0080222 0.8654281 0.8877391 0.8207386 0.9761996 0.9006737\n",
      "35208 1.4389262 1.2868405 1.0534550 1.1158044 1.2927504 1.2833026 0.7124698\n",
      "13412 0.3940044 0.5943563 0.5137914 0.5134918 0.3495271 0.3153882 0.5069385\n",
      "      GSM536930 GSM536931 GSM536932 GSM536933 GSM536934 GSM536935  GSM536936\n",
      "25972 1.0981256 1.2862505 0.6004594 0.5376074 0.9208008 0.7039357 1.47772599\n",
      "44919 0.9236346 0.7975586 0.6299639 0.9698224 1.2143877 0.8391105 0.65694735\n",
      "43790 0.4377977 0.2610294 0.5007483 0.1567649 0.2020210 0.3959203 0.09770906\n",
      "39847 0.7567504 1.0211528 0.8159765 0.5438590 0.8129569 0.8506346 1.44018889\n",
      "35208 1.1622038 1.4560262 1.1473307 0.6646643 1.0970602 1.4250799 1.53539819\n",
      "13412 0.4070946 0.5192082 0.4147782 0.4140292 0.1811485 0.2426179 0.11109475\n",
      "      GSM536937 GSM536938 GSM536939 GSM536940 GSM536941 GSM536942 GSM536943\n",
      "25972 0.8974274 0.7907854 0.8022403 1.6374282 1.2662880 1.5255906 1.1572322\n",
      "44919 1.0359367 0.9895382 0.7928974 0.9336020 0.9668889 1.2349833 0.9747253\n",
      "43790 0.2024134 0.3337161 0.3873620 0.2498349 0.3575685 0.1796206 0.3223283\n",
      "39847 1.0257253 1.0838008 1.0864440 1.2344083 1.2002148 1.1705206 1.0426113\n",
      "35208 1.3147625 1.1973930 1.4630265 1.4257075 1.3105805 1.1968291 1.5067296\n",
      "13412 0.2049148 0.3644309 0.4085720 0.2432378 0.2914991 0.1753379 0.2723355\n",
      "      GSM536944 GSM536945 GSM536946 GSM536947 GSM536948 GSM536949\n",
      "25972 0.7874150 0.8129569 0.9474918 1.2058712 1.2604537 0.8519718\n",
      "44919 0.8891184 0.8164086 1.5604016 1.3231509 0.7285874 0.7313670\n",
      "43790 0.2731969 0.3085821 0.2714767 0.2046502 0.1815028 0.2013687\n",
      "39847 0.7242358 0.7155929 0.8470764 0.9002094 0.9816186 0.7506467\n",
      "35208 1.2780071 1.1174209 0.7736265 1.1733014 1.1816696 1.4828587\n",
      "13412 0.1992943 0.1508001 0.1384089 0.2874993 0.1731762 0.2709625\n",
      "      GSM535948 GSM535949 GSM535950 GSM535951 GSM536032 GSM536033 GSM536034\n",
      "25972 0.8941895 0.6672524 0.8960387 0.9508663 0.3209295 1.1358492 1.7387914\n",
      "44919 1.2575429 1.1353043 1.1077453 1.1566806 0.9255273 0.8749394 0.8969643\n",
      "43790 0.5876341 0.9278970 0.8103752 0.7262113 1.1056028 0.2146573 0.4370131\n",
      "39847 1.1705206 0.5730620 0.7608405 1.1029284 0.9326494 1.1179600 1.0701256\n",
      "35208 0.9417266 1.1347597 1.0581257 0.9412473 0.6966293 1.1429478 1.3070025\n",
      "13412 0.4475741 0.6683640 0.6271385 0.4090656 1.0000000 0.2033316 0.1616756\n",
      "      GSM536035 GSM536036 GSM536037 GSM536038 GSM536039 GSM536040 GSM536041\n",
      "25972 1.0120499 1.5876304 1.1577839 1.1098906 1.0529369 1.0287815 1.4206906\n",
      "44919 1.0544918 0.6784341 0.4610807 1.1555781 0.8303244 0.7301747 0.4848352\n",
      "43790 0.3179502 0.1371338 0.1478504 0.3978443 0.2706203 0.1946996 0.1968569\n",
      "39847 0.7698978 1.0115458 0.7341547 1.0780009 1.0000000 1.3485116 1.3153606\n",
      "35208 1.2774196 1.6585364 0.8877391 0.9109314 1.1928869 1.0654191 1.0869732\n",
      "13412 0.2491996 0.2742338 0.3302218 0.1741970 0.3803537 0.4529358 0.1898338\n",
      "      GSM536042 GSM536043 GSM536044 GSM536045 GSM536046 GSM536443 GSM536444\n",
      "25972 1.2442074 0.8501892 0.8822370 1.3821626 1.0303119 0.8506346 0.7555267\n",
      "44919 0.9771833 0.4083255 0.7124698 0.8965014 1.0186186 0.7857339 0.4553663\n",
      "43790 0.2953640 0.1777567 0.1816210 1.5876304 0.1449555 0.3300173 0.2697663\n",
      "39847 0.9503837 0.7840555 0.7628919 0.6410082 0.6449639 0.9821123 0.7202973\n",
      "35208 1.0120499 0.9950087 0.9757080 1.0338889 0.8461886 1.4579335 1.2980837\n",
      "13412 0.4205595 0.4200541 0.4357080 0.9831002 0.8636250 0.7958612 0.4398959\n",
      "      GSM536445 GSM536446 GSM536447 GSM536448 GSM536449 GSM536450 GSM536451\n",
      "25972 0.9850780 0.9450866 0.7848944 0.8826945 0.8524178 0.8914209 0.6724523\n",
      "44919 1.0115458 0.7723821 1.1088176 0.8713071 1.0901518 0.9446061 0.5856295\n",
      "43790 0.2451062 0.6920452 0.9057921 0.2423085 0.2343903 0.2268565 0.2028065\n",
      "39847 0.8763043 1.4592058 1.5882978 0.8005355 0.9880499 1.1293224 0.8001097\n",
      "35208 1.4687684 0.8510802 0.8667822 1.0216602 1.2275207 1.2945267 1.4144341\n",
      "13412 0.3482382 1.0555292 0.9605544 0.7815429 0.2620242 0.3247390 0.2465161\n",
      "      GSM536452 GSM536453 GSM536454 GSM536455 GSM536456 GSM536457 GSM536458\n",
      "25972 0.9369414 1.0040055 0.8749394 1.6063745 0.8577839 0.4902837 0.9766914\n",
      "44919 0.8095160 0.7066424 0.9383751 0.3103195 0.9537654 1.1050675 1.1045325\n",
      "43790 0.2206789 0.2938862 0.3287925 0.1987788 0.2685749 0.1774092 0.2449500\n",
      "39847 1.0774747 0.9880499 0.7341547 1.0055105 0.9465292 1.0145729 0.9137435\n",
      "35208 1.2338334 1.0150780 0.9374191 0.6966293 1.9256849 1.0827447 1.5015499\n",
      "13412 0.2034631 0.5893089 0.3045619 0.2248279 0.2951789 0.2246836 0.2419994\n",
      "       GSM536459 GSM536460 GSM536461 GSM536462 GSM536463 GSM536464 GSM536465\n",
      "25972 0.48712306 0.7559344 1.0257253 1.1799929 0.7711392 1.1174209 1.4326227\n",
      "44919 1.15062499 1.2494150 1.3723219 0.9274227 1.2892025 1.3436584 0.5662116\n",
      "43790 0.13831746 0.2312607 0.3391239 0.2135540 0.4740908 0.4729716 0.3058967\n",
      "39847 0.92505386 1.0890916 1.0806346 1.1287796 1.0838008 0.7686579 0.9659125\n",
      "35208 0.79755857 1.6130979 1.2183752 1.2523140 1.3267560 1.4307348 1.1705206\n",
      "13412 0.09537892 0.1914430 0.2314088 0.1910705 0.1831649 0.1915673 0.1350633\n",
      "      GSM536466 GSM536467 GSM536468 GSM536469 GSM536470 GSM536471 GSM536472\n",
      "25972 0.7543044 0.6299639 1.2126814 1.4288484 0.6878638 1.0110419 1.2986771\n",
      "44919 0.2744069 1.2627854 0.8918819 1.3424468 0.6385010 0.9184440 1.0055105\n",
      "43790 0.3114827 0.4825563 0.3205308 0.2819473 0.3482382 0.3424903 0.2723355\n",
      "39847 0.6754380 0.8479649 0.8073710 0.9532818 1.0638534 0.9552174 0.9479733\n",
      "35208 0.6852133 1.4522161 1.0257253 1.4138093 1.2957117 1.7101986 1.6578532\n",
      "13412 0.3320677 0.3022858 0.2514296 0.2231024 0.4545549 0.4800034 0.2575748\n",
      "      GSM536473 GSM536474 GSM536475 GSM536476 GSM536477 GSM536478 GSM536479\n",
      "25972 1.0901518 1.6050317 1.2575429 0.8681379 0.7113013 1.2212285 0.7777854\n",
      "44919 1.0565673 1.1228203 1.1136515 0.5125941 0.5033935 0.5963851 0.8868203\n",
      "43790 0.3384960 0.4879834 0.3009652 0.1603029 0.3405931 0.2564326 0.2468304\n",
      "39847 1.0922744 0.9727621 1.0508663 0.9302710 0.9542492 0.8246501 1.3058111\n",
      "35208 1.5249380 1.2797708 1.5531406 1.0493151 0.8946515 1.1878307 0.4785900\n",
      "13412 0.1514964 0.3036117 0.3606534 0.2787683 0.3330971 0.2242514 0.3203316\n",
      "      GSM536480 GSM536481 GSM536482 GSM536483 GSM536484 GSM536485 GSM536486\n",
      "25972 0.6313804 0.7711392 0.9170321 0.7886776 0.8342697 1.2476776 1.3363986\n",
      "44919 0.5856295 0.9900347 1.2200867 0.5348137 0.7441775 0.5317235 1.2344083\n",
      "43790 0.2296367 0.1849616 0.4307794 0.2590502 0.2842637 0.1593591 0.2094631\n",
      "39847 0.7289840 0.8515259 1.0247080 1.0145729 0.8391105 0.7723821 0.9875542\n",
      "35208 0.9831002 1.4854288 1.2115446 0.8129569 1.3028357 0.9945105 1.6043605\n",
      "13412 0.4019598 0.2105468 0.2796481 0.4325896 0.2511099 0.2911335 0.1691489\n",
      "      GSM536487 GSM536488 GSM536489 GSM536490 GSM536491 GSM536492 GSM536882\n",
      "25972 1.1727449 0.7874150 0.8312000 1.0965277 0.8203048 1.0436407 1.0933367\n",
      "44919 0.8808653 1.4338821 0.8955761 1.2511539 0.4763359 0.8333918 0.7405573\n",
      "43790 0.4292329 0.2361962 0.2507906 0.2444819 0.3147996 0.2147956 0.1550237\n",
      "39847 0.9278970 1.1222796 1.0451862 1.1217391 0.9165617 1.0385004 1.1783177\n",
      "35208 1.0262343 1.3976226 1.1029284 1.2762450 0.4228406 1.0965277 1.5249380\n",
      "13412 0.2245394 0.2322996 0.3745984 0.3355793 0.4848352 0.3635390 0.4120375\n",
      "      GSM536883 GSM536884 GSM536885 GSM536886 GSM536887 GSM536888 GSM536889\n",
      "25972 0.9870586 0.8568878 1.4150590 0.9527984 0.8138188 0.9340785 0.9595825\n",
      "44919 0.7698978 0.5668611 0.4998692 0.8316380 0.5773365 0.6035298 0.5099086\n",
      "43790 0.4513215 0.2600381 0.1321446 0.3446093 0.7453872 0.6431635 0.2018904\n",
      "39847 0.9142128 0.9781677 1.0628104 1.0560481 0.6840797 0.7349527 0.9345552\n",
      "35208 1.2903845 0.9975022 1.2610364 1.0901518 0.9542492 1.3939029 0.8377883\n",
      "13412 0.4992838 0.5195105 0.2882228 0.3366184 0.4264102 0.5243675 0.5933441\n",
      "      GSM536890 GSM536891 GSM536892 GSM536893 GSM536894 GSM536895 GSM536896\n",
      "25972 0.7649474 1.0262343 0.7645360 0.7433718 0.9393318 0.8881987 1.0140679\n",
      "44919 0.7409589 0.3368266 0.7144205 0.7563424 0.6208183 1.1282370 0.6985463\n",
      "43790 0.3273687 0.8233447 0.5219343 0.3829105 0.3503887 0.2826582 0.3343362\n",
      "39847 0.7815429 0.8077997 0.7786193 0.8285754 0.7293807 1.0400407 0.8120956\n",
      "35208 1.0864440 0.4117892 0.7719676 0.9865632 1.0949314 1.2367096 1.0737959\n",
      "13412 0.3403829 0.9170321 0.6467684 0.5740462 0.4674091 0.2913162 0.7996841\n",
      "      GSM536897 GSM536898 GSM536899 GSM536900 GSM536901 GSM536902 GSM536903\n",
      "25972 1.0090281 0.9659125 0.8550978 0.8722141 1.1244435 1.1363942 0.8048026\n",
      "44919 0.8333918 0.5379186 1.0838008 1.0318439 0.3488821 0.8355879 0.8018138\n",
      "43790 0.3283851 0.3937654 0.6243232 0.2101398 0.6705916 0.4362297 0.3691452\n",
      "39847 1.1002585 0.9975022 0.8804085 0.8808653 1.0338889 0.8417597 0.7878357\n",
      "35208 1.3016467 1.3760072 1.0287815 0.9426857 0.7377509 1.9932833 1.2013447\n",
      "13412 0.4591692 0.4341464 0.3241348 0.4341464 0.6595118 0.5119963 0.7171584\n",
      "      GSM536904 GSM536905 GSM536906 GSM536907 GSM536908 GSM536909 GSM536910\n",
      "25972 0.9688439 1.1478793 0.8631746 0.9850780 2.0924822 1.1996501 1.0680321\n",
      "44919 1.1710764 0.6162856 0.5201156 0.4513215 0.3446093 0.6493014 0.9995001\n",
      "43790 0.1879928 0.6460461 0.3671183 0.3469536 0.1747666 0.2869577 0.2711338\n",
      "39847 1.0906822 0.9625004 0.7397546 0.7559344 0.8030937 1.0534550 0.9165617\n",
      "35208 1.3376069 1.6832299 0.8891184 0.6676227 1.5321251 1.7443991 1.4509473\n",
      "13412 0.4475741 0.7389526 0.5122951 0.6048985 0.4704616 0.3923345 0.7579757\n",
      "      GSM536911 GSM536917 GSM536918 GSM536919 GSM536920 GSM536921 GSM536922\n",
      "25972 0.9940125 0.9222169 0.7958612 0.7928974 1.0648970 0.6661422 0.8329531\n",
      "44919 0.8386696 0.8524178 1.1811105 0.6947164 0.8417597 0.9712914 0.8586806\n",
      "43790 0.3308361 0.5113991 0.1952052 0.4486421 0.4029335 0.3840776 0.1966019\n",
      "39847 1.2019099 0.7941666 1.1649718 0.7761198 0.9302710 0.7429692 0.9845833\n",
      "35208 1.5367085 1.6171393 0.8813224 1.6157916 2.0060323 0.8868203 0.8955761\n",
      "13412 0.6028464 0.4943313 0.4187927 0.2964766 0.7674196 0.4957836 0.4978229\n",
      "      GSM536923 GSM536924 GSM536925 GSM536926 GSM536927 GSM536928 GSM536929\n",
      "25972 0.9940125 0.8404343 1.0272526 0.7686579 1.0539733 1.1413071 0.9245806\n",
      "44919 0.4654753 1.0135632 0.5225417 0.7413606 0.5517574 0.6392165 0.5277285\n",
      "43790 0.1609351 0.3028534 0.3107068 0.2098689 0.2819473 0.1608296 0.2324483\n",
      "39847 0.9503837 1.0080222 0.8654281 0.8877391 0.8207386 0.9761996 0.9006737\n",
      "35208 1.4389262 1.2868405 1.0534550 1.1158044 1.2927504 1.2833026 0.7124698\n",
      "13412 0.3940044 0.5943563 0.5137914 0.5134918 0.3495271 0.3153882 0.5069385\n",
      "      GSM536930 GSM536931 GSM536932 GSM536933 GSM536934 GSM536935  GSM536936\n",
      "25972 1.0981256 1.2862505 0.6004594 0.5376074 0.9208008 0.7039357 1.47772599\n",
      "44919 0.9236346 0.7975586 0.6299639 0.9698224 1.2143877 0.8391105 0.65694735\n",
      "43790 0.4377977 0.2610294 0.5007483 0.1567649 0.2020210 0.3959203 0.09770906\n",
      "39847 0.7567504 1.0211528 0.8159765 0.5438590 0.8129569 0.8506346 1.44018889\n",
      "35208 1.1622038 1.4560262 1.1473307 0.6646643 1.0970602 1.4250799 1.53539819\n",
      "13412 0.4070946 0.5192082 0.4147782 0.4140292 0.1811485 0.2426179 0.11109475\n",
      "      GSM536937 GSM536938 GSM536939 GSM536940 GSM536941 GSM536942 GSM536943\n",
      "25972 0.8974274 0.7907854 0.8022403 1.6374282 1.2662880 1.5255906 1.1572322\n",
      "44919 1.0359367 0.9895382 0.7928974 0.9336020 0.9668889 1.2349833 0.9747253\n",
      "43790 0.2024134 0.3337161 0.3873620 0.2498349 0.3575685 0.1796206 0.3223283\n",
      "39847 1.0257253 1.0838008 1.0864440 1.2344083 1.2002148 1.1705206 1.0426113\n",
      "35208 1.3147625 1.1973930 1.4630265 1.4257075 1.3105805 1.1968291 1.5067296\n",
      "13412 0.2049148 0.3644309 0.4085720 0.2432378 0.2914991 0.1753379 0.2723355\n",
      "      GSM536944 GSM536945 GSM536946 GSM536947 GSM536948 GSM536949\n",
      "25972 0.7874150 0.8129569 0.9474918 1.2058712 1.2604537 0.8519718\n",
      "44919 0.8891184 0.8164086 1.5604016 1.3231509 0.7285874 0.7313670\n",
      "43790 0.2731969 0.3085821 0.2714767 0.2046502 0.1815028 0.2013687\n",
      "39847 0.7242358 0.7155929 0.8470764 0.9002094 0.9816186 0.7506467\n",
      "35208 1.2780071 1.1174209 0.7736265 1.1733014 1.1816696 1.4828587\n",
      "13412 0.1992943 0.1508001 0.1384089 0.2874993 0.1731762 0.2709625\n",
      "      GSM535948 GSM535949 GSM535950 GSM535951 GSM536032 GSM536033 GSM536034\n",
      "25972 0.8941895 0.6672524 0.8960387 0.9508663 0.3209295 1.1358492 1.7387914\n",
      "44919 1.2575429 1.1353043 1.1077453 1.1566806 0.9255273 0.8749394 0.8969643\n",
      "43790 0.5876341 0.9278970 0.8103752 0.7262113 1.1056028 0.2146573 0.4370131\n",
      "39847 1.1705206 0.5730620 0.7608405 1.1029284 0.9326494 1.1179600 1.0701256\n",
      "35208 0.9417266 1.1347597 1.0581257 0.9412473 0.6966293 1.1429478 1.3070025\n",
      "13412 0.4475741 0.6683640 0.6271385 0.4090656 1.0000000 0.2033316 0.1616756\n",
      "      GSM536035 GSM536036 GSM536037 GSM536038 GSM536039 GSM536040 GSM536041\n",
      "25972 1.0120499 1.5876304 1.1577839 1.1098906 1.0529369 1.0287815 1.4206906\n",
      "44919 1.0544918 0.6784341 0.4610807 1.1555781 0.8303244 0.7301747 0.4848352\n",
      "43790 0.3179502 0.1371338 0.1478504 0.3978443 0.2706203 0.1946996 0.1968569\n",
      "39847 0.7698978 1.0115458 0.7341547 1.0780009 1.0000000 1.3485116 1.3153606\n",
      "35208 1.2774196 1.6585364 0.8877391 0.9109314 1.1928869 1.0654191 1.0869732\n",
      "13412 0.2491996 0.2742338 0.3302218 0.1741970 0.3803537 0.4529358 0.1898338\n",
      "      GSM536042 GSM536043 GSM536044 GSM536045 GSM536046 GSM536443 GSM536444\n",
      "25972 1.2442074 0.8501892 0.8822370 1.3821626 1.0303119 0.8506346 0.7555267\n",
      "44919 0.9771833 0.4083255 0.7124698 0.8965014 1.0186186 0.7857339 0.4553663\n",
      "43790 0.2953640 0.1777567 0.1816210 1.5876304 0.1449555 0.3300173 0.2697663\n",
      "39847 0.9503837 0.7840555 0.7628919 0.6410082 0.6449639 0.9821123 0.7202973\n",
      "35208 1.0120499 0.9950087 0.9757080 1.0338889 0.8461886 1.4579335 1.2980837\n",
      "13412 0.4205595 0.4200541 0.4357080 0.9831002 0.8636250 0.7958612 0.4398959\n",
      "      GSM536445 GSM536446 GSM536447 GSM536448 GSM536449 GSM536450 GSM536451\n",
      "25972 0.9850780 0.9450866 0.7848944 0.8826945 0.8524178 0.8914209 0.6724523\n",
      "44919 1.0115458 0.7723821 1.1088176 0.8713071 1.0901518 0.9446061 0.5856295\n",
      "43790 0.2451062 0.6920452 0.9057921 0.2423085 0.2343903 0.2268565 0.2028065\n",
      "39847 0.8763043 1.4592058 1.5882978 0.8005355 0.9880499 1.1293224 0.8001097\n",
      "35208 1.4687684 0.8510802 0.8667822 1.0216602 1.2275207 1.2945267 1.4144341\n",
      "13412 0.3482382 1.0555292 0.9605544 0.7815429 0.2620242 0.3247390 0.2465161\n",
      "      GSM536452 GSM536453 GSM536454 GSM536455 GSM536456 GSM536457 GSM536458\n",
      "25972 0.9369414 1.0040055 0.8749394 1.6063745 0.8577839 0.4902837 0.9766914\n",
      "44919 0.8095160 0.7066424 0.9383751 0.3103195 0.9537654 1.1050675 1.1045325\n",
      "43790 0.2206789 0.2938862 0.3287925 0.1987788 0.2685749 0.1774092 0.2449500\n",
      "39847 1.0774747 0.9880499 0.7341547 1.0055105 0.9465292 1.0145729 0.9137435\n",
      "35208 1.2338334 1.0150780 0.9374191 0.6966293 1.9256849 1.0827447 1.5015499\n",
      "13412 0.2034631 0.5893089 0.3045619 0.2248279 0.2951789 0.2246836 0.2419994\n",
      "       GSM536459 GSM536460 GSM536461 GSM536462 GSM536463 GSM536464 GSM536465\n",
      "25972 0.48712306 0.7559344 1.0257253 1.1799929 0.7711392 1.1174209 1.4326227\n",
      "44919 1.15062499 1.2494150 1.3723219 0.9274227 1.2892025 1.3436584 0.5662116\n",
      "43790 0.13831746 0.2312607 0.3391239 0.2135540 0.4740908 0.4729716 0.3058967\n",
      "39847 0.92505386 1.0890916 1.0806346 1.1287796 1.0838008 0.7686579 0.9659125\n",
      "35208 0.79755857 1.6130979 1.2183752 1.2523140 1.3267560 1.4307348 1.1705206\n",
      "13412 0.09537892 0.1914430 0.2314088 0.1910705 0.1831649 0.1915673 0.1350633\n",
      "      GSM536466 GSM536467 GSM536468 GSM536469 GSM536470 GSM536471 GSM536472\n",
      "25972 0.7543044 0.6299639 1.2126814 1.4288484 0.6878638 1.0110419 1.2986771\n",
      "44919 0.2744069 1.2627854 0.8918819 1.3424468 0.6385010 0.9184440 1.0055105\n",
      "43790 0.3114827 0.4825563 0.3205308 0.2819473 0.3482382 0.3424903 0.2723355\n",
      "39847 0.6754380 0.8479649 0.8073710 0.9532818 1.0638534 0.9552174 0.9479733\n",
      "35208 0.6852133 1.4522161 1.0257253 1.4138093 1.2957117 1.7101986 1.6578532\n",
      "13412 0.3320677 0.3022858 0.2514296 0.2231024 0.4545549 0.4800034 0.2575748\n",
      "      GSM536473 GSM536474 GSM536475 GSM536476 GSM536477 GSM536478 GSM536479\n",
      "25972 1.0901518 1.6050317 1.2575429 0.8681379 0.7113013 1.2212285 0.7777854\n",
      "44919 1.0565673 1.1228203 1.1136515 0.5125941 0.5033935 0.5963851 0.8868203\n",
      "43790 0.3384960 0.4879834 0.3009652 0.1603029 0.3405931 0.2564326 0.2468304\n",
      "39847 1.0922744 0.9727621 1.0508663 0.9302710 0.9542492 0.8246501 1.3058111\n",
      "35208 1.5249380 1.2797708 1.5531406 1.0493151 0.8946515 1.1878307 0.4785900\n",
      "13412 0.1514964 0.3036117 0.3606534 0.2787683 0.3330971 0.2242514 0.3203316\n",
      "      GSM536480 GSM536481 GSM536482 GSM536483 GSM536484 GSM536485 GSM536486\n",
      "25972 0.6313804 0.7711392 0.9170321 0.7886776 0.8342697 1.2476776 1.3363986\n",
      "44919 0.5856295 0.9900347 1.2200867 0.5348137 0.7441775 0.5317235 1.2344083\n",
      "43790 0.2296367 0.1849616 0.4307794 0.2590502 0.2842637 0.1593591 0.2094631\n",
      "39847 0.7289840 0.8515259 1.0247080 1.0145729 0.8391105 0.7723821 0.9875542\n",
      "35208 0.9831002 1.4854288 1.2115446 0.8129569 1.3028357 0.9945105 1.6043605\n",
      "13412 0.4019598 0.2105468 0.2796481 0.4325896 0.2511099 0.2911335 0.1691489\n",
      "      GSM536487 GSM536488 GSM536489 GSM536490 GSM536491 GSM536492 GSM536882\n",
      "25972 1.1727449 0.7874150 0.8312000 1.0965277 0.8203048 1.0436407 1.0933367\n",
      "44919 0.8808653 1.4338821 0.8955761 1.2511539 0.4763359 0.8333918 0.7405573\n",
      "43790 0.4292329 0.2361962 0.2507906 0.2444819 0.3147996 0.2147956 0.1550237\n",
      "39847 0.9278970 1.1222796 1.0451862 1.1217391 0.9165617 1.0385004 1.1783177\n",
      "35208 1.0262343 1.3976226 1.1029284 1.2762450 0.4228406 1.0965277 1.5249380\n",
      "13412 0.2245394 0.2322996 0.3745984 0.3355793 0.4848352 0.3635390 0.4120375\n",
      "      GSM536883 GSM536884 GSM536885 GSM536886 GSM536887 GSM536888 GSM536889\n",
      "25972 0.9870586 0.8568878 1.4150590 0.9527984 0.8138188 0.9340785 0.9595825\n",
      "44919 0.7698978 0.5668611 0.4998692 0.8316380 0.5773365 0.6035298 0.5099086\n",
      "43790 0.4513215 0.2600381 0.1321446 0.3446093 0.7453872 0.6431635 0.2018904\n",
      "39847 0.9142128 0.9781677 1.0628104 1.0560481 0.6840797 0.7349527 0.9345552\n",
      "35208 1.2903845 0.9975022 1.2610364 1.0901518 0.9542492 1.3939029 0.8377883\n",
      "13412 0.4992838 0.5195105 0.2882228 0.3366184 0.4264102 0.5243675 0.5933441\n",
      "      GSM536890 GSM536891 GSM536892 GSM536893 GSM536894 GSM536895 GSM536896\n",
      "25972 0.7649474 1.0262343 0.7645360 0.7433718 0.9393318 0.8881987 1.0140679\n",
      "44919 0.7409589 0.3368266 0.7144205 0.7563424 0.6208183 1.1282370 0.6985463\n",
      "43790 0.3273687 0.8233447 0.5219343 0.3829105 0.3503887 0.2826582 0.3343362\n",
      "39847 0.7815429 0.8077997 0.7786193 0.8285754 0.7293807 1.0400407 0.8120956\n",
      "35208 1.0864440 0.4117892 0.7719676 0.9865632 1.0949314 1.2367096 1.0737959\n",
      "13412 0.3403829 0.9170321 0.6467684 0.5740462 0.4674091 0.2913162 0.7996841\n",
      "      GSM536897 GSM536898 GSM536899 GSM536900 GSM536901 GSM536902 GSM536903\n",
      "25972 1.0090281 0.9659125 0.8550978 0.8722141 1.1244435 1.1363942 0.8048026\n",
      "44919 0.8333918 0.5379186 1.0838008 1.0318439 0.3488821 0.8355879 0.8018138\n",
      "43790 0.3283851 0.3937654 0.6243232 0.2101398 0.6705916 0.4362297 0.3691452\n",
      "39847 1.1002585 0.9975022 0.8804085 0.8808653 1.0338889 0.8417597 0.7878357\n",
      "35208 1.3016467 1.3760072 1.0287815 0.9426857 0.7377509 1.9932833 1.2013447\n",
      "13412 0.4591692 0.4341464 0.3241348 0.4341464 0.6595118 0.5119963 0.7171584\n",
      "      GSM536904 GSM536905 GSM536906 GSM536907 GSM536908 GSM536909 GSM536910\n",
      "25972 0.9688439 1.1478793 0.8631746 0.9850780 2.0924822 1.1996501 1.0680321\n",
      "44919 1.1710764 0.6162856 0.5201156 0.4513215 0.3446093 0.6493014 0.9995001\n",
      "43790 0.1879928 0.6460461 0.3671183 0.3469536 0.1747666 0.2869577 0.2711338\n",
      "39847 1.0906822 0.9625004 0.7397546 0.7559344 0.8030937 1.0534550 0.9165617\n",
      "35208 1.3376069 1.6832299 0.8891184 0.6676227 1.5321251 1.7443991 1.4509473\n",
      "13412 0.4475741 0.7389526 0.5122951 0.6048985 0.4704616 0.3923345 0.7579757\n",
      "      GSM536911 GSM536917 GSM536918 GSM536919 GSM536920 GSM536921 GSM536922\n",
      "25972 0.9940125 0.9222169 0.7958612 0.7928974 1.0648970 0.6661422 0.8329531\n",
      "44919 0.8386696 0.8524178 1.1811105 0.6947164 0.8417597 0.9712914 0.8586806\n",
      "43790 0.3308361 0.5113991 0.1952052 0.4486421 0.4029335 0.3840776 0.1966019\n",
      "39847 1.2019099 0.7941666 1.1649718 0.7761198 0.9302710 0.7429692 0.9845833\n",
      "35208 1.5367085 1.6171393 0.8813224 1.6157916 2.0060323 0.8868203 0.8955761\n",
      "13412 0.6028464 0.4943313 0.4187927 0.2964766 0.7674196 0.4957836 0.4978229\n",
      "      GSM536923 GSM536924 GSM536925 GSM536926 GSM536927 GSM536928 GSM536929\n",
      "25972 0.9940125 0.8404343 1.0272526 0.7686579 1.0539733 1.1413071 0.9245806\n",
      "44919 0.4654753 1.0135632 0.5225417 0.7413606 0.5517574 0.6392165 0.5277285\n",
      "43790 0.1609351 0.3028534 0.3107068 0.2098689 0.2819473 0.1608296 0.2324483\n",
      "39847 0.9503837 1.0080222 0.8654281 0.8877391 0.8207386 0.9761996 0.9006737\n",
      "35208 1.4389262 1.2868405 1.0534550 1.1158044 1.2927504 1.2833026 0.7124698\n",
      "13412 0.3940044 0.5943563 0.5137914 0.5134918 0.3495271 0.3153882 0.5069385\n",
      "      GSM536930 GSM536931 GSM536932 GSM536933 GSM536934 GSM536935  GSM536936\n",
      "25972 1.0981256 1.2862505 0.6004594 0.5376074 0.9208008 0.7039357 1.47772599\n",
      "44919 0.9236346 0.7975586 0.6299639 0.9698224 1.2143877 0.8391105 0.65694735\n",
      "43790 0.4377977 0.2610294 0.5007483 0.1567649 0.2020210 0.3959203 0.09770906\n",
      "39847 0.7567504 1.0211528 0.8159765 0.5438590 0.8129569 0.8506346 1.44018889\n",
      "35208 1.1622038 1.4560262 1.1473307 0.6646643 1.0970602 1.4250799 1.53539819\n",
      "13412 0.4070946 0.5192082 0.4147782 0.4140292 0.1811485 0.2426179 0.11109475\n",
      "      GSM536937 GSM536938 GSM536939 GSM536940 GSM536941 GSM536942 GSM536943\n",
      "25972 0.8974274 0.7907854 0.8022403 1.6374282 1.2662880 1.5255906 1.1572322\n",
      "44919 1.0359367 0.9895382 0.7928974 0.9336020 0.9668889 1.2349833 0.9747253\n",
      "43790 0.2024134 0.3337161 0.3873620 0.2498349 0.3575685 0.1796206 0.3223283\n",
      "39847 1.0257253 1.0838008 1.0864440 1.2344083 1.2002148 1.1705206 1.0426113\n",
      "35208 1.3147625 1.1973930 1.4630265 1.4257075 1.3105805 1.1968291 1.5067296\n",
      "13412 0.2049148 0.3644309 0.4085720 0.2432378 0.2914991 0.1753379 0.2723355\n",
      "      GSM536944 GSM536945 GSM536946 GSM536947 GSM536948 GSM536949\n",
      "25972 0.7874150 0.8129569 0.9474918 1.2058712 1.2604537 0.8519718\n",
      "44919 0.8891184 0.8164086 1.5604016 1.3231509 0.7285874 0.7313670\n",
      "43790 0.2731969 0.3085821 0.2714767 0.2046502 0.1815028 0.2013687\n",
      "39847 0.7242358 0.7155929 0.8470764 0.9002094 0.9816186 0.7506467\n",
      "35208 1.2780071 1.1174209 0.7736265 1.1733014 1.1816696 1.4828587\n",
      "13412 0.1992943 0.1508001 0.1384089 0.2874993 0.1731762 0.2709625\n",
      "      GSM535948 GSM535949 GSM535950 GSM535951 GSM536032 GSM536033 GSM536034\n",
      "25972 0.8941895 0.6672524 0.8960387 0.9508663 0.3209295 1.1358492 1.7387914\n",
      "44919 1.2575429 1.1353043 1.1077453 1.1566806 0.9255273 0.8749394 0.8969643\n",
      "43790 0.5876341 0.9278970 0.8103752 0.7262113 1.1056028 0.2146573 0.4370131\n",
      "39847 1.1705206 0.5730620 0.7608405 1.1029284 0.9326494 1.1179600 1.0701256\n",
      "35208 0.9417266 1.1347597 1.0581257 0.9412473 0.6966293 1.1429478 1.3070025\n",
      "13412 0.4475741 0.6683640 0.6271385 0.4090656 1.0000000 0.2033316 0.1616756\n",
      "      GSM536035 GSM536036 GSM536037 GSM536038 GSM536039 GSM536040 GSM536041\n",
      "25972 1.0120499 1.5876304 1.1577839 1.1098906 1.0529369 1.0287815 1.4206906\n",
      "44919 1.0544918 0.6784341 0.4610807 1.1555781 0.8303244 0.7301747 0.4848352\n",
      "43790 0.3179502 0.1371338 0.1478504 0.3978443 0.2706203 0.1946996 0.1968569\n",
      "39847 0.7698978 1.0115458 0.7341547 1.0780009 1.0000000 1.3485116 1.3153606\n",
      "35208 1.2774196 1.6585364 0.8877391 0.9109314 1.1928869 1.0654191 1.0869732\n",
      "13412 0.2491996 0.2742338 0.3302218 0.1741970 0.3803537 0.4529358 0.1898338\n",
      "      GSM536042 GSM536043 GSM536044 GSM536045 GSM536046 GSM536443 GSM536444\n",
      "25972 1.2442074 0.8501892 0.8822370 1.3821626 1.0303119 0.8506346 0.7555267\n",
      "44919 0.9771833 0.4083255 0.7124698 0.8965014 1.0186186 0.7857339 0.4553663\n",
      "43790 0.2953640 0.1777567 0.1816210 1.5876304 0.1449555 0.3300173 0.2697663\n",
      "39847 0.9503837 0.7840555 0.7628919 0.6410082 0.6449639 0.9821123 0.7202973\n",
      "35208 1.0120499 0.9950087 0.9757080 1.0338889 0.8461886 1.4579335 1.2980837\n",
      "13412 0.4205595 0.4200541 0.4357080 0.9831002 0.8636250 0.7958612 0.4398959\n",
      "      GSM536445 GSM536446 GSM536447 GSM536448 GSM536449 GSM536450 GSM536451\n",
      "25972 0.9850780 0.9450866 0.7848944 0.8826945 0.8524178 0.8914209 0.6724523\n",
      "44919 1.0115458 0.7723821 1.1088176 0.8713071 1.0901518 0.9446061 0.5856295\n",
      "43790 0.2451062 0.6920452 0.9057921 0.2423085 0.2343903 0.2268565 0.2028065\n",
      "39847 0.8763043 1.4592058 1.5882978 0.8005355 0.9880499 1.1293224 0.8001097\n",
      "35208 1.4687684 0.8510802 0.8667822 1.0216602 1.2275207 1.2945267 1.4144341\n",
      "13412 0.3482382 1.0555292 0.9605544 0.7815429 0.2620242 0.3247390 0.2465161\n",
      "      GSM536452 GSM536453 GSM536454 GSM536455 GSM536456 GSM536457 GSM536458\n",
      "25972 0.9369414 1.0040055 0.8749394 1.6063745 0.8577839 0.4902837 0.9766914\n",
      "44919 0.8095160 0.7066424 0.9383751 0.3103195 0.9537654 1.1050675 1.1045325\n",
      "43790 0.2206789 0.2938862 0.3287925 0.1987788 0.2685749 0.1774092 0.2449500\n",
      "39847 1.0774747 0.9880499 0.7341547 1.0055105 0.9465292 1.0145729 0.9137435\n",
      "35208 1.2338334 1.0150780 0.9374191 0.6966293 1.9256849 1.0827447 1.5015499\n",
      "13412 0.2034631 0.5893089 0.3045619 0.2248279 0.2951789 0.2246836 0.2419994\n",
      "       GSM536459 GSM536460 GSM536461 GSM536462 GSM536463 GSM536464 GSM536465\n",
      "25972 0.48712306 0.7559344 1.0257253 1.1799929 0.7711392 1.1174209 1.4326227\n",
      "44919 1.15062499 1.2494150 1.3723219 0.9274227 1.2892025 1.3436584 0.5662116\n",
      "43790 0.13831746 0.2312607 0.3391239 0.2135540 0.4740908 0.4729716 0.3058967\n",
      "39847 0.92505386 1.0890916 1.0806346 1.1287796 1.0838008 0.7686579 0.9659125\n",
      "35208 0.79755857 1.6130979 1.2183752 1.2523140 1.3267560 1.4307348 1.1705206\n",
      "13412 0.09537892 0.1914430 0.2314088 0.1910705 0.1831649 0.1915673 0.1350633\n",
      "      GSM536466 GSM536467 GSM536468 GSM536469 GSM536470 GSM536471 GSM536472\n",
      "25972 0.7543044 0.6299639 1.2126814 1.4288484 0.6878638 1.0110419 1.2986771\n",
      "44919 0.2744069 1.2627854 0.8918819 1.3424468 0.6385010 0.9184440 1.0055105\n",
      "43790 0.3114827 0.4825563 0.3205308 0.2819473 0.3482382 0.3424903 0.2723355\n",
      "39847 0.6754380 0.8479649 0.8073710 0.9532818 1.0638534 0.9552174 0.9479733\n",
      "35208 0.6852133 1.4522161 1.0257253 1.4138093 1.2957117 1.7101986 1.6578532\n",
      "13412 0.3320677 0.3022858 0.2514296 0.2231024 0.4545549 0.4800034 0.2575748\n",
      "      GSM536473 GSM536474 GSM536475 GSM536476 GSM536477 GSM536478 GSM536479\n",
      "25972 1.0901518 1.6050317 1.2575429 0.8681379 0.7113013 1.2212285 0.7777854\n",
      "44919 1.0565673 1.1228203 1.1136515 0.5125941 0.5033935 0.5963851 0.8868203\n",
      "43790 0.3384960 0.4879834 0.3009652 0.1603029 0.3405931 0.2564326 0.2468304\n",
      "39847 1.0922744 0.9727621 1.0508663 0.9302710 0.9542492 0.8246501 1.3058111\n",
      "35208 1.5249380 1.2797708 1.5531406 1.0493151 0.8946515 1.1878307 0.4785900\n",
      "13412 0.1514964 0.3036117 0.3606534 0.2787683 0.3330971 0.2242514 0.3203316\n",
      "      GSM536480 GSM536481 GSM536482 GSM536483 GSM536484 GSM536485 GSM536486\n",
      "25972 0.6313804 0.7711392 0.9170321 0.7886776 0.8342697 1.2476776 1.3363986\n",
      "44919 0.5856295 0.9900347 1.2200867 0.5348137 0.7441775 0.5317235 1.2344083\n",
      "43790 0.2296367 0.1849616 0.4307794 0.2590502 0.2842637 0.1593591 0.2094631\n",
      "39847 0.7289840 0.8515259 1.0247080 1.0145729 0.8391105 0.7723821 0.9875542\n",
      "35208 0.9831002 1.4854288 1.2115446 0.8129569 1.3028357 0.9945105 1.6043605\n",
      "13412 0.4019598 0.2105468 0.2796481 0.4325896 0.2511099 0.2911335 0.1691489\n",
      "      GSM536487 GSM536488 GSM536489 GSM536490 GSM536491 GSM536492 GSM536882\n",
      "25972 1.1727449 0.7874150 0.8312000 1.0965277 0.8203048 1.0436407 1.0933367\n",
      "44919 0.8808653 1.4338821 0.8955761 1.2511539 0.4763359 0.8333918 0.7405573\n",
      "43790 0.4292329 0.2361962 0.2507906 0.2444819 0.3147996 0.2147956 0.1550237\n",
      "39847 0.9278970 1.1222796 1.0451862 1.1217391 0.9165617 1.0385004 1.1783177\n",
      "35208 1.0262343 1.3976226 1.1029284 1.2762450 0.4228406 1.0965277 1.5249380\n",
      "13412 0.2245394 0.2322996 0.3745984 0.3355793 0.4848352 0.3635390 0.4120375\n",
      "      GSM536883 GSM536884 GSM536885 GSM536886 GSM536887 GSM536888 GSM536889\n",
      "25972 0.9870586 0.8568878 1.4150590 0.9527984 0.8138188 0.9340785 0.9595825\n",
      "44919 0.7698978 0.5668611 0.4998692 0.8316380 0.5773365 0.6035298 0.5099086\n",
      "43790 0.4513215 0.2600381 0.1321446 0.3446093 0.7453872 0.6431635 0.2018904\n",
      "39847 0.9142128 0.9781677 1.0628104 1.0560481 0.6840797 0.7349527 0.9345552\n",
      "35208 1.2903845 0.9975022 1.2610364 1.0901518 0.9542492 1.3939029 0.8377883\n",
      "13412 0.4992838 0.5195105 0.2882228 0.3366184 0.4264102 0.5243675 0.5933441\n",
      "      GSM536890 GSM536891 GSM536892 GSM536893 GSM536894 GSM536895 GSM536896\n",
      "25972 0.7649474 1.0262343 0.7645360 0.7433718 0.9393318 0.8881987 1.0140679\n",
      "44919 0.7409589 0.3368266 0.7144205 0.7563424 0.6208183 1.1282370 0.6985463\n",
      "43790 0.3273687 0.8233447 0.5219343 0.3829105 0.3503887 0.2826582 0.3343362\n",
      "39847 0.7815429 0.8077997 0.7786193 0.8285754 0.7293807 1.0400407 0.8120956\n",
      "35208 1.0864440 0.4117892 0.7719676 0.9865632 1.0949314 1.2367096 1.0737959\n",
      "13412 0.3403829 0.9170321 0.6467684 0.5740462 0.4674091 0.2913162 0.7996841\n",
      "      GSM536897 GSM536898 GSM536899 GSM536900 GSM536901 GSM536902 GSM536903\n",
      "25972 1.0090281 0.9659125 0.8550978 0.8722141 1.1244435 1.1363942 0.8048026\n",
      "44919 0.8333918 0.5379186 1.0838008 1.0318439 0.3488821 0.8355879 0.8018138\n",
      "43790 0.3283851 0.3937654 0.6243232 0.2101398 0.6705916 0.4362297 0.3691452\n",
      "39847 1.1002585 0.9975022 0.8804085 0.8808653 1.0338889 0.8417597 0.7878357\n",
      "35208 1.3016467 1.3760072 1.0287815 0.9426857 0.7377509 1.9932833 1.2013447\n",
      "13412 0.4591692 0.4341464 0.3241348 0.4341464 0.6595118 0.5119963 0.7171584\n",
      "      GSM536904 GSM536905 GSM536906 GSM536907 GSM536908 GSM536909 GSM536910\n",
      "25972 0.9688439 1.1478793 0.8631746 0.9850780 2.0924822 1.1996501 1.0680321\n",
      "44919 1.1710764 0.6162856 0.5201156 0.4513215 0.3446093 0.6493014 0.9995001\n",
      "43790 0.1879928 0.6460461 0.3671183 0.3469536 0.1747666 0.2869577 0.2711338\n",
      "39847 1.0906822 0.9625004 0.7397546 0.7559344 0.8030937 1.0534550 0.9165617\n",
      "35208 1.3376069 1.6832299 0.8891184 0.6676227 1.5321251 1.7443991 1.4509473\n",
      "13412 0.4475741 0.7389526 0.5122951 0.6048985 0.4704616 0.3923345 0.7579757\n",
      "      GSM536911 GSM536917 GSM536918 GSM536919 GSM536920 GSM536921 GSM536922\n",
      "25972 0.9940125 0.9222169 0.7958612 0.7928974 1.0648970 0.6661422 0.8329531\n",
      "44919 0.8386696 0.8524178 1.1811105 0.6947164 0.8417597 0.9712914 0.8586806\n",
      "43790 0.3308361 0.5113991 0.1952052 0.4486421 0.4029335 0.3840776 0.1966019\n",
      "39847 1.2019099 0.7941666 1.1649718 0.7761198 0.9302710 0.7429692 0.9845833\n",
      "35208 1.5367085 1.6171393 0.8813224 1.6157916 2.0060323 0.8868203 0.8955761\n",
      "13412 0.6028464 0.4943313 0.4187927 0.2964766 0.7674196 0.4957836 0.4978229\n",
      "      GSM536923 GSM536924 GSM536925 GSM536926 GSM536927 GSM536928 GSM536929\n",
      "25972 0.9940125 0.8404343 1.0272526 0.7686579 1.0539733 1.1413071 0.9245806\n",
      "44919 0.4654753 1.0135632 0.5225417 0.7413606 0.5517574 0.6392165 0.5277285\n",
      "43790 0.1609351 0.3028534 0.3107068 0.2098689 0.2819473 0.1608296 0.2324483\n",
      "39847 0.9503837 1.0080222 0.8654281 0.8877391 0.8207386 0.9761996 0.9006737\n",
      "35208 1.4389262 1.2868405 1.0534550 1.1158044 1.2927504 1.2833026 0.7124698\n",
      "13412 0.3940044 0.5943563 0.5137914 0.5134918 0.3495271 0.3153882 0.5069385\n",
      "      GSM536930 GSM536931 GSM536932 GSM536933 GSM536934 GSM536935  GSM536936\n",
      "25972 1.0981256 1.2862505 0.6004594 0.5376074 0.9208008 0.7039357 1.47772599\n",
      "44919 0.9236346 0.7975586 0.6299639 0.9698224 1.2143877 0.8391105 0.65694735\n",
      "43790 0.4377977 0.2610294 0.5007483 0.1567649 0.2020210 0.3959203 0.09770906\n",
      "39847 0.7567504 1.0211528 0.8159765 0.5438590 0.8129569 0.8506346 1.44018889\n",
      "35208 1.1622038 1.4560262 1.1473307 0.6646643 1.0970602 1.4250799 1.53539819\n",
      "13412 0.4070946 0.5192082 0.4147782 0.4140292 0.1811485 0.2426179 0.11109475\n",
      "      GSM536937 GSM536938 GSM536939 GSM536940 GSM536941 GSM536942 GSM536943\n",
      "25972 0.8974274 0.7907854 0.8022403 1.6374282 1.2662880 1.5255906 1.1572322\n",
      "44919 1.0359367 0.9895382 0.7928974 0.9336020 0.9668889 1.2349833 0.9747253\n",
      "43790 0.2024134 0.3337161 0.3873620 0.2498349 0.3575685 0.1796206 0.3223283\n",
      "39847 1.0257253 1.0838008 1.0864440 1.2344083 1.2002148 1.1705206 1.0426113\n",
      "35208 1.3147625 1.1973930 1.4630265 1.4257075 1.3105805 1.1968291 1.5067296\n",
      "13412 0.2049148 0.3644309 0.4085720 0.2432378 0.2914991 0.1753379 0.2723355\n",
      "      GSM536944 GSM536945 GSM536946 GSM536947 GSM536948 GSM536949\n",
      "25972 0.7874150 0.8129569 0.9474918 1.2058712 1.2604537 0.8519718\n",
      "44919 0.8891184 0.8164086 1.5604016 1.3231509 0.7285874 0.7313670\n",
      "43790 0.2731969 0.3085821 0.2714767 0.2046502 0.1815028 0.2013687\n",
      "39847 0.7242358 0.7155929 0.8470764 0.9002094 0.9816186 0.7506467\n",
      "35208 1.2780071 1.1174209 0.7736265 1.1733014 1.1816696 1.4828587\n",
      "13412 0.1992943 0.1508001 0.1384089 0.2874993 0.1731762 0.2709625\n",
      "     GSM535948 GSM535949 GSM535950 GSM535951 GSM536032 GSM536033 GSM536034\n",
      "     GSM536035 GSM536036 GSM536037 GSM536038 GSM536039 GSM536040 GSM536041\n",
      "     GSM536042 GSM536043 GSM536044 GSM536045 GSM536046 GSM536443 GSM536444\n",
      "     GSM536445 GSM536446 GSM536447 GSM536448 GSM536449 GSM536450 GSM536451\n",
      "     GSM536452 GSM536453 GSM536454 GSM536455 GSM536456 GSM536457 GSM536458\n",
      "     GSM536459 GSM536460 GSM536461 GSM536462 GSM536463 GSM536464 GSM536465\n",
      "     GSM536466 GSM536467 GSM536468 GSM536469 GSM536470 GSM536471 GSM536472\n",
      "     GSM536473 GSM536474 GSM536475 GSM536476 GSM536477 GSM536478 GSM536479\n",
      "     GSM536480 GSM536481 GSM536482 GSM536483 GSM536484 GSM536485 GSM536486\n",
      "     GSM536487 GSM536488 GSM536489 GSM536490 GSM536491 GSM536492 GSM536882\n",
      "     GSM536883 GSM536884 GSM536885 GSM536886 GSM536887 GSM536888 GSM536889\n",
      "     GSM536890 GSM536891 GSM536892 GSM536893 GSM536894 GSM536895 GSM536896\n",
      "     GSM536897 GSM536898 GSM536899 GSM536900 GSM536901 GSM536902 GSM536903\n",
      "     GSM536904 GSM536905 GSM536906 GSM536907 GSM536908 GSM536909 GSM536910\n",
      "     GSM536911 GSM536917 GSM536918 GSM536919 GSM536920 GSM536921 GSM536922\n",
      "     GSM536923 GSM536924 GSM536925 GSM536926 GSM536927 GSM536928 GSM536929\n",
      "     GSM536930 GSM536931 GSM536932 GSM536933 GSM536934 GSM536935 GSM536936\n",
      "     GSM536937 GSM536938 GSM536939 GSM536940 GSM536941 GSM536942 GSM536943\n",
      "     GSM536944 GSM536945 GSM536946 GSM536947 GSM536948 GSM536949\n",
      "     GSM535948 GSM535949 GSM535950 GSM535951 GSM536032 GSM536033 GSM536034\n",
      "     GSM536035 GSM536036 GSM536037 GSM536038 GSM536039 GSM536040 GSM536041\n",
      "     GSM536042 GSM536043 GSM536044 GSM536045 GSM536046 GSM536443 GSM536444\n",
      "     GSM536445 GSM536446 GSM536447 GSM536448 GSM536449 GSM536450 GSM536451\n",
      "     GSM536452 GSM536453 GSM536454 GSM536455 GSM536456 GSM536457 GSM536458\n",
      "     GSM536459 GSM536460 GSM536461 GSM536462 GSM536463 GSM536464 GSM536465\n",
      "     GSM536466 GSM536467 GSM536468 GSM536469 GSM536470 GSM536471 GSM536472\n",
      "     GSM536473 GSM536474 GSM536475 GSM536476 GSM536477 GSM536478 GSM536479\n",
      "     GSM536480 GSM536481 GSM536482 GSM536483 GSM536484 GSM536485 GSM536486\n",
      "     GSM536487 GSM536488 GSM536489 GSM536490 GSM536491 GSM536492 GSM536882\n",
      "     GSM536883 GSM536884 GSM536885 GSM536886 GSM536887 GSM536888 GSM536889\n",
      "     GSM536890 GSM536891 GSM536892 GSM536893 GSM536894 GSM536895 GSM536896\n",
      "     GSM536897 GSM536898 GSM536899 GSM536900 GSM536901 GSM536902 GSM536903\n",
      "     GSM536904 GSM536905 GSM536906 GSM536907 GSM536908 GSM536909 GSM536910\n",
      "     GSM536911 GSM536917 GSM536918 GSM536919 GSM536920 GSM536921 GSM536922\n",
      "     GSM536923 GSM536924 GSM536925 GSM536926 GSM536927 GSM536928 GSM536929\n",
      "     GSM536930 GSM536931 GSM536932 GSM536933 GSM536934 GSM536935 GSM536936\n",
      "     GSM536937 GSM536938 GSM536939 GSM536940 GSM536941 GSM536942 GSM536943\n",
      "     GSM536944 GSM536945 GSM536946 GSM536947 GSM536948 GSM536949\n",
      "     GSM535948 GSM535949 GSM535950 GSM535951 GSM536032 GSM536033 GSM536034\n",
      "     GSM536035 GSM536036 GSM536037 GSM536038 GSM536039 GSM536040 GSM536041\n",
      "     GSM536042 GSM536043 GSM536044 GSM536045 GSM536046 GSM536443 GSM536444\n",
      "     GSM536445 GSM536446 GSM536447 GSM536448 GSM536449 GSM536450 GSM536451\n",
      "     GSM536452 GSM536453 GSM536454 GSM536455 GSM536456 GSM536457 GSM536458\n",
      "     GSM536459 GSM536460 GSM536461 GSM536462 GSM536463 GSM536464 GSM536465\n",
      "     GSM536466 GSM536467 GSM536468 GSM536469 GSM536470 GSM536471 GSM536472\n",
      "     GSM536473 GSM536474 GSM536475 GSM536476 GSM536477 GSM536478 GSM536479\n",
      "     GSM536480 GSM536481 GSM536482 GSM536483 GSM536484 GSM536485 GSM536486\n",
      "     GSM536487 GSM536488 GSM536489 GSM536490 GSM536491 GSM536492 GSM536882\n",
      "     GSM536883 GSM536884 GSM536885 GSM536886 GSM536887 GSM536888 GSM536889\n",
      "     GSM536890 GSM536891 GSM536892 GSM536893 GSM536894 GSM536895 GSM536896\n",
      "     GSM536897 GSM536898 GSM536899 GSM536900 GSM536901 GSM536902 GSM536903\n",
      "     GSM536904 GSM536905 GSM536906 GSM536907 GSM536908 GSM536909 GSM536910\n",
      "     GSM536911 GSM536917 GSM536918 GSM536919 GSM536920 GSM536921 GSM536922\n",
      "     GSM536923 GSM536924 GSM536925 GSM536926 GSM536927 GSM536928 GSM536929\n",
      "     GSM536930 GSM536931 GSM536932 GSM536933 GSM536934 GSM536935 GSM536936\n",
      "     GSM536937 GSM536938 GSM536939 GSM536940 GSM536941 GSM536942 GSM536943\n",
      "     GSM536944 GSM536945 GSM536946 GSM536947 GSM536948 GSM536949\n",
      "     GSM535948 GSM535949 GSM535950 GSM535951 GSM536032 GSM536033 GSM536034\n",
      "     GSM536035 GSM536036 GSM536037 GSM536038 GSM536039 GSM536040 GSM536041\n",
      "     GSM536042 GSM536043 GSM536044 GSM536045 GSM536046 GSM536443 GSM536444\n",
      "     GSM536445 GSM536446 GSM536447 GSM536448 GSM536449 GSM536450 GSM536451\n",
      "     GSM536452 GSM536453 GSM536454 GSM536455 GSM536456 GSM536457 GSM536458\n",
      "     GSM536459 GSM536460 GSM536461 GSM536462 GSM536463 GSM536464 GSM536465\n",
      "     GSM536466 GSM536467 GSM536468 GSM536469 GSM536470 GSM536471 GSM536472\n",
      "     GSM536473 GSM536474 GSM536475 GSM536476 GSM536477 GSM536478 GSM536479\n",
      "     GSM536480 GSM536481 GSM536482 GSM536483 GSM536484 GSM536485 GSM536486\n",
      "     GSM536487 GSM536488 GSM536489 GSM536490 GSM536491 GSM536492 GSM536882\n",
      "     GSM536883 GSM536884 GSM536885 GSM536886 GSM536887 GSM536888 GSM536889\n",
      "     GSM536890 GSM536891 GSM536892 GSM536893 GSM536894 GSM536895 GSM536896\n",
      "     GSM536897 GSM536898 GSM536899 GSM536900 GSM536901 GSM536902 GSM536903\n",
      "     GSM536904 GSM536905 GSM536906 GSM536907 GSM536908 GSM536909 GSM536910\n",
      "     GSM536911 GSM536917 GSM536918 GSM536919 GSM536920 GSM536921 GSM536922\n",
      "     GSM536923 GSM536924 GSM536925 GSM536926 GSM536927 GSM536928 GSM536929\n",
      "     GSM536930 GSM536931 GSM536932 GSM536933 GSM536934 GSM536935 GSM536936\n",
      "     GSM536937 GSM536938 GSM536939 GSM536940 GSM536941 GSM536942 GSM536943\n",
      "     GSM536944 GSM536945 GSM536946 GSM536947 GSM536948 GSM536949\n",
      "     GSM535948 GSM535949 GSM535950 GSM535951 GSM536032 GSM536033 GSM536034\n",
      "     GSM536035 GSM536036 GSM536037 GSM536038 GSM536039 GSM536040 GSM536041\n",
      "     GSM536042 GSM536043 GSM536044 GSM536045 GSM536046 GSM536443 GSM536444\n",
      "     GSM536445 GSM536446 GSM536447 GSM536448 GSM536449 GSM536450 GSM536451\n",
      "     GSM536452 GSM536453 GSM536454 GSM536455 GSM536456 GSM536457 GSM536458\n",
      "     GSM536459 GSM536460 GSM536461 GSM536462 GSM536463 GSM536464 GSM536465\n",
      "     GSM536466 GSM536467 GSM536468 GSM536469 GSM536470 GSM536471 GSM536472\n",
      "     GSM536473 GSM536474 GSM536475 GSM536476 GSM536477 GSM536478 GSM536479\n",
      "     GSM536480 GSM536481 GSM536482 GSM536483 GSM536484 GSM536485 GSM536486\n",
      "     GSM536487 GSM536488 GSM536489 GSM536490 GSM536491 GSM536492 GSM536882\n",
      "     GSM536883 GSM536884 GSM536885 GSM536886 GSM536887 GSM536888 GSM536889\n",
      "     GSM536890 GSM536891 GSM536892 GSM536893 GSM536894 GSM536895 GSM536896\n",
      "     GSM536897 GSM536898 GSM536899 GSM536900 GSM536901 GSM536902 GSM536903\n",
      "     GSM536904 GSM536905 GSM536906 GSM536907 GSM536908 GSM536909 GSM536910\n",
      "     GSM536911 GSM536917 GSM536918 GSM536919 GSM536920 GSM536921 GSM536922\n",
      "     GSM536923 GSM536924 GSM536925 GSM536926 GSM536927 GSM536928 GSM536929\n",
      "     GSM536930 GSM536931 GSM536932 GSM536933 GSM536934 GSM536935 GSM536936\n",
      "     GSM536937 GSM536938 GSM536939 GSM536940 GSM536941 GSM536942 GSM536943\n",
      "     GSM536944 GSM536945 GSM536946 GSM536947 GSM536948 GSM536949\n"
     ]
    }
   ],
   "source": [
    "nat5 <- nat4[sample(nrow(nat4)),]\n",
    "\n",
    "folds <- cut(seq(1,nrow(nat5)), breaks=5, labels=FALSE)\n",
    "\n",
    "for(i in 1:10){\n",
    "    testIndexes <- which(folds==i, arr.ind=TRUE)\n",
    "    testData <- nat5[testIndexes, ]\n",
    "    trainData <- nat5[-testIndexes,]\n",
    "    \n",
    "}"
   ]
  },
  {
   "cell_type": "code",
   "execution_count": null,
   "metadata": {
    "collapsed": false
   },
   "outputs": [],
   "source": []
  },
  {
   "cell_type": "code",
   "execution_count": 74,
   "metadata": {
    "collapsed": false
   },
   "outputs": [],
   "source": [
    "train_control <- trainControl(method=\"cv\", number=5)"
   ]
  },
  {
   "cell_type": "code",
   "execution_count": 75,
   "metadata": {
    "collapsed": true
   },
   "outputs": [],
   "source": [
    "grid <- expand.grid(.fL=c(0), .usekernel=c(FALSE))"
   ]
  },
  {
   "cell_type": "code",
   "execution_count": null,
   "metadata": {
    "collapsed": true
   },
   "outputs": [],
   "source": [
    "model <- train(Species~., data=res2, trControl=train_control, method=\"nb\", tuneGrid=grid)\n",
    "# summarize results\n",
    "print(model)"
   ]
  }
 ],
 "metadata": {
  "anaconda-cloud": {},
  "kernelspec": {
   "display_name": "R",
   "language": "R",
   "name": "ir"
  },
  "language_info": {
   "codemirror_mode": "r",
   "file_extension": ".r",
   "mimetype": "text/x-r-source",
   "name": "R",
   "pygments_lexer": "r",
   "version": "3.3.2"
  }
 },
 "nbformat": 4,
 "nbformat_minor": 1
}
