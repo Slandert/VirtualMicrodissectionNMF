{
 "cells": [
  {
   "cell_type": "code",
   "execution_count": 1,
   "metadata": {
    "collapsed": false
   },
   "outputs": [
    {
     "name": "stderr",
     "output_type": "stream",
     "text": [
      "Loading required package: pkgmaker\n",
      "Loading required package: registry\n",
      "\n",
      "Attaching package: 'pkgmaker'\n",
      "\n",
      "The following object is masked from 'package:base':\n",
      "\n",
      "    isNamespaceLoaded\n",
      "\n",
      "Loading required package: rngtools\n",
      "Loading required package: cluster\n",
      "NMF - BioConductor layer [OK] | Shared memory capabilities [NO: windows] | Cores 3/4\n",
      "Bioconductor version 3.4 (BiocInstaller 1.24.0), ?biocLite for help\n",
      "BioC_mirror: https://bioconductor.org\n",
      "Using Bioconductor 3.4 (BiocInstaller 1.24.0), R 3.3.2 (2016-10-31).\n",
      "Installing package(s) 'Biobase'\n",
      "Warning message:\n",
      "\"package 'Biobase' is in use and will not be installed\"Old packages: 'backports', 'broom', 'colorspace', 'data.table', 'digest',\n",
      "  'forcats', 'GenomeInfoDb', 'ggplot2', 'jsonlite', 'Matrix', 'mgcv', 'nlme',\n",
      "  'openssl', 'pbdZMQ', 'psych', 'Rcpp', 'rmarkdown', 'rprojroot',\n",
      "  'rtracklayer', 'selectr', 'shiny', 'stringr', 'tidyr', 'tidyverse', 'xml2',\n",
      "  'zoo'\n",
      "Setting options('download.file.method.GEOquery'='auto')\n",
      "Setting options('GEOquery.inmemory.gpl'=FALSE)\n"
     ]
    }
   ],
   "source": [
    "#install.packages('NMF', repos='http://cran.us.r-project.org')\n",
    "library('NMF')\n",
    "source(\"https://bioconductor.org/biocLite.R\")\n",
    "biocLite(\"Biobase\", \"GEOquery\")\n",
    "library('GEOquery')"
   ]
  },
  {
   "cell_type": "code",
   "execution_count": 3,
   "metadata": {
    "collapsed": false
   },
   "outputs": [
    {
     "name": "stderr",
     "output_type": "stream",
     "text": [
      "https://ftp.ncbi.nlm.nih.gov/geo/series/GSE21nnn/GSE21501/matrix/\n",
      "OK\n",
      "Found 1 file(s)\n",
      "GSE21501_series_matrix.txt.gz\n",
      "File stored at: \n",
      "C:\\Users\\mayars1\\AppData\\Local\\Temp\\RtmpoxGHai/GPL4133.soft\n",
      "Warning message in read.table(file = file, header = header, sep = sep, quote = quote, :\n",
      "\"not all columns named in 'colClasses' exist\""
     ]
    }
   ],
   "source": [
    "gse <- getGEO('GSE21501', GSEMatrix=TRUE)"
   ]
  },
  {
   "cell_type": "code",
   "execution_count": 4,
   "metadata": {
    "collapsed": false
   },
   "outputs": [
    {
     "name": "stdout",
     "output_type": "stream",
     "text": [
      "$GSE21501_series_matrix.txt.gz\n",
      "ExpressionSet (storageMode: lockedEnvironment)\n",
      "assayData: 45220 features, 132 samples \n",
      "  element names: exprs \n",
      "protocolData: none\n",
      "phenoData\n",
      "  sampleNames: GSM535948 GSM535949 ... GSM536949 (132 total)\n",
      "  varLabels: title geo_accession ... data_row_count (48 total)\n",
      "  varMetadata: labelDescription\n",
      "featureData\n",
      "  featureNames: 1 2 ... 45220 (45220 total)\n",
      "  fvarLabels: ID COL ... ORDER (22 total)\n",
      "  fvarMetadata: Column Description labelDescription\n",
      "experimentData: use 'experimentData(object)'\n",
      "Annotation: GPL4133 \n",
      "\n"
     ]
    }
   ],
   "source": [
    "show(gse)"
   ]
  },
  {
   "cell_type": "code",
   "execution_count": 5,
   "metadata": {
    "collapsed": false
   },
   "outputs": [
    {
     "data": {
      "text/html": [
       "<dl class=dl-horizontal>\n",
       "\t<dt>Features</dt>\n",
       "\t\t<dd>45220</dd>\n",
       "\t<dt>Samples</dt>\n",
       "\t\t<dd>132</dd>\n",
       "</dl>\n"
      ],
      "text/latex": [
       "\\begin{description*}\n",
       "\\item[Features] 45220\n",
       "\\item[Samples] 132\n",
       "\\end{description*}\n"
      ],
      "text/markdown": [
       "Features\n",
       ":   45220Samples\n",
       ":   132\n",
       "\n"
      ],
      "text/plain": [
       "Features  Samples \n",
       "   45220      132 "
      ]
     },
     "metadata": {},
     "output_type": "display_data"
    },
    {
     "data": {
      "text/html": [
       "'ExpressionSet'"
      ],
      "text/latex": [
       "'ExpressionSet'"
      ],
      "text/markdown": [
       "'ExpressionSet'"
      ],
      "text/plain": [
       "[1] \"ExpressionSet\"\n",
       "attr(,\"package\")\n",
       "[1] \"Biobase\""
      ]
     },
     "metadata": {},
     "output_type": "display_data"
    }
   ],
   "source": [
    "#Pull out ExpressionSet object\n",
    "\n",
    "exprSetGSE <- gse[[1]]\n",
    "dim(exprSetGSE)\n",
    "class(exprSetGSE)"
   ]
  },
  {
   "cell_type": "code",
   "execution_count": 6,
   "metadata": {
    "collapsed": false
   },
   "outputs": [
    {
     "data": {
      "text/html": [
       "<table>\n",
       "<thead><tr><th></th><th scope=col>GSM535948</th><th scope=col>GSM535949</th><th scope=col>GSM535950</th><th scope=col>GSM535951</th><th scope=col>GSM536032</th><th scope=col>GSM536033</th><th scope=col>GSM536034</th><th scope=col>GSM536035</th><th scope=col>GSM536036</th><th scope=col>GSM536037</th><th scope=col>...</th><th scope=col>GSM536940</th><th scope=col>GSM536941</th><th scope=col>GSM536942</th><th scope=col>GSM536943</th><th scope=col>GSM536944</th><th scope=col>GSM536945</th><th scope=col>GSM536946</th><th scope=col>GSM536947</th><th scope=col>GSM536948</th><th scope=col>GSM536949</th></tr></thead>\n",
       "<tbody>\n",
       "\t<tr><th scope=row>1</th><td>2.0986104</td><td>1.5929736</td><td>2.0657654</td><td>1.9367518</td><td>3.0840305</td><td>1.4019698</td><td>2.4504991</td><td>1.6901235</td><td>2.5808569</td><td>1.7924373</td><td>...      </td><td>1.8534091</td><td>0.9118681</td><td>1.6605868</td><td>1.1688542</td><td>1.5983266</td><td>1.1721886</td><td>1.9493306</td><td>1.2041725</td><td>2.0158068</td><td>1.3637457</td></tr>\n",
       "\t<tr><th scope=row>2</th><td>0.7333574</td><td>0.8399929</td><td>1.0308224</td><td>0.9542492</td><td>1.0555292</td><td>1.4700461</td><td>0.9288461</td><td>0.5216308</td><td>0.5963851</td><td>0.5225417</td><td>...      </td><td>1.1883918</td><td>1.0196318</td><td>0.6274911</td><td>1.0790539</td><td>0.4545549</td><td>0.7912074</td><td>1.2166653</td><td>0.1668406</td><td>0.6890023</td><td>0.9875542</td></tr>\n",
       "\t<tr><th scope=row>3</th><td>0.5039829</td><td>0.9297959</td><td>1.0981256</td><td>0.9137435</td><td>1.0633318</td><td>0.8065142</td><td>0.6399327</td><td>1.2200867</td><td>0.6464072</td><td>1.0252166</td><td>...      </td><td>1.0000000</td><td>1.4528507</td><td>1.2321097</td><td>0.5859632</td><td>1.0565673</td><td>0.7429692</td><td>1.7570503</td><td>1.2604537</td><td>0.7453872</td><td>1.4880015</td></tr>\n",
       "\t<tr><th scope=row>4</th><td>0.8259570</td><td>1.0901518</td><td>1.1039977</td><td>0.8177058</td><td>1.0441557</td><td>0.8937276</td><td>0.6958637</td><td>1.5439266</td><td>0.9412473</td><td>0.7798712</td><td>...      </td><td>1.0706494</td><td>0.7490254</td><td>1.1788759</td><td>1.6571702</td><td>1.5802996</td><td>0.7510524</td><td>0.7886776</td><td>0.5204183</td><td>0.6855914</td><td>1.0085250</td></tr>\n",
       "\t<tr><th scope=row>5</th><td>0.8391105</td><td>0.8649771</td><td>1.0997250</td><td>1.0211528</td><td>0.9737434</td><td>1.2246580</td><td>0.4954929</td><td>1.2041725</td><td>0.8052302</td><td>1.0954633</td><td>...      </td><td>1.0000000</td><td>0.2864171</td><td>0.8904994</td><td>0.8537570</td><td>0.7575671</td><td>1.0451862</td><td>0.2235326</td><td>0.6264337</td><td>0.5231497</td><td>1.0550104</td></tr>\n",
       "\t<tr><th scope=row>6</th><td>0.6893821</td><td>0.9297959</td><td>0.9975022</td><td>0.9900347</td><td>1.1473307</td><td>1.0354245</td><td>0.4080790</td><td>0.8399929</td><td>0.8515259</td><td>1.2036066</td><td>...      </td><td>0.8559925</td><td>0.6882432</td><td>1.4611154</td><td>0.8667822</td><td>1.1131137</td><td>0.4561789</td><td>0.7266069</td><td>1.2821247</td><td>0.5161930</td><td>0.1160140</td></tr>\n",
       "</tbody>\n",
       "</table>\n"
      ],
      "text/latex": [
       "\\begin{tabular}{r|llllllllllllllllllllllllllllllllllllllllllllllllllllllllllllllllllllllllllllllllllllllllllllllllllllllllllllllllllllllllllllllllllll}\n",
       "  & GSM535948 & GSM535949 & GSM535950 & GSM535951 & GSM536032 & GSM536033 & GSM536034 & GSM536035 & GSM536036 & GSM536037 & ... & GSM536940 & GSM536941 & GSM536942 & GSM536943 & GSM536944 & GSM536945 & GSM536946 & GSM536947 & GSM536948 & GSM536949\\\\\n",
       "\\hline\n",
       "\t1 & 2.0986104 & 1.5929736 & 2.0657654 & 1.9367518 & 3.0840305 & 1.4019698 & 2.4504991 & 1.6901235 & 2.5808569 & 1.7924373 & ...       & 1.8534091 & 0.9118681 & 1.6605868 & 1.1688542 & 1.5983266 & 1.1721886 & 1.9493306 & 1.2041725 & 2.0158068 & 1.3637457\\\\\n",
       "\t2 & 0.7333574 & 0.8399929 & 1.0308224 & 0.9542492 & 1.0555292 & 1.4700461 & 0.9288461 & 0.5216308 & 0.5963851 & 0.5225417 & ...       & 1.1883918 & 1.0196318 & 0.6274911 & 1.0790539 & 0.4545549 & 0.7912074 & 1.2166653 & 0.1668406 & 0.6890023 & 0.9875542\\\\\n",
       "\t3 & 0.5039829 & 0.9297959 & 1.0981256 & 0.9137435 & 1.0633318 & 0.8065142 & 0.6399327 & 1.2200867 & 0.6464072 & 1.0252166 & ...       & 1.0000000 & 1.4528507 & 1.2321097 & 0.5859632 & 1.0565673 & 0.7429692 & 1.7570503 & 1.2604537 & 0.7453872 & 1.4880015\\\\\n",
       "\t4 & 0.8259570 & 1.0901518 & 1.1039977 & 0.8177058 & 1.0441557 & 0.8937276 & 0.6958637 & 1.5439266 & 0.9412473 & 0.7798712 & ...       & 1.0706494 & 0.7490254 & 1.1788759 & 1.6571702 & 1.5802996 & 0.7510524 & 0.7886776 & 0.5204183 & 0.6855914 & 1.0085250\\\\\n",
       "\t5 & 0.8391105 & 0.8649771 & 1.0997250 & 1.0211528 & 0.9737434 & 1.2246580 & 0.4954929 & 1.2041725 & 0.8052302 & 1.0954633 & ...       & 1.0000000 & 0.2864171 & 0.8904994 & 0.8537570 & 0.7575671 & 1.0451862 & 0.2235326 & 0.6264337 & 0.5231497 & 1.0550104\\\\\n",
       "\t6 & 0.6893821 & 0.9297959 & 0.9975022 & 0.9900347 & 1.1473307 & 1.0354245 & 0.4080790 & 0.8399929 & 0.8515259 & 1.2036066 & ...       & 0.8559925 & 0.6882432 & 1.4611154 & 0.8667822 & 1.1131137 & 0.4561789 & 0.7266069 & 1.2821247 & 0.5161930 & 0.1160140\\\\\n",
       "\\end{tabular}\n"
      ],
      "text/markdown": [
       "\n",
       "| <!--/--> | GSM535948 | GSM535949 | GSM535950 | GSM535951 | GSM536032 | GSM536033 | GSM536034 | GSM536035 | GSM536036 | GSM536037 | ... | GSM536940 | GSM536941 | GSM536942 | GSM536943 | GSM536944 | GSM536945 | GSM536946 | GSM536947 | GSM536948 | GSM536949 | \n",
       "|---|---|---|---|---|---|\n",
       "| 1 | 2.0986104 | 1.5929736 | 2.0657654 | 1.9367518 | 3.0840305 | 1.4019698 | 2.4504991 | 1.6901235 | 2.5808569 | 1.7924373 | ...       | 1.8534091 | 0.9118681 | 1.6605868 | 1.1688542 | 1.5983266 | 1.1721886 | 1.9493306 | 1.2041725 | 2.0158068 | 1.3637457 | \n",
       "| 2 | 0.7333574 | 0.8399929 | 1.0308224 | 0.9542492 | 1.0555292 | 1.4700461 | 0.9288461 | 0.5216308 | 0.5963851 | 0.5225417 | ...       | 1.1883918 | 1.0196318 | 0.6274911 | 1.0790539 | 0.4545549 | 0.7912074 | 1.2166653 | 0.1668406 | 0.6890023 | 0.9875542 | \n",
       "| 3 | 0.5039829 | 0.9297959 | 1.0981256 | 0.9137435 | 1.0633318 | 0.8065142 | 0.6399327 | 1.2200867 | 0.6464072 | 1.0252166 | ...       | 1.0000000 | 1.4528507 | 1.2321097 | 0.5859632 | 1.0565673 | 0.7429692 | 1.7570503 | 1.2604537 | 0.7453872 | 1.4880015 | \n",
       "| 4 | 0.8259570 | 1.0901518 | 1.1039977 | 0.8177058 | 1.0441557 | 0.8937276 | 0.6958637 | 1.5439266 | 0.9412473 | 0.7798712 | ...       | 1.0706494 | 0.7490254 | 1.1788759 | 1.6571702 | 1.5802996 | 0.7510524 | 0.7886776 | 0.5204183 | 0.6855914 | 1.0085250 | \n",
       "| 5 | 0.8391105 | 0.8649771 | 1.0997250 | 1.0211528 | 0.9737434 | 1.2246580 | 0.4954929 | 1.2041725 | 0.8052302 | 1.0954633 | ...       | 1.0000000 | 0.2864171 | 0.8904994 | 0.8537570 | 0.7575671 | 1.0451862 | 0.2235326 | 0.6264337 | 0.5231497 | 1.0550104 | \n",
       "| 6 | 0.6893821 | 0.9297959 | 0.9975022 | 0.9900347 | 1.1473307 | 1.0354245 | 0.4080790 | 0.8399929 | 0.8515259 | 1.2036066 | ...       | 0.8559925 | 0.6882432 | 1.4611154 | 0.8667822 | 1.1131137 | 0.4561789 | 0.7266069 | 1.2821247 | 0.5161930 | 0.1160140 | \n",
       "\n",
       "\n"
      ],
      "text/plain": [
       "  GSM535948 GSM535949 GSM535950 GSM535951 GSM536032 GSM536033 GSM536034\n",
       "1 2.0986104 1.5929736 2.0657654 1.9367518 3.0840305 1.4019698 2.4504991\n",
       "2 0.7333574 0.8399929 1.0308224 0.9542492 1.0555292 1.4700461 0.9288461\n",
       "3 0.5039829 0.9297959 1.0981256 0.9137435 1.0633318 0.8065142 0.6399327\n",
       "4 0.8259570 1.0901518 1.1039977 0.8177058 1.0441557 0.8937276 0.6958637\n",
       "5 0.8391105 0.8649771 1.0997250 1.0211528 0.9737434 1.2246580 0.4954929\n",
       "6 0.6893821 0.9297959 0.9975022 0.9900347 1.1473307 1.0354245 0.4080790\n",
       "  GSM536035 GSM536036 GSM536037 ... GSM536940 GSM536941 GSM536942 GSM536943\n",
       "1 1.6901235 2.5808569 1.7924373 ... 1.8534091 0.9118681 1.6605868 1.1688542\n",
       "2 0.5216308 0.5963851 0.5225417 ... 1.1883918 1.0196318 0.6274911 1.0790539\n",
       "3 1.2200867 0.6464072 1.0252166 ... 1.0000000 1.4528507 1.2321097 0.5859632\n",
       "4 1.5439266 0.9412473 0.7798712 ... 1.0706494 0.7490254 1.1788759 1.6571702\n",
       "5 1.2041725 0.8052302 1.0954633 ... 1.0000000 0.2864171 0.8904994 0.8537570\n",
       "6 0.8399929 0.8515259 1.2036066 ... 0.8559925 0.6882432 1.4611154 0.8667822\n",
       "  GSM536944 GSM536945 GSM536946 GSM536947 GSM536948 GSM536949\n",
       "1 1.5983266 1.1721886 1.9493306 1.2041725 2.0158068 1.3637457\n",
       "2 0.4545549 0.7912074 1.2166653 0.1668406 0.6890023 0.9875542\n",
       "3 1.0565673 0.7429692 1.7570503 1.2604537 0.7453872 1.4880015\n",
       "4 1.5802996 0.7510524 0.7886776 0.5204183 0.6855914 1.0085250\n",
       "5 0.7575671 1.0451862 0.2235326 0.6264337 0.5231497 1.0550104\n",
       "6 1.1131137 0.4561789 0.7266069 1.2821247 0.5161930 0.1160140"
      ]
     },
     "metadata": {},
     "output_type": "display_data"
    }
   ],
   "source": [
    "#Adding 1 to all values to prevent negatives\n",
    "\n",
    "nat <- exprs(exprSetGSE)\n",
    "nat2 <- 2^nat\n",
    "nat3 <- nat2 +1\n",
    "nat4 <- log2(nat3)\n",
    "head(nat4)"
   ]
  },
  {
   "cell_type": "code",
   "execution_count": 56,
   "metadata": {
    "collapsed": false,
    "scrolled": true
   },
   "outputs": [
    {
     "name": "stderr",
     "output_type": "stream",
     "text": [
      "NMF algorithm: 'brunet'\n",
      "Multiple runs: 10\n",
      "Mode: parallel (3/4 core(s))\n"
     ]
    },
    {
     "name": "stdout",
     "output_type": "stream",
     "text": [
      "\r",
      "Runs: |                                                        \r",
      "Runs: |                                                  |   0%\r",
      "Runs: |                                                        \r",
      "Runs: |==================================================| 100%\n",
      "System time:\n",
      "   user  system elapsed \n",
      "   1.08    0.40 4646.33 \n"
     ]
    }
   ],
   "source": [
    "\"\"\"\n",
    "Nonnegative matrix factorization on dataset.\n",
    "\n",
    "K = 14 (factors)\n",
    "nrun = 10 (NMF will run ten times and select the run with the lowest loss value)\n",
    "\n",
    "\n",
    "\"\"\"\n",
    "\n",
    "\n",
    "\n",
    "\n",
    "res <- nmf(nat4, 14, nrun = 10, .opt = \"v\")"
   ]
  },
  {
   "cell_type": "code",
   "execution_count": 16,
   "metadata": {
    "collapsed": false
   },
   "outputs": [
    {
     "data": {
      "image/png": "[encoded data removed]",
      "text/plain": [
       "plot without title"
      ]
     },
     "metadata": {},
     "output_type": "display_data"
    }
   ],
   "source": [
    "#Vaguely understand what I'm looking at.  No metric for what a \"good\" consensus looks like though.\n",
    "\n",
    "consensusmap(res)"
   ]
  },
  {
   "cell_type": "code",
   "execution_count": 22,
   "metadata": {
    "collapsed": false
   },
   "outputs": [
    {
     "data": {
      "image/png": "[encoded data removed]",
      "text/plain": [
       "plot without title"
      ]
     },
     "metadata": {},
     "output_type": "display_data"
    }
   ],
   "source": [
    "\"\"\"\n",
    "This is moderately more informative.  Ideally sample of the same group (per phylo tree) would cluster on the same\n",
    "factors (vertical axis).  Some of that is in evidence, but still not sure how much better it could be.\n",
    "\"\"\"\n",
    "\n",
    "coefmap(res)"
   ]
  },
  {
   "cell_type": "code",
   "execution_count": null,
   "metadata": {
    "collapsed": false
   },
   "outputs": [],
   "source": [
    "#Using result from previous nmf run to seed NMF to convergence with alternating least-squares solver.\n",
    "#This takes a while to run.\n",
    "\n",
    "res2 = nmf(nat4, 14, method=\"snmf/l\", seed = res)"
   ]
  },
  {
   "cell_type": "code",
   "execution_count": null,
   "metadata": {
    "collapsed": false
   },
   "outputs": [],
   "source": [
    "\"\"\"\n",
    "NMF factors matrix V into matrices W (weights) and H (basis).\n",
    "\n",
    "In this case, S = W (sample loadings) and G = H (gene loadings).\n",
    "\"\"\"\n",
    "\n",
    "S <- coef(res2)\n",
    "G <- basis(res2)\n",
    "\n",
    "dim(S)\n",
    "dim(G)"
   ]
  },
  {
   "cell_type": "code",
   "execution_count": null,
   "metadata": {
    "collapsed": false
   },
   "outputs": [],
   "source": [
    "\"\"\"\n",
    "This part is tricky, and I couldn't find an R package to do it neatly.\n",
    "\n",
    "From the paper: \n",
    "For each of the k factors, a set of distinct exemplar genes for the ith factor was established by ranking genes in \n",
    "descending order of the difference between the loading value in the ith column of matrix G and the largest \n",
    "loading value not in the ith column of matrix G.\n",
    "\n",
    "2/20/17: After these operations, the 'top 50' in each column is logically mostly or entirely the genes that were '0'\n",
    "in the basis matrix (G).  I think this means that descending order must be a typo, but I can't find another example of \n",
    "this process.\n",
    "\n",
    "\"\"\"\n",
    "\n",
    "gScaled <- scale(G, center = colMeans(G)-1, scale = FALSE)\n",
    "\n",
    "colMax <- function(data) sapply(data, max, na.rm = TRUE)"
   ]
  },
  {
   "cell_type": "code",
   "execution_count": null,
   "metadata": {
    "collapsed": false
   },
   "outputs": [],
   "source": [
    "headers <- c(\"A\", \"B\", \"C\", \"D\", \"E\", \"F\", \"G\", \"H\", \"I\", \"J\", \"K\", \"L\", \"M\", \"N\")\n",
    "\n",
    "colnames(gScaled) <- headers\n",
    "\n",
    "#colMax <- apply(gScaled,2,max)\n",
    "nonColMax <- colMax\n",
    "\n",
    "for(i in seq(from=1, to=14, by=1)){\n",
    "    nonColMax[i] <- max(colMax[-i])\n",
    "}\n",
    "\n",
    "g3 <- gScaled\n",
    "\n",
    "for(i in headers){\n",
    "    g3[,i] <- g3[,i] - nonColMax[i]\n",
    "}"
   ]
  }
 ],
 "metadata": {
  "anaconda-cloud": {},
  "kernelspec": {
   "display_name": "R",
   "language": "R",
   "name": "ir"
  },
  "language_info": {
   "codemirror_mode": "r",
   "file_extension": ".r",
   "mimetype": "text/x-r-source",
   "name": "R",
   "pygments_lexer": "r",
   "version": "3.3.2"
  }
 },
 "nbformat": 4,
 "nbformat_minor": 1
}
