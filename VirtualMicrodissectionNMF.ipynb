{
 "cells": [
  {
   "cell_type": "code",
   "execution_count": 1,
   "metadata": {
    "collapsed": false
   },
   "outputs": [
    {
     "name": "stderr",
     "output_type": "stream",
     "text": [
      "Loading required package: pkgmaker\n",
      "Loading required package: registry\n",
      "\n",
      "Attaching package: 'pkgmaker'\n",
      "\n",
      "The following object is masked from 'package:base':\n",
      "\n",
      "    isNamespaceLoaded\n",
      "\n",
      "Loading required package: rngtools\n",
      "Loading required package: cluster\n",
      "NMF - BioConductor layer [OK] | Shared memory capabilities [NO: windows] | Cores 3/4\n",
      "Bioconductor version 3.4 (BiocInstaller 1.24.0), ?biocLite for help\n",
      "BioC_mirror: https://bioconductor.org\n",
      "Using Bioconductor 3.4 (BiocInstaller 1.24.0), R 3.3.2 (2016-10-31).\n",
      "Installing package(s) 'Biobase'\n",
      "Warning message:\n",
      "\"package 'Biobase' is in use and will not be installed\"Old packages: 'backports', 'broom', 'colorspace', 'data.table', 'digest',\n",
      "  'forcats', 'GenomeInfoDb', 'ggplot2', 'jsonlite', 'Matrix', 'mgcv', 'nlme',\n",
      "  'openssl', 'pbdZMQ', 'psych', 'Rcpp', 'rmarkdown', 'rprojroot',\n",
      "  'rtracklayer', 'selectr', 'shiny', 'stringr', 'tidyr', 'tidyverse', 'xml2',\n",
      "  'zoo'\n",
      "Setting options('download.file.method.GEOquery'='auto')\n",
      "Setting options('GEOquery.inmemory.gpl'=FALSE)\n"
     ]
    }
   ],
   "source": [
    "#install.packages('NMF', repos='http://cran.us.r-project.org')\n",
    "library('NMF')\n",
    "source(\"https://bioconductor.org/biocLite.R\")\n",
    "biocLite(\"Biobase\", \"GEOquery\")\n",
    "library('GEOquery')"
   ]
  },
  {
   "cell_type": "code",
   "execution_count": 2,
   "metadata": {
    "collapsed": false
   },
   "outputs": [
    {
     "name": "stderr",
     "output_type": "stream",
     "text": [
      "https://ftp.ncbi.nlm.nih.gov/geo/series/GSE21nnn/GSE21501/matrix/\n",
      "OK\n",
      "Found 1 file(s)\n",
      "GSE21501_series_matrix.txt.gz\n",
      "File stored at: \n",
      "C:\\Users\\mayars1\\AppData\\Local\\Temp\\RtmpuGrAoe/GPL4133.soft\n",
      "Warning message in read.table(file = file, header = header, sep = sep, quote = quote, :\n",
      "\"not all columns named in 'colClasses' exist\""
     ]
    }
   ],
   "source": [
    "gse <- getGEO('GSE21501', GSEMatrix=TRUE)"
   ]
  },
  {
   "cell_type": "code",
   "execution_count": 3,
   "metadata": {
    "collapsed": false
   },
   "outputs": [
    {
     "name": "stdout",
     "output_type": "stream",
     "text": [
      "$GSE21501_series_matrix.txt.gz\n",
      "ExpressionSet (storageMode: lockedEnvironment)\n",
      "assayData: 45220 features, 132 samples \n",
      "  element names: exprs \n",
      "protocolData: none\n",
      "phenoData\n",
      "  sampleNames: GSM535948 GSM535949 ... GSM536949 (132 total)\n",
      "  varLabels: title geo_accession ... data_row_count (48 total)\n",
      "  varMetadata: labelDescription\n",
      "featureData\n",
      "  featureNames: 1 2 ... 45220 (45220 total)\n",
      "  fvarLabels: ID COL ... ORDER (22 total)\n",
      "  fvarMetadata: Column Description labelDescription\n",
      "experimentData: use 'experimentData(object)'\n",
      "Annotation: GPL4133 \n",
      "\n"
     ]
    }
   ],
   "source": [
    "show(gse)"
   ]
  },
  {
   "cell_type": "code",
   "execution_count": 4,
   "metadata": {
    "collapsed": false
   },
   "outputs": [
    {
     "data": {
      "text/html": [
       "<dl class=dl-horizontal>\n",
       "\t<dt>Features</dt>\n",
       "\t\t<dd>45220</dd>\n",
       "\t<dt>Samples</dt>\n",
       "\t\t<dd>132</dd>\n",
       "</dl>\n"
      ],
      "text/latex": [
       "\\begin{description*}\n",
       "\\item[Features] 45220\n",
       "\\item[Samples] 132\n",
       "\\end{description*}\n"
      ],
      "text/markdown": [
       "Features\n",
       ":   45220Samples\n",
       ":   132\n",
       "\n"
      ],
      "text/plain": [
       "Features  Samples \n",
       "   45220      132 "
      ]
     },
     "metadata": {},
     "output_type": "display_data"
    },
    {
     "data": {
      "text/html": [
       "'ExpressionSet'"
      ],
      "text/latex": [
       "'ExpressionSet'"
      ],
      "text/markdown": [
       "'ExpressionSet'"
      ],
      "text/plain": [
       "[1] \"ExpressionSet\"\n",
       "attr(,\"package\")\n",
       "[1] \"Biobase\""
      ]
     },
     "metadata": {},
     "output_type": "display_data"
    }
   ],
   "source": [
    "#Pull out ExpressionSet object\n",
    "\n",
    "exprSetGSE <- gse[[1]]\n",
    "dim(exprSetGSE)\n",
    "class(exprSetGSE)"
   ]
  },
  {
   "cell_type": "code",
   "execution_count": 5,
   "metadata": {
    "collapsed": false
   },
   "outputs": [
    {
     "data": {
      "text/html": [
       "<table>\n",
       "<thead><tr><th></th><th scope=col>GSM535948</th><th scope=col>GSM535949</th><th scope=col>GSM535950</th><th scope=col>GSM535951</th><th scope=col>GSM536032</th><th scope=col>GSM536033</th><th scope=col>GSM536034</th><th scope=col>GSM536035</th><th scope=col>GSM536036</th><th scope=col>GSM536037</th><th scope=col>...</th><th scope=col>GSM536940</th><th scope=col>GSM536941</th><th scope=col>GSM536942</th><th scope=col>GSM536943</th><th scope=col>GSM536944</th><th scope=col>GSM536945</th><th scope=col>GSM536946</th><th scope=col>GSM536947</th><th scope=col>GSM536948</th><th scope=col>GSM536949</th></tr></thead>\n",
       "<tbody>\n",
       "\t<tr><th scope=row>1</th><td>2.0986104</td><td>1.5929736</td><td>2.0657654</td><td>1.9367518</td><td>3.0840305</td><td>1.4019698</td><td>2.4504991</td><td>1.6901235</td><td>2.5808569</td><td>1.7924373</td><td>...      </td><td>1.8534091</td><td>0.9118681</td><td>1.6605868</td><td>1.1688542</td><td>1.5983266</td><td>1.1721886</td><td>1.9493306</td><td>1.2041725</td><td>2.0158068</td><td>1.3637457</td></tr>\n",
       "\t<tr><th scope=row>2</th><td>0.7333574</td><td>0.8399929</td><td>1.0308224</td><td>0.9542492</td><td>1.0555292</td><td>1.4700461</td><td>0.9288461</td><td>0.5216308</td><td>0.5963851</td><td>0.5225417</td><td>...      </td><td>1.1883918</td><td>1.0196318</td><td>0.6274911</td><td>1.0790539</td><td>0.4545549</td><td>0.7912074</td><td>1.2166653</td><td>0.1668406</td><td>0.6890023</td><td>0.9875542</td></tr>\n",
       "\t<tr><th scope=row>3</th><td>0.5039829</td><td>0.9297959</td><td>1.0981256</td><td>0.9137435</td><td>1.0633318</td><td>0.8065142</td><td>0.6399327</td><td>1.2200867</td><td>0.6464072</td><td>1.0252166</td><td>...      </td><td>1.0000000</td><td>1.4528507</td><td>1.2321097</td><td>0.5859632</td><td>1.0565673</td><td>0.7429692</td><td>1.7570503</td><td>1.2604537</td><td>0.7453872</td><td>1.4880015</td></tr>\n",
       "\t<tr><th scope=row>4</th><td>0.8259570</td><td>1.0901518</td><td>1.1039977</td><td>0.8177058</td><td>1.0441557</td><td>0.8937276</td><td>0.6958637</td><td>1.5439266</td><td>0.9412473</td><td>0.7798712</td><td>...      </td><td>1.0706494</td><td>0.7490254</td><td>1.1788759</td><td>1.6571702</td><td>1.5802996</td><td>0.7510524</td><td>0.7886776</td><td>0.5204183</td><td>0.6855914</td><td>1.0085250</td></tr>\n",
       "\t<tr><th scope=row>5</th><td>0.8391105</td><td>0.8649771</td><td>1.0997250</td><td>1.0211528</td><td>0.9737434</td><td>1.2246580</td><td>0.4954929</td><td>1.2041725</td><td>0.8052302</td><td>1.0954633</td><td>...      </td><td>1.0000000</td><td>0.2864171</td><td>0.8904994</td><td>0.8537570</td><td>0.7575671</td><td>1.0451862</td><td>0.2235326</td><td>0.6264337</td><td>0.5231497</td><td>1.0550104</td></tr>\n",
       "\t<tr><th scope=row>6</th><td>0.6893821</td><td>0.9297959</td><td>0.9975022</td><td>0.9900347</td><td>1.1473307</td><td>1.0354245</td><td>0.4080790</td><td>0.8399929</td><td>0.8515259</td><td>1.2036066</td><td>...      </td><td>0.8559925</td><td>0.6882432</td><td>1.4611154</td><td>0.8667822</td><td>1.1131137</td><td>0.4561789</td><td>0.7266069</td><td>1.2821247</td><td>0.5161930</td><td>0.1160140</td></tr>\n",
       "</tbody>\n",
       "</table>\n"
      ],
      "text/latex": [
       "\\begin{tabular}{r|llllllllllllllllllllllllllllllllllllllllllllllllllllllllllllllllllllllllllllllllllllllllllllllllllllllllllllllllllllllllllllllllllll}\n",
       "  & GSM535948 & GSM535949 & GSM535950 & GSM535951 & GSM536032 & GSM536033 & GSM536034 & GSM536035 & GSM536036 & GSM536037 & ... & GSM536940 & GSM536941 & GSM536942 & GSM536943 & GSM536944 & GSM536945 & GSM536946 & GSM536947 & GSM536948 & GSM536949\\\\\n",
       "\\hline\n",
       "\t1 & 2.0986104 & 1.5929736 & 2.0657654 & 1.9367518 & 3.0840305 & 1.4019698 & 2.4504991 & 1.6901235 & 2.5808569 & 1.7924373 & ...       & 1.8534091 & 0.9118681 & 1.6605868 & 1.1688542 & 1.5983266 & 1.1721886 & 1.9493306 & 1.2041725 & 2.0158068 & 1.3637457\\\\\n",
       "\t2 & 0.7333574 & 0.8399929 & 1.0308224 & 0.9542492 & 1.0555292 & 1.4700461 & 0.9288461 & 0.5216308 & 0.5963851 & 0.5225417 & ...       & 1.1883918 & 1.0196318 & 0.6274911 & 1.0790539 & 0.4545549 & 0.7912074 & 1.2166653 & 0.1668406 & 0.6890023 & 0.9875542\\\\\n",
       "\t3 & 0.5039829 & 0.9297959 & 1.0981256 & 0.9137435 & 1.0633318 & 0.8065142 & 0.6399327 & 1.2200867 & 0.6464072 & 1.0252166 & ...       & 1.0000000 & 1.4528507 & 1.2321097 & 0.5859632 & 1.0565673 & 0.7429692 & 1.7570503 & 1.2604537 & 0.7453872 & 1.4880015\\\\\n",
       "\t4 & 0.8259570 & 1.0901518 & 1.1039977 & 0.8177058 & 1.0441557 & 0.8937276 & 0.6958637 & 1.5439266 & 0.9412473 & 0.7798712 & ...       & 1.0706494 & 0.7490254 & 1.1788759 & 1.6571702 & 1.5802996 & 0.7510524 & 0.7886776 & 0.5204183 & 0.6855914 & 1.0085250\\\\\n",
       "\t5 & 0.8391105 & 0.8649771 & 1.0997250 & 1.0211528 & 0.9737434 & 1.2246580 & 0.4954929 & 1.2041725 & 0.8052302 & 1.0954633 & ...       & 1.0000000 & 0.2864171 & 0.8904994 & 0.8537570 & 0.7575671 & 1.0451862 & 0.2235326 & 0.6264337 & 0.5231497 & 1.0550104\\\\\n",
       "\t6 & 0.6893821 & 0.9297959 & 0.9975022 & 0.9900347 & 1.1473307 & 1.0354245 & 0.4080790 & 0.8399929 & 0.8515259 & 1.2036066 & ...       & 0.8559925 & 0.6882432 & 1.4611154 & 0.8667822 & 1.1131137 & 0.4561789 & 0.7266069 & 1.2821247 & 0.5161930 & 0.1160140\\\\\n",
       "\\end{tabular}\n"
      ],
      "text/markdown": [
       "\n",
       "| <!--/--> | GSM535948 | GSM535949 | GSM535950 | GSM535951 | GSM536032 | GSM536033 | GSM536034 | GSM536035 | GSM536036 | GSM536037 | ... | GSM536940 | GSM536941 | GSM536942 | GSM536943 | GSM536944 | GSM536945 | GSM536946 | GSM536947 | GSM536948 | GSM536949 | \n",
       "|---|---|---|---|---|---|\n",
       "| 1 | 2.0986104 | 1.5929736 | 2.0657654 | 1.9367518 | 3.0840305 | 1.4019698 | 2.4504991 | 1.6901235 | 2.5808569 | 1.7924373 | ...       | 1.8534091 | 0.9118681 | 1.6605868 | 1.1688542 | 1.5983266 | 1.1721886 | 1.9493306 | 1.2041725 | 2.0158068 | 1.3637457 | \n",
       "| 2 | 0.7333574 | 0.8399929 | 1.0308224 | 0.9542492 | 1.0555292 | 1.4700461 | 0.9288461 | 0.5216308 | 0.5963851 | 0.5225417 | ...       | 1.1883918 | 1.0196318 | 0.6274911 | 1.0790539 | 0.4545549 | 0.7912074 | 1.2166653 | 0.1668406 | 0.6890023 | 0.9875542 | \n",
       "| 3 | 0.5039829 | 0.9297959 | 1.0981256 | 0.9137435 | 1.0633318 | 0.8065142 | 0.6399327 | 1.2200867 | 0.6464072 | 1.0252166 | ...       | 1.0000000 | 1.4528507 | 1.2321097 | 0.5859632 | 1.0565673 | 0.7429692 | 1.7570503 | 1.2604537 | 0.7453872 | 1.4880015 | \n",
       "| 4 | 0.8259570 | 1.0901518 | 1.1039977 | 0.8177058 | 1.0441557 | 0.8937276 | 0.6958637 | 1.5439266 | 0.9412473 | 0.7798712 | ...       | 1.0706494 | 0.7490254 | 1.1788759 | 1.6571702 | 1.5802996 | 0.7510524 | 0.7886776 | 0.5204183 | 0.6855914 | 1.0085250 | \n",
       "| 5 | 0.8391105 | 0.8649771 | 1.0997250 | 1.0211528 | 0.9737434 | 1.2246580 | 0.4954929 | 1.2041725 | 0.8052302 | 1.0954633 | ...       | 1.0000000 | 0.2864171 | 0.8904994 | 0.8537570 | 0.7575671 | 1.0451862 | 0.2235326 | 0.6264337 | 0.5231497 | 1.0550104 | \n",
       "| 6 | 0.6893821 | 0.9297959 | 0.9975022 | 0.9900347 | 1.1473307 | 1.0354245 | 0.4080790 | 0.8399929 | 0.8515259 | 1.2036066 | ...       | 0.8559925 | 0.6882432 | 1.4611154 | 0.8667822 | 1.1131137 | 0.4561789 | 0.7266069 | 1.2821247 | 0.5161930 | 0.1160140 | \n",
       "\n",
       "\n"
      ],
      "text/plain": [
       "  GSM535948 GSM535949 GSM535950 GSM535951 GSM536032 GSM536033 GSM536034\n",
       "1 2.0986104 1.5929736 2.0657654 1.9367518 3.0840305 1.4019698 2.4504991\n",
       "2 0.7333574 0.8399929 1.0308224 0.9542492 1.0555292 1.4700461 0.9288461\n",
       "3 0.5039829 0.9297959 1.0981256 0.9137435 1.0633318 0.8065142 0.6399327\n",
       "4 0.8259570 1.0901518 1.1039977 0.8177058 1.0441557 0.8937276 0.6958637\n",
       "5 0.8391105 0.8649771 1.0997250 1.0211528 0.9737434 1.2246580 0.4954929\n",
       "6 0.6893821 0.9297959 0.9975022 0.9900347 1.1473307 1.0354245 0.4080790\n",
       "  GSM536035 GSM536036 GSM536037 ... GSM536940 GSM536941 GSM536942 GSM536943\n",
       "1 1.6901235 2.5808569 1.7924373 ... 1.8534091 0.9118681 1.6605868 1.1688542\n",
       "2 0.5216308 0.5963851 0.5225417 ... 1.1883918 1.0196318 0.6274911 1.0790539\n",
       "3 1.2200867 0.6464072 1.0252166 ... 1.0000000 1.4528507 1.2321097 0.5859632\n",
       "4 1.5439266 0.9412473 0.7798712 ... 1.0706494 0.7490254 1.1788759 1.6571702\n",
       "5 1.2041725 0.8052302 1.0954633 ... 1.0000000 0.2864171 0.8904994 0.8537570\n",
       "6 0.8399929 0.8515259 1.2036066 ... 0.8559925 0.6882432 1.4611154 0.8667822\n",
       "  GSM536944 GSM536945 GSM536946 GSM536947 GSM536948 GSM536949\n",
       "1 1.5983266 1.1721886 1.9493306 1.2041725 2.0158068 1.3637457\n",
       "2 0.4545549 0.7912074 1.2166653 0.1668406 0.6890023 0.9875542\n",
       "3 1.0565673 0.7429692 1.7570503 1.2604537 0.7453872 1.4880015\n",
       "4 1.5802996 0.7510524 0.7886776 0.5204183 0.6855914 1.0085250\n",
       "5 0.7575671 1.0451862 0.2235326 0.6264337 0.5231497 1.0550104\n",
       "6 1.1131137 0.4561789 0.7266069 1.2821247 0.5161930 0.1160140"
      ]
     },
     "metadata": {},
     "output_type": "display_data"
    }
   ],
   "source": [
    "#Adding 1 to all values to prevent negatives\n",
    "\n",
    "nat <- exprs(exprSetGSE)\n",
    "nat2 <- 2^nat\n",
    "nat3 <- nat2 +1\n",
    "nat4 <- log2(nat3)\n",
    "head(nat4)"
   ]
  },
  {
   "cell_type": "code",
   "execution_count": 10,
   "metadata": {
    "collapsed": false,
    "scrolled": true
   },
   "outputs": [
    {
     "name": "stderr",
     "output_type": "stream",
     "text": [
      "NMF algorithm: 'brunet'\n",
      "Multiple runs: 10\n",
      "Mode: parallel (3/4 core(s))\n"
     ]
    },
    {
     "name": "stdout",
     "output_type": "stream",
     "text": [
      "\r",
      "Runs: |                                                        \r",
      "Runs: |                                                  |   0%\r",
      "Runs: |                                                        \r",
      "Runs: |==================================================| 100%\n",
      "System time:\n",
      "   user  system elapsed \n",
      "   0.87    0.69 3658.50 \n"
     ]
    }
   ],
   "source": [
    "\n",
    "#Nonnegative matrix factorization on dataset.\n",
    "\n",
    "#K = 14 (factors)\n",
    "#nrun = 10 (NMF will run ten times and select the run with the lowest loss value)\n",
    "\n",
    "\n",
    "\n",
    "res <- nmf(nat4, 14, nrun = 10, .opt = \"v\")"
   ]
  },
  {
   "cell_type": "code",
   "execution_count": 11,
   "metadata": {
    "collapsed": false
   },
   "outputs": [
    {
     "data": {
      "image/png": "[encoded data removed]",
      "text/plain": [
       "plot without title"
      ]
     },
     "metadata": {},
     "output_type": "display_data"
    }
   ],
   "source": [
    "#Vaguely understand what I'm looking at.  No metric for what a \"good\" consensus looks like though.\n",
    "\n",
    "consensusmap(res)"
   ]
  },
  {
   "cell_type": "code",
   "execution_count": 12,
   "metadata": {
    "collapsed": false
   },
   "outputs": [
    {
     "data": {
      "image/png": "[encoded data removed]",
      "text/plain": [
       "plot without title"
      ]
     },
     "metadata": {},
     "output_type": "display_data"
    }
   ],
   "source": [
    "\n",
    "#This is moderately more informative.  Ideally sample of the same group (per phylo tree) would cluster on the same\n",
    "#factors (vertical axis).  Some of that is in evidence, but still not sure how much better it could be.\n",
    "\n",
    "\n",
    "coefmap(res)"
   ]
  },
  {
   "cell_type": "code",
   "execution_count": 13,
   "metadata": {
    "collapsed": false
   },
   "outputs": [],
   "source": [
    "#Using result from previous nmf run to seed NMF to convergence with alternating least-squares solver.\n",
    "#This takes a while to run.\n",
    "\n",
    "res2 = nmf(nat4, 14, method=\"snmf/l\", seed = res)"
   ]
  },
  {
   "cell_type": "code",
   "execution_count": 14,
   "metadata": {
    "collapsed": false
   },
   "outputs": [
    {
     "data": {
      "text/html": [
       "<ol class=list-inline>\n",
       "\t<li>14</li>\n",
       "\t<li>132</li>\n",
       "</ol>\n"
      ],
      "text/latex": [
       "\\begin{enumerate*}\n",
       "\\item 14\n",
       "\\item 132\n",
       "\\end{enumerate*}\n"
      ],
      "text/markdown": [
       "1. 14\n",
       "2. 132\n",
       "\n",
       "\n"
      ],
      "text/plain": [
       "[1]  14 132"
      ]
     },
     "metadata": {},
     "output_type": "display_data"
    },
    {
     "data": {
      "text/html": [
       "<ol class=list-inline>\n",
       "\t<li>45220</li>\n",
       "\t<li>14</li>\n",
       "</ol>\n"
      ],
      "text/latex": [
       "\\begin{enumerate*}\n",
       "\\item 45220\n",
       "\\item 14\n",
       "\\end{enumerate*}\n"
      ],
      "text/markdown": [
       "1. 45220\n",
       "2. 14\n",
       "\n",
       "\n"
      ],
      "text/plain": [
       "[1] 45220    14"
      ]
     },
     "metadata": {},
     "output_type": "display_data"
    }
   ],
   "source": [
    "\n",
    "#NMF factors matrix V into matrices W (weights) and H (basis).\n",
    "\n",
    "#In this case, S = W (sample loadings) and G = H (gene loadings).\n",
    "\n",
    "\n",
    "S <- coef(res2)\n",
    "G <- basis(res2)\n",
    "\n",
    "dim(S)\n",
    "dim(G)"
   ]
  },
  {
   "cell_type": "code",
   "execution_count": 11,
   "metadata": {
    "collapsed": true
   },
   "outputs": [],
   "source": [
    "#Checkpoint\n",
    "\n",
    "#G <- read.csv('geneLoadings.csv', header=TRUE)\n",
    "#S <- read.csv('sampleLoadings.csv', header=TRUE)"
   ]
  },
  {
   "cell_type": "code",
   "execution_count": 27,
   "metadata": {
    "collapsed": false
   },
   "outputs": [],
   "source": [
    "#Normalize both G and S to make the column means of G = 1\n",
    "\n",
    "for (i in 1:14){\n",
    "    colMean <- mean(G[,i])\n",
    "    G[,i] <- G[,i] / colMean\n",
    "    S[i,] <- S[i,] * colMean\n",
    "}"
   ]
  },
  {
   "cell_type": "code",
   "execution_count": null,
   "metadata": {
    "collapsed": false
   },
   "outputs": [],
   "source": []
  },
  {
   "cell_type": "code",
   "execution_count": 47,
   "metadata": {
    "collapsed": true
   },
   "outputs": [],
   "source": [
    "G2 <- G"
   ]
  },
  {
   "cell_type": "code",
   "execution_count": 48,
   "metadata": {
    "collapsed": true
   },
   "outputs": [],
   "source": [
    "for (j in 1:14){\n",
    "    for (i in 1:45220){\n",
    "        G2[i, j] <- G2[i,j] - max(G[i, -j]) \n",
    "    }\n",
    "}\n",
    "\n",
    "#G2 is a matrix of differences between gene loading values (G) and the max loading value for that gene (outside of the present)\n",
    "#column.\n"
   ]
  },
  {
   "cell_type": "code",
   "execution_count": 68,
   "metadata": {
    "collapsed": false
   },
   "outputs": [
    {
     "name": "stdout",
     "output_type": "stream",
     "text": [
      "[1] 0.2055004\n",
      "[1] 1.194306\n",
      "[1] -0.9888051\n"
     ]
    }
   ],
   "source": [
    "#sanity check\n",
    "\n",
    "print(G[12,12])\n",
    "print(max(G[12,]))\n",
    "print(G2[12,12])"
   ]
  },
  {
   "cell_type": "code",
   "execution_count": 51,
   "metadata": {
    "collapsed": false
   },
   "outputs": [],
   "source": [
    "#G3 is the difference absolute values\n",
    "\n",
    "G3 <- abs(G2)"
   ]
  },
  {
   "cell_type": "code",
   "execution_count": 123,
   "metadata": {
    "collapsed": false
   },
   "outputs": [],
   "source": [
    "topGenes <- mat.or.vec(50,14)\n",
    "\n",
    "for(i in 1:14){\n",
    "    topGenes[,i]<-rownames(head(G3[order(G3[,i], decreasing=TRUE),0],50))  \n",
    "}"
   ]
  },
  {
   "cell_type": "code",
   "execution_count": 122,
   "metadata": {
    "collapsed": false
   },
   "outputs": [
    {
     "data": {
      "text/html": [
       "<table>\n",
       "<tbody>\n",
       "\t<tr><td>38087</td><td>954  </td><td>991  </td><td>33640</td><td>33640</td><td>33640</td><td>33640</td><td>33640</td><td>6149 </td><td>33640</td><td>33640</td><td>38087</td><td>38087</td><td>33640</td></tr>\n",
       "\t<tr><td>991  </td><td>38087</td><td>6149 </td><td>991  </td><td>991  </td><td>991  </td><td>991  </td><td>6149 </td><td>38087</td><td>991  </td><td>6149 </td><td>6149 </td><td>43042</td><td>991  </td></tr>\n",
       "\t<tr><td>33640</td><td>22493</td><td>954  </td><td>38087</td><td>6149 </td><td>38087</td><td>6149 </td><td>38087</td><td>991  </td><td>38087</td><td>991  </td><td>17637</td><td>15132</td><td>6149 </td></tr>\n",
       "\t<tr><td>6149 </td><td>17637</td><td>43042</td><td>6149 </td><td>35093</td><td>6149 </td><td>22493</td><td>40820</td><td>40820</td><td>6149 </td><td>38087</td><td>954  </td><td>6149 </td><td>35093</td></tr>\n",
       "\t<tr><td>17637</td><td>43042</td><td>33640</td><td>22493</td><td>13192</td><td>40820</td><td>31321</td><td>17637</td><td>17637</td><td>17637</td><td>954  </td><td>22493</td><td>38355</td><td>34851</td></tr>\n",
       "\t<tr><td>35093</td><td>6149 </td><td>17637</td><td>13192</td><td>38087</td><td>22493</td><td>17637</td><td>22493</td><td>33640</td><td>954  </td><td>22493</td><td>43042</td><td>40820</td><td>13192</td></tr>\n",
       "\t<tr><td>34851</td><td>31321</td><td>22493</td><td>35093</td><td>17637</td><td>13572</td><td>954  </td><td>13572</td><td>954  </td><td>35093</td><td>17637</td><td>13572</td><td>954  </td><td>43311</td></tr>\n",
       "\t<tr><td>40820</td><td>40820</td><td>38087</td><td>22708</td><td>22708</td><td>3403 </td><td>13192</td><td>954  </td><td>22493</td><td>31321</td><td>15132</td><td>40820</td><td>17637</td><td>4520 </td></tr>\n",
       "\t<tr><td>22493</td><td>14159</td><td>4520 </td><td>43042</td><td>22493</td><td>15132</td><td>34851</td><td>991  </td><td>43042</td><td>13192</td><td>40820</td><td>38355</td><td>13192</td><td>17637</td></tr>\n",
       "\t<tr><td>43042</td><td>13572</td><td>35093</td><td>954  </td><td>34851</td><td>38355</td><td>22708</td><td>38355</td><td>13572</td><td>40820</td><td>31321</td><td>15132</td><td>13572</td><td>22708</td></tr>\n",
       "\t<tr><td>13192</td><td>15132</td><td>40820</td><td>17637</td><td>954  </td><td>43042</td><td>4520 </td><td>15132</td><td>38355</td><td>13572</td><td>43042</td><td>31321</td><td>22708</td><td>23450</td></tr>\n",
       "\t<tr><td>24359</td><td>4520 </td><td>31321</td><td>34851</td><td>43042</td><td>17637</td><td>43311</td><td>3403 </td><td>15132</td><td>22493</td><td>24359</td><td>24359</td><td>3403 </td><td>38087</td></tr>\n",
       "\t<tr><td>13572</td><td>38355</td><td>13572</td><td>15132</td><td>40820</td><td>954  </td><td>14159</td><td>43042</td><td>3403 </td><td>22708</td><td>35093</td><td>3403 </td><td>24359</td><td>22493</td></tr>\n",
       "\t<tr><td>38355</td><td>32636</td><td>15132</td><td>31321</td><td>23450</td><td>24359</td><td>35093</td><td>24359</td><td>31321</td><td>43042</td><td>38355</td><td>11374</td><td>43311</td><td>954  </td></tr>\n",
       "\t<tr><td>3403 </td><td>991  </td><td>14159</td><td>40820</td><td>31321</td><td>35093</td><td>38087</td><td>36120</td><td>24359</td><td>34851</td><td>13572</td><td>14159</td><td>33640</td><td>31321</td></tr>\n",
       "\t<tr><td>15132</td><td>3403 </td><td>35618</td><td>5959 </td><td>43311</td><td>36120</td><td>5959 </td><td>11374</td><td>36120</td><td>32636</td><td>11374</td><td>32636</td><td>36120</td><td>40820</td></tr>\n",
       "\t<tr><td>954  </td><td>11374</td><td>38355</td><td>13572</td><td>15132</td><td>31321</td><td>25789</td><td>45160</td><td>11374</td><td>4520 </td><td>14159</td><td>4520 </td><td>31321</td><td>43042</td></tr>\n",
       "\t<tr><td>31321</td><td>18889</td><td>14064</td><td>43311</td><td>13572</td><td>11374</td><td>26108</td><td>13192</td><td>45160</td><td>43311</td><td>32636</td><td>45160</td><td>991  </td><td>14159</td></tr>\n",
       "\t<tr><td>22708</td><td>45160</td><td>3403 </td><td>38355</td><td>14159</td><td>45160</td><td>32636</td><td>31321</td><td>13192</td><td>23450</td><td>3403 </td><td>36120</td><td>32636</td><td>5959 </td></tr>\n",
       "\t<tr><td>11374</td><td>35618</td><td>32636</td><td>11374</td><td>38355</td><td>32385</td><td>40820</td><td>22708</td><td>22708</td><td>38355</td><td>45160</td><td>991  </td><td>34851</td><td>13572</td></tr>\n",
       "\t<tr><td>14159</td><td>9896 </td><td>36120</td><td>26108</td><td>24359</td><td>23450</td><td>43042</td><td>32385</td><td>14159</td><td>15132</td><td>34851</td><td>32385</td><td>45160</td><td>15132</td></tr>\n",
       "\t<tr><td>45160</td><td>6305 </td><td>11374</td><td>3403 </td><td>14064</td><td>14159</td><td>6305 </td><td>34851</td><td>32385</td><td>14159</td><td>4311 </td><td>4311 </td><td>22493</td><td>32636</td></tr>\n",
       "\t<tr><td>36120</td><td>33640</td><td>45160</td><td>4520 </td><td>32636</td><td>13192</td><td>23450</td><td>14159</td><td>35093</td><td>5959 </td><td>13192</td><td>18889</td><td>4311 </td><td>38355</td></tr>\n",
       "\t<tr><td>32636</td><td>24359</td><td>2309 </td><td>14159</td><td>35618</td><td>43311</td><td>14064</td><td>43311</td><td>32636</td><td>3403 </td><td>18889</td><td>35618</td><td>32385</td><td>25789</td></tr>\n",
       "\t<tr><td>32385</td><td>14064</td><td>35035</td><td>24359</td><td>11374</td><td>22708</td><td>35618</td><td>4520 </td><td>4520 </td><td>4311 </td><td>36120</td><td>9896 </td><td>14159</td><td>35618</td></tr>\n",
       "\t<tr><td>18889</td><td>36120</td><td>6305 </td><td>23450</td><td>3403 </td><td>16290</td><td>9896 </td><td>35093</td><td>34851</td><td>26108</td><td>35618</td><td>6305 </td><td>35618</td><td>15217</td></tr>\n",
       "\t<tr><td>14064</td><td>4311 </td><td>4311 </td><td>45160</td><td>15217</td><td>32636</td><td>18889</td><td>23450</td><td>16290</td><td>45160</td><td>9896 </td><td>33640</td><td>11374</td><td>14064</td></tr>\n",
       "\t<tr><td>35618</td><td>34851</td><td>32385</td><td>18889</td><td>18889</td><td>5959 </td><td>4311 </td><td>16290</td><td>43311</td><td>25789</td><td>6305 </td><td>14064</td><td>26108</td><td>11374</td></tr>\n",
       "\t<tr><td>6305 </td><td>25789</td><td>13192</td><td>32636</td><td>41867</td><td>34851</td><td>13572</td><td>32636</td><td>4311 </td><td>18889</td><td>32385</td><td>16290</td><td>14064</td><td>31545</td></tr>\n",
       "\t<tr><td>16290</td><td>3563 </td><td>43752</td><td>4311 </td><td>35035</td><td>18889</td><td>15217</td><td>5959 </td><td>18889</td><td>6305 </td><td>14064</td><td>3563 </td><td>16290</td><td>4311 </td></tr>\n",
       "\t<tr><td>15217</td><td>7057 </td><td>34851</td><td>25789</td><td>4311 </td><td>35618</td><td>31545</td><td>25789</td><td>35618</td><td>35618</td><td>16290</td><td>7057 </td><td>25789</td><td>29178</td></tr>\n",
       "\t<tr><td>29178</td><td>43752</td><td>33537</td><td>15217</td><td>45160</td><td>4311 </td><td>15132</td><td>26108</td><td>9896 </td><td>14064</td><td>22708</td><td>43752</td><td>35093</td><td>18889</td></tr>\n",
       "\t<tr><td>4311 </td><td>32385</td><td>9896 </td><td>14064</td><td>36120</td><td>14064</td><td>24359</td><td>4311 </td><td>6305 </td><td>9896 </td><td>31545</td><td>34851</td><td>6305 </td><td>9896 </td></tr>\n",
       "\t<tr><td>9896 </td><td>13482</td><td>13482</td><td>36120</td><td>9896 </td><td>9896 </td><td>3563 </td><td>18889</td><td>14064</td><td>2309 </td><td>23450</td><td>13482</td><td>15217</td><td>20752</td></tr>\n",
       "\t<tr><td>26108</td><td>33537</td><td>24359</td><td>25530</td><td>6305 </td><td>4520 </td><td>11374</td><td>9896 </td><td>23450</td><td>25530</td><td>37481</td><td>33537</td><td>3563 </td><td>26108</td></tr>\n",
       "\t<tr><td>16707</td><td>23471</td><td>16290</td><td>41867</td><td>37481</td><td>43752</td><td>38355</td><td>6305 </td><td>31545</td><td>36120</td><td>3563 </td><td>2309 </td><td>41867</td><td>24359</td></tr>\n",
       "\t<tr><td>23450</td><td>39826</td><td>37481</td><td>35035</td><td>26108</td><td>35035</td><td>7057 </td><td>15217</td><td>3563 </td><td>3563 </td><td>7057 </td><td>23471</td><td>18889</td><td>6305 </td></tr>\n",
       "\t<tr><td>7057 </td><td>16707</td><td>23471</td><td>35618</td><td>15542</td><td>3515 </td><td>6748 </td><td>35618</td><td>35035</td><td>31545</td><td>43752</td><td>3733 </td><td>9896 </td><td>37481</td></tr>\n",
       "\t<tr><td>30909</td><td>30909</td><td>18889</td><td>9896 </td><td>33537</td><td>37481</td><td>43752</td><td>2309 </td><td>7057 </td><td>15217</td><td>13482</td><td>39826</td><td>43752</td><td>3403 </td></tr>\n",
       "\t<tr><td>20752</td><td>34715</td><td>3813 </td><td>37481</td><td>3515 </td><td>31545</td><td>13482</td><td>31545</td><td>43752</td><td>7057 </td><td>33537</td><td>3146 </td><td>13482</td><td>35035</td></tr>\n",
       "\t<tr><td>43752</td><td>34590</td><td>39826</td><td>32385</td><td>20752</td><td>3563 </td><td>33537</td><td>25530</td><td>13482</td><td>6748 </td><td>23471</td><td>21186</td><td>15542</td><td>34590</td></tr>\n",
       "\t<tr><td>39826</td><td>16290</td><td>3146 </td><td>31545</td><td>29178</td><td>6305 </td><td>35035</td><td>41867</td><td>33537</td><td>43752</td><td>3733 </td><td>17186</td><td>20752</td><td>2309 </td></tr>\n",
       "\t<tr><td>35035</td><td>17186</td><td>16707</td><td>6748 </td><td>31385</td><td>23471</td><td>20752</td><td>37481</td><td>6748 </td><td>13482</td><td>43311</td><td>6748 </td><td>23471</td><td>45160</td></tr>\n",
       "\t<tr><td>44934</td><td>21186</td><td>3563 </td><td>6305 </td><td>32385</td><td>31385</td><td>15542</td><td>6748 </td><td>23471</td><td>37481</td><td>35035</td><td>18756</td><td>44934</td><td>41867</td></tr>\n",
       "\t<tr><td>40859</td><td>27338</td><td>40859</td><td>15542</td><td>39826</td><td>16707</td><td>41867</td><td>7057 </td><td>15217</td><td>33537</td><td>39826</td><td>25789</td><td>29178</td><td>2121 </td></tr>\n",
       "\t<tr><td>43334</td><td>40859</td><td>43334</td><td>3515 </td><td>4520 </td><td>7057 </td><td>39826</td><td>15542</td><td>15542</td><td>15542</td><td>3515 </td><td>33785</td><td>39826</td><td>15542</td></tr>\n",
       "\t<tr><td>43311</td><td>25986</td><td>31545</td><td>44934</td><td>43752</td><td>39826</td><td>23471</td><td>12702</td><td>39826</td><td>23471</td><td>29178</td><td>34590</td><td>23450</td><td>42097</td></tr>\n",
       "\t<tr><td>34715</td><td>43334</td><td>7057 </td><td>29235</td><td>44934</td><td>30909</td><td>2309 </td><td>20752</td><td>37481</td><td>20752</td><td>27578</td><td>34071</td><td>2309 </td><td>39826</td></tr>\n",
       "\t<tr><td>13482</td><td>38917</td><td>31748</td><td>34590</td><td>27578</td><td>18499</td><td>12702</td><td>14064</td><td>20752</td><td>44934</td><td>8582 </td><td>9617 </td><td>4520 </td><td>36120</td></tr>\n",
       "\t<tr><td>41867</td><td>5959 </td><td>30909</td><td>30806</td><td>31545</td><td>25340</td><td>3733 </td><td>44934</td><td>3146 </td><td>3733 </td><td>31385</td><td>42478</td><td>28926</td><td>27578</td></tr>\n",
       "</tbody>\n",
       "</table>\n"
      ],
      "text/latex": [
       "\\begin{tabular}{llllllllllllll}\n",
       "\t 38087 & 954   & 991   & 33640 & 33640 & 33640 & 33640 & 33640 & 6149  & 33640 & 33640 & 38087 & 38087 & 33640\\\\\n",
       "\t 991   & 38087 & 6149  & 991   & 991   & 991   & 991   & 6149  & 38087 & 991   & 6149  & 6149  & 43042 & 991  \\\\\n",
       "\t 33640 & 22493 & 954   & 38087 & 6149  & 38087 & 6149  & 38087 & 991   & 38087 & 991   & 17637 & 15132 & 6149 \\\\\n",
       "\t 6149  & 17637 & 43042 & 6149  & 35093 & 6149  & 22493 & 40820 & 40820 & 6149  & 38087 & 954   & 6149  & 35093\\\\\n",
       "\t 17637 & 43042 & 33640 & 22493 & 13192 & 40820 & 31321 & 17637 & 17637 & 17637 & 954   & 22493 & 38355 & 34851\\\\\n",
       "\t 35093 & 6149  & 17637 & 13192 & 38087 & 22493 & 17637 & 22493 & 33640 & 954   & 22493 & 43042 & 40820 & 13192\\\\\n",
       "\t 34851 & 31321 & 22493 & 35093 & 17637 & 13572 & 954   & 13572 & 954   & 35093 & 17637 & 13572 & 954   & 43311\\\\\n",
       "\t 40820 & 40820 & 38087 & 22708 & 22708 & 3403  & 13192 & 954   & 22493 & 31321 & 15132 & 40820 & 17637 & 4520 \\\\\n",
       "\t 22493 & 14159 & 4520  & 43042 & 22493 & 15132 & 34851 & 991   & 43042 & 13192 & 40820 & 38355 & 13192 & 17637\\\\\n",
       "\t 43042 & 13572 & 35093 & 954   & 34851 & 38355 & 22708 & 38355 & 13572 & 40820 & 31321 & 15132 & 13572 & 22708\\\\\n",
       "\t 13192 & 15132 & 40820 & 17637 & 954   & 43042 & 4520  & 15132 & 38355 & 13572 & 43042 & 31321 & 22708 & 23450\\\\\n",
       "\t 24359 & 4520  & 31321 & 34851 & 43042 & 17637 & 43311 & 3403  & 15132 & 22493 & 24359 & 24359 & 3403  & 38087\\\\\n",
       "\t 13572 & 38355 & 13572 & 15132 & 40820 & 954   & 14159 & 43042 & 3403  & 22708 & 35093 & 3403  & 24359 & 22493\\\\\n",
       "\t 38355 & 32636 & 15132 & 31321 & 23450 & 24359 & 35093 & 24359 & 31321 & 43042 & 38355 & 11374 & 43311 & 954  \\\\\n",
       "\t 3403  & 991   & 14159 & 40820 & 31321 & 35093 & 38087 & 36120 & 24359 & 34851 & 13572 & 14159 & 33640 & 31321\\\\\n",
       "\t 15132 & 3403  & 35618 & 5959  & 43311 & 36120 & 5959  & 11374 & 36120 & 32636 & 11374 & 32636 & 36120 & 40820\\\\\n",
       "\t 954   & 11374 & 38355 & 13572 & 15132 & 31321 & 25789 & 45160 & 11374 & 4520  & 14159 & 4520  & 31321 & 43042\\\\\n",
       "\t 31321 & 18889 & 14064 & 43311 & 13572 & 11374 & 26108 & 13192 & 45160 & 43311 & 32636 & 45160 & 991   & 14159\\\\\n",
       "\t 22708 & 45160 & 3403  & 38355 & 14159 & 45160 & 32636 & 31321 & 13192 & 23450 & 3403  & 36120 & 32636 & 5959 \\\\\n",
       "\t 11374 & 35618 & 32636 & 11374 & 38355 & 32385 & 40820 & 22708 & 22708 & 38355 & 45160 & 991   & 34851 & 13572\\\\\n",
       "\t 14159 & 9896  & 36120 & 26108 & 24359 & 23450 & 43042 & 32385 & 14159 & 15132 & 34851 & 32385 & 45160 & 15132\\\\\n",
       "\t 45160 & 6305  & 11374 & 3403  & 14064 & 14159 & 6305  & 34851 & 32385 & 14159 & 4311  & 4311  & 22493 & 32636\\\\\n",
       "\t 36120 & 33640 & 45160 & 4520  & 32636 & 13192 & 23450 & 14159 & 35093 & 5959  & 13192 & 18889 & 4311  & 38355\\\\\n",
       "\t 32636 & 24359 & 2309  & 14159 & 35618 & 43311 & 14064 & 43311 & 32636 & 3403  & 18889 & 35618 & 32385 & 25789\\\\\n",
       "\t 32385 & 14064 & 35035 & 24359 & 11374 & 22708 & 35618 & 4520  & 4520  & 4311  & 36120 & 9896  & 14159 & 35618\\\\\n",
       "\t 18889 & 36120 & 6305  & 23450 & 3403  & 16290 & 9896  & 35093 & 34851 & 26108 & 35618 & 6305  & 35618 & 15217\\\\\n",
       "\t 14064 & 4311  & 4311  & 45160 & 15217 & 32636 & 18889 & 23450 & 16290 & 45160 & 9896  & 33640 & 11374 & 14064\\\\\n",
       "\t 35618 & 34851 & 32385 & 18889 & 18889 & 5959  & 4311  & 16290 & 43311 & 25789 & 6305  & 14064 & 26108 & 11374\\\\\n",
       "\t 6305  & 25789 & 13192 & 32636 & 41867 & 34851 & 13572 & 32636 & 4311  & 18889 & 32385 & 16290 & 14064 & 31545\\\\\n",
       "\t 16290 & 3563  & 43752 & 4311  & 35035 & 18889 & 15217 & 5959  & 18889 & 6305  & 14064 & 3563  & 16290 & 4311 \\\\\n",
       "\t 15217 & 7057  & 34851 & 25789 & 4311  & 35618 & 31545 & 25789 & 35618 & 35618 & 16290 & 7057  & 25789 & 29178\\\\\n",
       "\t 29178 & 43752 & 33537 & 15217 & 45160 & 4311  & 15132 & 26108 & 9896  & 14064 & 22708 & 43752 & 35093 & 18889\\\\\n",
       "\t 4311  & 32385 & 9896  & 14064 & 36120 & 14064 & 24359 & 4311  & 6305  & 9896  & 31545 & 34851 & 6305  & 9896 \\\\\n",
       "\t 9896  & 13482 & 13482 & 36120 & 9896  & 9896  & 3563  & 18889 & 14064 & 2309  & 23450 & 13482 & 15217 & 20752\\\\\n",
       "\t 26108 & 33537 & 24359 & 25530 & 6305  & 4520  & 11374 & 9896  & 23450 & 25530 & 37481 & 33537 & 3563  & 26108\\\\\n",
       "\t 16707 & 23471 & 16290 & 41867 & 37481 & 43752 & 38355 & 6305  & 31545 & 36120 & 3563  & 2309  & 41867 & 24359\\\\\n",
       "\t 23450 & 39826 & 37481 & 35035 & 26108 & 35035 & 7057  & 15217 & 3563  & 3563  & 7057  & 23471 & 18889 & 6305 \\\\\n",
       "\t 7057  & 16707 & 23471 & 35618 & 15542 & 3515  & 6748  & 35618 & 35035 & 31545 & 43752 & 3733  & 9896  & 37481\\\\\n",
       "\t 30909 & 30909 & 18889 & 9896  & 33537 & 37481 & 43752 & 2309  & 7057  & 15217 & 13482 & 39826 & 43752 & 3403 \\\\\n",
       "\t 20752 & 34715 & 3813  & 37481 & 3515  & 31545 & 13482 & 31545 & 43752 & 7057  & 33537 & 3146  & 13482 & 35035\\\\\n",
       "\t 43752 & 34590 & 39826 & 32385 & 20752 & 3563  & 33537 & 25530 & 13482 & 6748  & 23471 & 21186 & 15542 & 34590\\\\\n",
       "\t 39826 & 16290 & 3146  & 31545 & 29178 & 6305  & 35035 & 41867 & 33537 & 43752 & 3733  & 17186 & 20752 & 2309 \\\\\n",
       "\t 35035 & 17186 & 16707 & 6748  & 31385 & 23471 & 20752 & 37481 & 6748  & 13482 & 43311 & 6748  & 23471 & 45160\\\\\n",
       "\t 44934 & 21186 & 3563  & 6305  & 32385 & 31385 & 15542 & 6748  & 23471 & 37481 & 35035 & 18756 & 44934 & 41867\\\\\n",
       "\t 40859 & 27338 & 40859 & 15542 & 39826 & 16707 & 41867 & 7057  & 15217 & 33537 & 39826 & 25789 & 29178 & 2121 \\\\\n",
       "\t 43334 & 40859 & 43334 & 3515  & 4520  & 7057  & 39826 & 15542 & 15542 & 15542 & 3515  & 33785 & 39826 & 15542\\\\\n",
       "\t 43311 & 25986 & 31545 & 44934 & 43752 & 39826 & 23471 & 12702 & 39826 & 23471 & 29178 & 34590 & 23450 & 42097\\\\\n",
       "\t 34715 & 43334 & 7057  & 29235 & 44934 & 30909 & 2309  & 20752 & 37481 & 20752 & 27578 & 34071 & 2309  & 39826\\\\\n",
       "\t 13482 & 38917 & 31748 & 34590 & 27578 & 18499 & 12702 & 14064 & 20752 & 44934 & 8582  & 9617  & 4520  & 36120\\\\\n",
       "\t 41867 & 5959  & 30909 & 30806 & 31545 & 25340 & 3733  & 44934 & 3146  & 3733  & 31385 & 42478 & 28926 & 27578\\\\\n",
       "\\end{tabular}\n"
      ],
      "text/markdown": [
       "\n",
       "| 38087 | 954   | 991   | 33640 | 33640 | 33640 | 33640 | 33640 | 6149  | 33640 | 33640 | 38087 | 38087 | 33640 | \n",
       "| 991   | 38087 | 6149  | 991   | 991   | 991   | 991   | 6149  | 38087 | 991   | 6149  | 6149  | 43042 | 991   | \n",
       "| 33640 | 22493 | 954   | 38087 | 6149  | 38087 | 6149  | 38087 | 991   | 38087 | 991   | 17637 | 15132 | 6149  | \n",
       "| 6149  | 17637 | 43042 | 6149  | 35093 | 6149  | 22493 | 40820 | 40820 | 6149  | 38087 | 954   | 6149  | 35093 | \n",
       "| 17637 | 43042 | 33640 | 22493 | 13192 | 40820 | 31321 | 17637 | 17637 | 17637 | 954   | 22493 | 38355 | 34851 | \n",
       "| 35093 | 6149  | 17637 | 13192 | 38087 | 22493 | 17637 | 22493 | 33640 | 954   | 22493 | 43042 | 40820 | 13192 | \n",
       "| 34851 | 31321 | 22493 | 35093 | 17637 | 13572 | 954   | 13572 | 954   | 35093 | 17637 | 13572 | 954   | 43311 | \n",
       "| 40820 | 40820 | 38087 | 22708 | 22708 | 3403  | 13192 | 954   | 22493 | 31321 | 15132 | 40820 | 17637 | 4520  | \n",
       "| 22493 | 14159 | 4520  | 43042 | 22493 | 15132 | 34851 | 991   | 43042 | 13192 | 40820 | 38355 | 13192 | 17637 | \n",
       "| 43042 | 13572 | 35093 | 954   | 34851 | 38355 | 22708 | 38355 | 13572 | 40820 | 31321 | 15132 | 13572 | 22708 | \n",
       "| 13192 | 15132 | 40820 | 17637 | 954   | 43042 | 4520  | 15132 | 38355 | 13572 | 43042 | 31321 | 22708 | 23450 | \n",
       "| 24359 | 4520  | 31321 | 34851 | 43042 | 17637 | 43311 | 3403  | 15132 | 22493 | 24359 | 24359 | 3403  | 38087 | \n",
       "| 13572 | 38355 | 13572 | 15132 | 40820 | 954   | 14159 | 43042 | 3403  | 22708 | 35093 | 3403  | 24359 | 22493 | \n",
       "| 38355 | 32636 | 15132 | 31321 | 23450 | 24359 | 35093 | 24359 | 31321 | 43042 | 38355 | 11374 | 43311 | 954   | \n",
       "| 3403  | 991   | 14159 | 40820 | 31321 | 35093 | 38087 | 36120 | 24359 | 34851 | 13572 | 14159 | 33640 | 31321 | \n",
       "| 15132 | 3403  | 35618 | 5959  | 43311 | 36120 | 5959  | 11374 | 36120 | 32636 | 11374 | 32636 | 36120 | 40820 | \n",
       "| 954   | 11374 | 38355 | 13572 | 15132 | 31321 | 25789 | 45160 | 11374 | 4520  | 14159 | 4520  | 31321 | 43042 | \n",
       "| 31321 | 18889 | 14064 | 43311 | 13572 | 11374 | 26108 | 13192 | 45160 | 43311 | 32636 | 45160 | 991   | 14159 | \n",
       "| 22708 | 45160 | 3403  | 38355 | 14159 | 45160 | 32636 | 31321 | 13192 | 23450 | 3403  | 36120 | 32636 | 5959  | \n",
       "| 11374 | 35618 | 32636 | 11374 | 38355 | 32385 | 40820 | 22708 | 22708 | 38355 | 45160 | 991   | 34851 | 13572 | \n",
       "| 14159 | 9896  | 36120 | 26108 | 24359 | 23450 | 43042 | 32385 | 14159 | 15132 | 34851 | 32385 | 45160 | 15132 | \n",
       "| 45160 | 6305  | 11374 | 3403  | 14064 | 14159 | 6305  | 34851 | 32385 | 14159 | 4311  | 4311  | 22493 | 32636 | \n",
       "| 36120 | 33640 | 45160 | 4520  | 32636 | 13192 | 23450 | 14159 | 35093 | 5959  | 13192 | 18889 | 4311  | 38355 | \n",
       "| 32636 | 24359 | 2309  | 14159 | 35618 | 43311 | 14064 | 43311 | 32636 | 3403  | 18889 | 35618 | 32385 | 25789 | \n",
       "| 32385 | 14064 | 35035 | 24359 | 11374 | 22708 | 35618 | 4520  | 4520  | 4311  | 36120 | 9896  | 14159 | 35618 | \n",
       "| 18889 | 36120 | 6305  | 23450 | 3403  | 16290 | 9896  | 35093 | 34851 | 26108 | 35618 | 6305  | 35618 | 15217 | \n",
       "| 14064 | 4311  | 4311  | 45160 | 15217 | 32636 | 18889 | 23450 | 16290 | 45160 | 9896  | 33640 | 11374 | 14064 | \n",
       "| 35618 | 34851 | 32385 | 18889 | 18889 | 5959  | 4311  | 16290 | 43311 | 25789 | 6305  | 14064 | 26108 | 11374 | \n",
       "| 6305  | 25789 | 13192 | 32636 | 41867 | 34851 | 13572 | 32636 | 4311  | 18889 | 32385 | 16290 | 14064 | 31545 | \n",
       "| 16290 | 3563  | 43752 | 4311  | 35035 | 18889 | 15217 | 5959  | 18889 | 6305  | 14064 | 3563  | 16290 | 4311  | \n",
       "| 15217 | 7057  | 34851 | 25789 | 4311  | 35618 | 31545 | 25789 | 35618 | 35618 | 16290 | 7057  | 25789 | 29178 | \n",
       "| 29178 | 43752 | 33537 | 15217 | 45160 | 4311  | 15132 | 26108 | 9896  | 14064 | 22708 | 43752 | 35093 | 18889 | \n",
       "| 4311  | 32385 | 9896  | 14064 | 36120 | 14064 | 24359 | 4311  | 6305  | 9896  | 31545 | 34851 | 6305  | 9896  | \n",
       "| 9896  | 13482 | 13482 | 36120 | 9896  | 9896  | 3563  | 18889 | 14064 | 2309  | 23450 | 13482 | 15217 | 20752 | \n",
       "| 26108 | 33537 | 24359 | 25530 | 6305  | 4520  | 11374 | 9896  | 23450 | 25530 | 37481 | 33537 | 3563  | 26108 | \n",
       "| 16707 | 23471 | 16290 | 41867 | 37481 | 43752 | 38355 | 6305  | 31545 | 36120 | 3563  | 2309  | 41867 | 24359 | \n",
       "| 23450 | 39826 | 37481 | 35035 | 26108 | 35035 | 7057  | 15217 | 3563  | 3563  | 7057  | 23471 | 18889 | 6305  | \n",
       "| 7057  | 16707 | 23471 | 35618 | 15542 | 3515  | 6748  | 35618 | 35035 | 31545 | 43752 | 3733  | 9896  | 37481 | \n",
       "| 30909 | 30909 | 18889 | 9896  | 33537 | 37481 | 43752 | 2309  | 7057  | 15217 | 13482 | 39826 | 43752 | 3403  | \n",
       "| 20752 | 34715 | 3813  | 37481 | 3515  | 31545 | 13482 | 31545 | 43752 | 7057  | 33537 | 3146  | 13482 | 35035 | \n",
       "| 43752 | 34590 | 39826 | 32385 | 20752 | 3563  | 33537 | 25530 | 13482 | 6748  | 23471 | 21186 | 15542 | 34590 | \n",
       "| 39826 | 16290 | 3146  | 31545 | 29178 | 6305  | 35035 | 41867 | 33537 | 43752 | 3733  | 17186 | 20752 | 2309  | \n",
       "| 35035 | 17186 | 16707 | 6748  | 31385 | 23471 | 20752 | 37481 | 6748  | 13482 | 43311 | 6748  | 23471 | 45160 | \n",
       "| 44934 | 21186 | 3563  | 6305  | 32385 | 31385 | 15542 | 6748  | 23471 | 37481 | 35035 | 18756 | 44934 | 41867 | \n",
       "| 40859 | 27338 | 40859 | 15542 | 39826 | 16707 | 41867 | 7057  | 15217 | 33537 | 39826 | 25789 | 29178 | 2121  | \n",
       "| 43334 | 40859 | 43334 | 3515  | 4520  | 7057  | 39826 | 15542 | 15542 | 15542 | 3515  | 33785 | 39826 | 15542 | \n",
       "| 43311 | 25986 | 31545 | 44934 | 43752 | 39826 | 23471 | 12702 | 39826 | 23471 | 29178 | 34590 | 23450 | 42097 | \n",
       "| 34715 | 43334 | 7057  | 29235 | 44934 | 30909 | 2309  | 20752 | 37481 | 20752 | 27578 | 34071 | 2309  | 39826 | \n",
       "| 13482 | 38917 | 31748 | 34590 | 27578 | 18499 | 12702 | 14064 | 20752 | 44934 | 8582  | 9617  | 4520  | 36120 | \n",
       "| 41867 | 5959  | 30909 | 30806 | 31545 | 25340 | 3733  | 44934 | 3146  | 3733  | 31385 | 42478 | 28926 | 27578 | \n",
       "\n",
       "\n"
      ],
      "text/plain": [
       "      [,1]  [,2]  [,3]  [,4]  [,5]  [,6]  [,7]  [,8]  [,9]  [,10] [,11] [,12]\n",
       " [1,] 38087 954   991   33640 33640 33640 33640 33640 6149  33640 33640 38087\n",
       " [2,] 991   38087 6149  991   991   991   991   6149  38087 991   6149  6149 \n",
       " [3,] 33640 22493 954   38087 6149  38087 6149  38087 991   38087 991   17637\n",
       " [4,] 6149  17637 43042 6149  35093 6149  22493 40820 40820 6149  38087 954  \n",
       " [5,] 17637 43042 33640 22493 13192 40820 31321 17637 17637 17637 954   22493\n",
       " [6,] 35093 6149  17637 13192 38087 22493 17637 22493 33640 954   22493 43042\n",
       " [7,] 34851 31321 22493 35093 17637 13572 954   13572 954   35093 17637 13572\n",
       " [8,] 40820 40820 38087 22708 22708 3403  13192 954   22493 31321 15132 40820\n",
       " [9,] 22493 14159 4520  43042 22493 15132 34851 991   43042 13192 40820 38355\n",
       "[10,] 43042 13572 35093 954   34851 38355 22708 38355 13572 40820 31321 15132\n",
       "[11,] 13192 15132 40820 17637 954   43042 4520  15132 38355 13572 43042 31321\n",
       "[12,] 24359 4520  31321 34851 43042 17637 43311 3403  15132 22493 24359 24359\n",
       "[13,] 13572 38355 13572 15132 40820 954   14159 43042 3403  22708 35093 3403 \n",
       "[14,] 38355 32636 15132 31321 23450 24359 35093 24359 31321 43042 38355 11374\n",
       "[15,] 3403  991   14159 40820 31321 35093 38087 36120 24359 34851 13572 14159\n",
       "[16,] 15132 3403  35618 5959  43311 36120 5959  11374 36120 32636 11374 32636\n",
       "[17,] 954   11374 38355 13572 15132 31321 25789 45160 11374 4520  14159 4520 \n",
       "[18,] 31321 18889 14064 43311 13572 11374 26108 13192 45160 43311 32636 45160\n",
       "[19,] 22708 45160 3403  38355 14159 45160 32636 31321 13192 23450 3403  36120\n",
       "[20,] 11374 35618 32636 11374 38355 32385 40820 22708 22708 38355 45160 991  \n",
       "[21,] 14159 9896  36120 26108 24359 23450 43042 32385 14159 15132 34851 32385\n",
       "[22,] 45160 6305  11374 3403  14064 14159 6305  34851 32385 14159 4311  4311 \n",
       "[23,] 36120 33640 45160 4520  32636 13192 23450 14159 35093 5959  13192 18889\n",
       "[24,] 32636 24359 2309  14159 35618 43311 14064 43311 32636 3403  18889 35618\n",
       "[25,] 32385 14064 35035 24359 11374 22708 35618 4520  4520  4311  36120 9896 \n",
       "[26,] 18889 36120 6305  23450 3403  16290 9896  35093 34851 26108 35618 6305 \n",
       "[27,] 14064 4311  4311  45160 15217 32636 18889 23450 16290 45160 9896  33640\n",
       "[28,] 35618 34851 32385 18889 18889 5959  4311  16290 43311 25789 6305  14064\n",
       "[29,] 6305  25789 13192 32636 41867 34851 13572 32636 4311  18889 32385 16290\n",
       "[30,] 16290 3563  43752 4311  35035 18889 15217 5959  18889 6305  14064 3563 \n",
       "[31,] 15217 7057  34851 25789 4311  35618 31545 25789 35618 35618 16290 7057 \n",
       "[32,] 29178 43752 33537 15217 45160 4311  15132 26108 9896  14064 22708 43752\n",
       "[33,] 4311  32385 9896  14064 36120 14064 24359 4311  6305  9896  31545 34851\n",
       "[34,] 9896  13482 13482 36120 9896  9896  3563  18889 14064 2309  23450 13482\n",
       "[35,] 26108 33537 24359 25530 6305  4520  11374 9896  23450 25530 37481 33537\n",
       "[36,] 16707 23471 16290 41867 37481 43752 38355 6305  31545 36120 3563  2309 \n",
       "[37,] 23450 39826 37481 35035 26108 35035 7057  15217 3563  3563  7057  23471\n",
       "[38,] 7057  16707 23471 35618 15542 3515  6748  35618 35035 31545 43752 3733 \n",
       "[39,] 30909 30909 18889 9896  33537 37481 43752 2309  7057  15217 13482 39826\n",
       "[40,] 20752 34715 3813  37481 3515  31545 13482 31545 43752 7057  33537 3146 \n",
       "[41,] 43752 34590 39826 32385 20752 3563  33537 25530 13482 6748  23471 21186\n",
       "[42,] 39826 16290 3146  31545 29178 6305  35035 41867 33537 43752 3733  17186\n",
       "[43,] 35035 17186 16707 6748  31385 23471 20752 37481 6748  13482 43311 6748 \n",
       "[44,] 44934 21186 3563  6305  32385 31385 15542 6748  23471 37481 35035 18756\n",
       "[45,] 40859 27338 40859 15542 39826 16707 41867 7057  15217 33537 39826 25789\n",
       "[46,] 43334 40859 43334 3515  4520  7057  39826 15542 15542 15542 3515  33785\n",
       "[47,] 43311 25986 31545 44934 43752 39826 23471 12702 39826 23471 29178 34590\n",
       "[48,] 34715 43334 7057  29235 44934 30909 2309  20752 37481 20752 27578 34071\n",
       "[49,] 13482 38917 31748 34590 27578 18499 12702 14064 20752 44934 8582  9617 \n",
       "[50,] 41867 5959  30909 30806 31545 25340 3733  44934 3146  3733  31385 42478\n",
       "      [,13] [,14]\n",
       " [1,] 38087 33640\n",
       " [2,] 43042 991  \n",
       " [3,] 15132 6149 \n",
       " [4,] 6149  35093\n",
       " [5,] 38355 34851\n",
       " [6,] 40820 13192\n",
       " [7,] 954   43311\n",
       " [8,] 17637 4520 \n",
       " [9,] 13192 17637\n",
       "[10,] 13572 22708\n",
       "[11,] 22708 23450\n",
       "[12,] 3403  38087\n",
       "[13,] 24359 22493\n",
       "[14,] 43311 954  \n",
       "[15,] 33640 31321\n",
       "[16,] 36120 40820\n",
       "[17,] 31321 43042\n",
       "[18,] 991   14159\n",
       "[19,] 32636 5959 \n",
       "[20,] 34851 13572\n",
       "[21,] 45160 15132\n",
       "[22,] 22493 32636\n",
       "[23,] 4311  38355\n",
       "[24,] 32385 25789\n",
       "[25,] 14159 35618\n",
       "[26,] 35618 15217\n",
       "[27,] 11374 14064\n",
       "[28,] 26108 11374\n",
       "[29,] 14064 31545\n",
       "[30,] 16290 4311 \n",
       "[31,] 25789 29178\n",
       "[32,] 35093 18889\n",
       "[33,] 6305  9896 \n",
       "[34,] 15217 20752\n",
       "[35,] 3563  26108\n",
       "[36,] 41867 24359\n",
       "[37,] 18889 6305 \n",
       "[38,] 9896  37481\n",
       "[39,] 43752 3403 \n",
       "[40,] 13482 35035\n",
       "[41,] 15542 34590\n",
       "[42,] 20752 2309 \n",
       "[43,] 23471 45160\n",
       "[44,] 44934 41867\n",
       "[45,] 29178 2121 \n",
       "[46,] 39826 15542\n",
       "[47,] 23450 42097\n",
       "[48,] 2309  39826\n",
       "[49,] 4520  36120\n",
       "[50,] 28926 27578"
      ]
     },
     "metadata": {},
     "output_type": "display_data"
    }
   ],
   "source": [
    "topGenes"
   ]
  },
  {
   "cell_type": "code",
   "execution_count": null,
   "metadata": {
    "collapsed": true
   },
   "outputs": [],
   "source": []
  }
 ],
 "metadata": {
  "anaconda-cloud": {},
  "kernelspec": {
   "display_name": "R",
   "language": "R",
   "name": "ir"
  },
  "language_info": {
   "codemirror_mode": "r",
   "file_extension": ".r",
   "mimetype": "text/x-r-source",
   "name": "R",
   "pygments_lexer": "r",
   "version": "3.3.2"
  }
 },
 "nbformat": 4,
 "nbformat_minor": 1
}
